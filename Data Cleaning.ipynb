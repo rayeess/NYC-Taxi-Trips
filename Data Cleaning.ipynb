{
 "cells": [
  {
   "cell_type": "code",
   "execution_count": 1,
   "id": "8d7b98b8",
   "metadata": {},
   "outputs": [],
   "source": [
    "# Importing libraries\n",
    "import pandas as pd\n",
    "import numpy as np\n",
    "import seaborn as sns"
   ]
  },
  {
   "cell_type": "code",
   "execution_count": 2,
   "id": "bb5331f0",
   "metadata": {},
   "outputs": [],
   "source": [
    "pd.set_option(\"max_colwidth\", None)\n",
    "pd.set_option(\"display.max_columns\", None)"
   ]
  },
  {
   "cell_type": "code",
   "execution_count": 3,
   "id": "b940a8ee",
   "metadata": {},
   "outputs": [
    {
     "data": {
      "text/html": [
       "<div>\n",
       "<style scoped>\n",
       "    .dataframe tbody tr th:only-of-type {\n",
       "        vertical-align: middle;\n",
       "    }\n",
       "\n",
       "    .dataframe tbody tr th {\n",
       "        vertical-align: top;\n",
       "    }\n",
       "\n",
       "    .dataframe thead th {\n",
       "        text-align: right;\n",
       "    }\n",
       "</style>\n",
       "<table border=\"1\" class=\"dataframe\">\n",
       "  <thead>\n",
       "    <tr style=\"text-align: right;\">\n",
       "      <th></th>\n",
       "      <th>Field</th>\n",
       "      <th>Description</th>\n",
       "    </tr>\n",
       "  </thead>\n",
       "  <tbody>\n",
       "    <tr>\n",
       "      <th>0</th>\n",
       "      <td>VendorID</td>\n",
       "      <td>A code indicating the LPEP provider that provided the record (1= Creative Mobile Technologies, LLC; 2= Verifone Inc.)</td>\n",
       "    </tr>\n",
       "    <tr>\n",
       "      <th>1</th>\n",
       "      <td>lpep_pickup_datetime</td>\n",
       "      <td>The date and time when the meter was engaged</td>\n",
       "    </tr>\n",
       "    <tr>\n",
       "      <th>2</th>\n",
       "      <td>lpep_dropoff_datetime</td>\n",
       "      <td>The date and time when the meter was disengaged</td>\n",
       "    </tr>\n",
       "    <tr>\n",
       "      <th>3</th>\n",
       "      <td>store_and_fwd_flag</td>\n",
       "      <td>This flag indicates whether the trip record was held in vehicle memory before sending to the vendor, aka �store and forward,� because the vehicle did not have a connection to the server (Y= store and forward trip; N= not a store and forward trip)</td>\n",
       "    </tr>\n",
       "    <tr>\n",
       "      <th>4</th>\n",
       "      <td>RatecodeID</td>\n",
       "      <td>The final rate code in effect at the end of the trip (1= Standard rate; 2= JFK; 3= Newark; 4= Nassau or Westchester; 5= Negotiated fare; 6= Group ride)</td>\n",
       "    </tr>\n",
       "    <tr>\n",
       "      <th>5</th>\n",
       "      <td>PULocationID</td>\n",
       "      <td>TLC Taxi Zone in which the taximeter was engaged</td>\n",
       "    </tr>\n",
       "    <tr>\n",
       "      <th>6</th>\n",
       "      <td>DOLocationID</td>\n",
       "      <td>TLC Taxi Zone in which the taximeter was disengaged</td>\n",
       "    </tr>\n",
       "    <tr>\n",
       "      <th>7</th>\n",
       "      <td>passenger_count</td>\n",
       "      <td>The number of passengers in the vehicle (this is a driver entered value)</td>\n",
       "    </tr>\n",
       "    <tr>\n",
       "      <th>8</th>\n",
       "      <td>trip_distance</td>\n",
       "      <td>The elapsed trip distance in miles reported by the taximeter</td>\n",
       "    </tr>\n",
       "    <tr>\n",
       "      <th>9</th>\n",
       "      <td>fare_amount</td>\n",
       "      <td>The time-and-distance fare calculated by the meter</td>\n",
       "    </tr>\n",
       "    <tr>\n",
       "      <th>10</th>\n",
       "      <td>extra</td>\n",
       "      <td>Miscellaneous extras and surcharges (this only includes the $0.50 and $1 rush hour and overnight charges)</td>\n",
       "    </tr>\n",
       "    <tr>\n",
       "      <th>11</th>\n",
       "      <td>mta_tax</td>\n",
       "      <td>$0.50 MTA tax that is automatically triggered based on the metered rate in use</td>\n",
       "    </tr>\n",
       "    <tr>\n",
       "      <th>12</th>\n",
       "      <td>tip_amount</td>\n",
       "      <td>Tip amount (automatically populated for credit card tips - cash tips are not included)</td>\n",
       "    </tr>\n",
       "    <tr>\n",
       "      <th>13</th>\n",
       "      <td>tolls_amount</td>\n",
       "      <td>Total amount of all tolls paid in trip</td>\n",
       "    </tr>\n",
       "    <tr>\n",
       "      <th>14</th>\n",
       "      <td>improvement_surcharge</td>\n",
       "      <td>$0.30 improvement surcharge assessed on hailed trips at the flag drop</td>\n",
       "    </tr>\n",
       "    <tr>\n",
       "      <th>15</th>\n",
       "      <td>total_amount</td>\n",
       "      <td>The total amount charged to passengers (does not include cash tips)</td>\n",
       "    </tr>\n",
       "    <tr>\n",
       "      <th>16</th>\n",
       "      <td>payment_type</td>\n",
       "      <td>A numeric code signifying how the passenger paid for the trip (1= Credit card; 2= Cash; 3= No charge; 4= Dispute; 5= Unknown; 6= Voided trip)</td>\n",
       "    </tr>\n",
       "    <tr>\n",
       "      <th>17</th>\n",
       "      <td>trip_type</td>\n",
       "      <td>A code indicating whether the trip was a street-hail or a dispatch that is automatically assigned based on the metered rate in use but can be altered by the driver (1= Street-hail; 2= Dispatch)</td>\n",
       "    </tr>\n",
       "    <tr>\n",
       "      <th>18</th>\n",
       "      <td>congestion_surcharge</td>\n",
       "      <td>Congestion surcharge for trips that start, end or pass through the congestion zone in Manhattan, south of 96th street ($2.50 for non-shared trips in Yellow Taxis; $2.75 for non-shared trips in Green Taxis)</td>\n",
       "    </tr>\n",
       "  </tbody>\n",
       "</table>\n",
       "</div>"
      ],
      "text/plain": [
       "                    Field  \\\n",
       "0                VendorID   \n",
       "1    lpep_pickup_datetime   \n",
       "2   lpep_dropoff_datetime   \n",
       "3      store_and_fwd_flag   \n",
       "4              RatecodeID   \n",
       "5            PULocationID   \n",
       "6            DOLocationID   \n",
       "7         passenger_count   \n",
       "8           trip_distance   \n",
       "9             fare_amount   \n",
       "10                  extra   \n",
       "11                mta_tax   \n",
       "12             tip_amount   \n",
       "13           tolls_amount   \n",
       "14  improvement_surcharge   \n",
       "15           total_amount   \n",
       "16           payment_type   \n",
       "17              trip_type   \n",
       "18   congestion_surcharge   \n",
       "\n",
       "                                                                                                                                                                                                                                               Description  \n",
       "0                                                                                                                                    A code indicating the LPEP provider that provided the record (1= Creative Mobile Technologies, LLC; 2= Verifone Inc.)  \n",
       "1                                                                                                                                                                                                             The date and time when the meter was engaged  \n",
       "2                                                                                                                                                                                                          The date and time when the meter was disengaged  \n",
       "3   This flag indicates whether the trip record was held in vehicle memory before sending to the vendor, aka �store and forward,� because the vehicle did not have a connection to the server (Y= store and forward trip; N= not a store and forward trip)  \n",
       "4                                                                                                  The final rate code in effect at the end of the trip (1= Standard rate; 2= JFK; 3= Newark; 4= Nassau or Westchester; 5= Negotiated fare; 6= Group ride)  \n",
       "5                                                                                                                                                                                                         TLC Taxi Zone in which the taximeter was engaged  \n",
       "6                                                                                                                                                                                                      TLC Taxi Zone in which the taximeter was disengaged  \n",
       "7                                                                                                                                                                                 The number of passengers in the vehicle (this is a driver entered value)  \n",
       "8                                                                                                                                                                                             The elapsed trip distance in miles reported by the taximeter  \n",
       "9                                                                                                                                                                                                       The time-and-distance fare calculated by the meter  \n",
       "10                                                                                                                                               Miscellaneous extras and surcharges (this only includes the $0.50 and $1 rush hour and overnight charges)  \n",
       "11                                                                                                                                                                          $0.50 MTA tax that is automatically triggered based on the metered rate in use  \n",
       "12                                                                                                                                                                  Tip amount (automatically populated for credit card tips - cash tips are not included)  \n",
       "13                                                                                                                                                                                                                  Total amount of all tolls paid in trip  \n",
       "14                                                                                                                                                                                   $0.30 improvement surcharge assessed on hailed trips at the flag drop  \n",
       "15                                                                                                                                                                                     The total amount charged to passengers (does not include cash tips)  \n",
       "16                                                                                                           A numeric code signifying how the passenger paid for the trip (1= Credit card; 2= Cash; 3= No charge; 4= Dispute; 5= Unknown; 6= Voided trip)  \n",
       "17                                                       A code indicating whether the trip was a street-hail or a dispatch that is automatically assigned based on the metered rate in use but can be altered by the driver (1= Street-hail; 2= Dispatch)  \n",
       "18                                           Congestion surcharge for trips that start, end or pass through the congestion zone in Manhattan, south of 96th street ($2.50 for non-shared trips in Yellow Taxis; $2.75 for non-shared trips in Green Taxis)  "
      ]
     },
     "execution_count": 3,
     "metadata": {},
     "output_type": "execute_result"
    }
   ],
   "source": [
    "data_dictionary = pd.read_csv('data_dictionary.csv')\n",
    "\n",
    "data_dictionary"
   ]
  },
  {
   "cell_type": "code",
   "execution_count": 4,
   "id": "c70f7a98",
   "metadata": {},
   "outputs": [
    {
     "data": {
      "text/html": [
       "<div>\n",
       "<style scoped>\n",
       "    .dataframe tbody tr th:only-of-type {\n",
       "        vertical-align: middle;\n",
       "    }\n",
       "\n",
       "    .dataframe tbody tr th {\n",
       "        vertical-align: top;\n",
       "    }\n",
       "\n",
       "    .dataframe thead th {\n",
       "        text-align: right;\n",
       "    }\n",
       "</style>\n",
       "<table border=\"1\" class=\"dataframe\">\n",
       "  <thead>\n",
       "    <tr style=\"text-align: right;\">\n",
       "      <th></th>\n",
       "      <th>LocationID</th>\n",
       "      <th>Borough</th>\n",
       "      <th>Zone</th>\n",
       "      <th>service_zone</th>\n",
       "    </tr>\n",
       "  </thead>\n",
       "  <tbody>\n",
       "    <tr>\n",
       "      <th>0</th>\n",
       "      <td>1</td>\n",
       "      <td>EWR</td>\n",
       "      <td>Newark Airport</td>\n",
       "      <td>EWR</td>\n",
       "    </tr>\n",
       "    <tr>\n",
       "      <th>1</th>\n",
       "      <td>2</td>\n",
       "      <td>Queens</td>\n",
       "      <td>Jamaica Bay</td>\n",
       "      <td>Boro Zone</td>\n",
       "    </tr>\n",
       "    <tr>\n",
       "      <th>2</th>\n",
       "      <td>3</td>\n",
       "      <td>Bronx</td>\n",
       "      <td>Allerton/Pelham Gardens</td>\n",
       "      <td>Boro Zone</td>\n",
       "    </tr>\n",
       "    <tr>\n",
       "      <th>3</th>\n",
       "      <td>4</td>\n",
       "      <td>Manhattan</td>\n",
       "      <td>Alphabet City</td>\n",
       "      <td>Yellow Zone</td>\n",
       "    </tr>\n",
       "    <tr>\n",
       "      <th>4</th>\n",
       "      <td>5</td>\n",
       "      <td>Staten Island</td>\n",
       "      <td>Arden Heights</td>\n",
       "      <td>Boro Zone</td>\n",
       "    </tr>\n",
       "    <tr>\n",
       "      <th>...</th>\n",
       "      <td>...</td>\n",
       "      <td>...</td>\n",
       "      <td>...</td>\n",
       "      <td>...</td>\n",
       "    </tr>\n",
       "    <tr>\n",
       "      <th>260</th>\n",
       "      <td>261</td>\n",
       "      <td>Manhattan</td>\n",
       "      <td>World Trade Center</td>\n",
       "      <td>Yellow Zone</td>\n",
       "    </tr>\n",
       "    <tr>\n",
       "      <th>261</th>\n",
       "      <td>262</td>\n",
       "      <td>Manhattan</td>\n",
       "      <td>Yorkville East</td>\n",
       "      <td>Yellow Zone</td>\n",
       "    </tr>\n",
       "    <tr>\n",
       "      <th>262</th>\n",
       "      <td>263</td>\n",
       "      <td>Manhattan</td>\n",
       "      <td>Yorkville West</td>\n",
       "      <td>Yellow Zone</td>\n",
       "    </tr>\n",
       "    <tr>\n",
       "      <th>263</th>\n",
       "      <td>264</td>\n",
       "      <td>Unknown</td>\n",
       "      <td>NV</td>\n",
       "      <td>NaN</td>\n",
       "    </tr>\n",
       "    <tr>\n",
       "      <th>264</th>\n",
       "      <td>265</td>\n",
       "      <td>Unknown</td>\n",
       "      <td>NaN</td>\n",
       "      <td>NaN</td>\n",
       "    </tr>\n",
       "  </tbody>\n",
       "</table>\n",
       "<p>265 rows × 4 columns</p>\n",
       "</div>"
      ],
      "text/plain": [
       "     LocationID        Borough                     Zone service_zone\n",
       "0             1            EWR           Newark Airport          EWR\n",
       "1             2         Queens              Jamaica Bay    Boro Zone\n",
       "2             3          Bronx  Allerton/Pelham Gardens    Boro Zone\n",
       "3             4      Manhattan            Alphabet City  Yellow Zone\n",
       "4             5  Staten Island            Arden Heights    Boro Zone\n",
       "..          ...            ...                      ...          ...\n",
       "260         261      Manhattan       World Trade Center  Yellow Zone\n",
       "261         262      Manhattan           Yorkville East  Yellow Zone\n",
       "262         263      Manhattan           Yorkville West  Yellow Zone\n",
       "263         264        Unknown                       NV          NaN\n",
       "264         265        Unknown                      NaN          NaN\n",
       "\n",
       "[265 rows x 4 columns]"
      ]
     },
     "execution_count": 4,
     "metadata": {},
     "output_type": "execute_result"
    }
   ],
   "source": [
    "taxi_zones = pd.read_csv('taxi_zones.csv')\n",
    "\n",
    "taxi_zones"
   ]
  },
  {
   "cell_type": "code",
   "execution_count": 5,
   "id": "88571ff2",
   "metadata": {},
   "outputs": [
    {
     "data": {
      "text/html": [
       "<div>\n",
       "<style scoped>\n",
       "    .dataframe tbody tr th:only-of-type {\n",
       "        vertical-align: middle;\n",
       "    }\n",
       "\n",
       "    .dataframe tbody tr th {\n",
       "        vertical-align: top;\n",
       "    }\n",
       "\n",
       "    .dataframe thead th {\n",
       "        text-align: right;\n",
       "    }\n",
       "</style>\n",
       "<table border=\"1\" class=\"dataframe\">\n",
       "  <thead>\n",
       "    <tr style=\"text-align: right;\">\n",
       "      <th></th>\n",
       "      <th>Date</th>\n",
       "      <th>FiscalYear</th>\n",
       "      <th>FiscalQuarter</th>\n",
       "      <th>FiscalMonthNumber</th>\n",
       "      <th>FiscalMonthOfQuarter</th>\n",
       "      <th>FiscalWeekOfYear</th>\n",
       "      <th>DayOfWeek</th>\n",
       "      <th>FiscalMonthName</th>\n",
       "      <th>FiscalMonthYear</th>\n",
       "      <th>FiscalQuarterYear</th>\n",
       "      <th>DayOfMonthNumber</th>\n",
       "      <th>DayName</th>\n",
       "    </tr>\n",
       "  </thead>\n",
       "  <tbody>\n",
       "    <tr>\n",
       "      <th>0</th>\n",
       "      <td>2017-02-05</td>\n",
       "      <td>2017</td>\n",
       "      <td>1</td>\n",
       "      <td>1</td>\n",
       "      <td>1</td>\n",
       "      <td>1</td>\n",
       "      <td>0</td>\n",
       "      <td>February</td>\n",
       "      <td>17-Feb</td>\n",
       "      <td>12017</td>\n",
       "      <td>5</td>\n",
       "      <td>Sunday</td>\n",
       "    </tr>\n",
       "    <tr>\n",
       "      <th>1</th>\n",
       "      <td>2017-02-06</td>\n",
       "      <td>2017</td>\n",
       "      <td>1</td>\n",
       "      <td>1</td>\n",
       "      <td>1</td>\n",
       "      <td>1</td>\n",
       "      <td>1</td>\n",
       "      <td>February</td>\n",
       "      <td>17-Feb</td>\n",
       "      <td>12017</td>\n",
       "      <td>6</td>\n",
       "      <td>Monday</td>\n",
       "    </tr>\n",
       "    <tr>\n",
       "      <th>2</th>\n",
       "      <td>2017-02-07</td>\n",
       "      <td>2017</td>\n",
       "      <td>1</td>\n",
       "      <td>1</td>\n",
       "      <td>1</td>\n",
       "      <td>1</td>\n",
       "      <td>2</td>\n",
       "      <td>February</td>\n",
       "      <td>17-Feb</td>\n",
       "      <td>12017</td>\n",
       "      <td>7</td>\n",
       "      <td>Tuesday</td>\n",
       "    </tr>\n",
       "    <tr>\n",
       "      <th>3</th>\n",
       "      <td>2017-02-08</td>\n",
       "      <td>2017</td>\n",
       "      <td>1</td>\n",
       "      <td>1</td>\n",
       "      <td>1</td>\n",
       "      <td>1</td>\n",
       "      <td>3</td>\n",
       "      <td>February</td>\n",
       "      <td>17-Feb</td>\n",
       "      <td>12017</td>\n",
       "      <td>8</td>\n",
       "      <td>Wednesday</td>\n",
       "    </tr>\n",
       "    <tr>\n",
       "      <th>4</th>\n",
       "      <td>2017-02-09</td>\n",
       "      <td>2017</td>\n",
       "      <td>1</td>\n",
       "      <td>1</td>\n",
       "      <td>1</td>\n",
       "      <td>1</td>\n",
       "      <td>4</td>\n",
       "      <td>February</td>\n",
       "      <td>17-Feb</td>\n",
       "      <td>12017</td>\n",
       "      <td>9</td>\n",
       "      <td>Thursday</td>\n",
       "    </tr>\n",
       "    <tr>\n",
       "      <th>...</th>\n",
       "      <td>...</td>\n",
       "      <td>...</td>\n",
       "      <td>...</td>\n",
       "      <td>...</td>\n",
       "      <td>...</td>\n",
       "      <td>...</td>\n",
       "      <td>...</td>\n",
       "      <td>...</td>\n",
       "      <td>...</td>\n",
       "      <td>...</td>\n",
       "      <td>...</td>\n",
       "      <td>...</td>\n",
       "    </tr>\n",
       "    <tr>\n",
       "      <th>1451</th>\n",
       "      <td>2021-01-26</td>\n",
       "      <td>2020</td>\n",
       "      <td>4</td>\n",
       "      <td>12</td>\n",
       "      <td>3</td>\n",
       "      <td>52</td>\n",
       "      <td>2</td>\n",
       "      <td>January</td>\n",
       "      <td>20-Jan</td>\n",
       "      <td>42020</td>\n",
       "      <td>26</td>\n",
       "      <td>Tuesday</td>\n",
       "    </tr>\n",
       "    <tr>\n",
       "      <th>1452</th>\n",
       "      <td>2021-01-27</td>\n",
       "      <td>2020</td>\n",
       "      <td>4</td>\n",
       "      <td>12</td>\n",
       "      <td>3</td>\n",
       "      <td>52</td>\n",
       "      <td>3</td>\n",
       "      <td>January</td>\n",
       "      <td>20-Jan</td>\n",
       "      <td>42020</td>\n",
       "      <td>27</td>\n",
       "      <td>Wednesday</td>\n",
       "    </tr>\n",
       "    <tr>\n",
       "      <th>1453</th>\n",
       "      <td>2021-01-28</td>\n",
       "      <td>2020</td>\n",
       "      <td>4</td>\n",
       "      <td>12</td>\n",
       "      <td>3</td>\n",
       "      <td>52</td>\n",
       "      <td>4</td>\n",
       "      <td>January</td>\n",
       "      <td>20-Jan</td>\n",
       "      <td>42020</td>\n",
       "      <td>28</td>\n",
       "      <td>Thursday</td>\n",
       "    </tr>\n",
       "    <tr>\n",
       "      <th>1454</th>\n",
       "      <td>2021-01-29</td>\n",
       "      <td>2020</td>\n",
       "      <td>4</td>\n",
       "      <td>12</td>\n",
       "      <td>3</td>\n",
       "      <td>52</td>\n",
       "      <td>5</td>\n",
       "      <td>January</td>\n",
       "      <td>20-Jan</td>\n",
       "      <td>42020</td>\n",
       "      <td>29</td>\n",
       "      <td>Friday</td>\n",
       "    </tr>\n",
       "    <tr>\n",
       "      <th>1455</th>\n",
       "      <td>2021-01-30</td>\n",
       "      <td>2020</td>\n",
       "      <td>4</td>\n",
       "      <td>12</td>\n",
       "      <td>3</td>\n",
       "      <td>52</td>\n",
       "      <td>6</td>\n",
       "      <td>January</td>\n",
       "      <td>20-Jan</td>\n",
       "      <td>42020</td>\n",
       "      <td>30</td>\n",
       "      <td>Saturday</td>\n",
       "    </tr>\n",
       "  </tbody>\n",
       "</table>\n",
       "<p>1456 rows × 12 columns</p>\n",
       "</div>"
      ],
      "text/plain": [
       "            Date  FiscalYear  FiscalQuarter  FiscalMonthNumber  \\\n",
       "0     2017-02-05        2017              1                  1   \n",
       "1     2017-02-06        2017              1                  1   \n",
       "2     2017-02-07        2017              1                  1   \n",
       "3     2017-02-08        2017              1                  1   \n",
       "4     2017-02-09        2017              1                  1   \n",
       "...          ...         ...            ...                ...   \n",
       "1451  2021-01-26        2020              4                 12   \n",
       "1452  2021-01-27        2020              4                 12   \n",
       "1453  2021-01-28        2020              4                 12   \n",
       "1454  2021-01-29        2020              4                 12   \n",
       "1455  2021-01-30        2020              4                 12   \n",
       "\n",
       "      FiscalMonthOfQuarter  FiscalWeekOfYear  DayOfWeek FiscalMonthName  \\\n",
       "0                        1                 1          0        February   \n",
       "1                        1                 1          1        February   \n",
       "2                        1                 1          2        February   \n",
       "3                        1                 1          3        February   \n",
       "4                        1                 1          4        February   \n",
       "...                    ...               ...        ...             ...   \n",
       "1451                     3                52          2         January   \n",
       "1452                     3                52          3         January   \n",
       "1453                     3                52          4         January   \n",
       "1454                     3                52          5         January   \n",
       "1455                     3                52          6         January   \n",
       "\n",
       "     FiscalMonthYear  FiscalQuarterYear  DayOfMonthNumber    DayName  \n",
       "0             17-Feb              12017                 5     Sunday  \n",
       "1             17-Feb              12017                 6     Monday  \n",
       "2             17-Feb              12017                 7    Tuesday  \n",
       "3             17-Feb              12017                 8  Wednesday  \n",
       "4             17-Feb              12017                 9   Thursday  \n",
       "...              ...                ...               ...        ...  \n",
       "1451          20-Jan              42020                26    Tuesday  \n",
       "1452          20-Jan              42020                27  Wednesday  \n",
       "1453          20-Jan              42020                28   Thursday  \n",
       "1454          20-Jan              42020                29     Friday  \n",
       "1455          20-Jan              42020                30   Saturday  \n",
       "\n",
       "[1456 rows x 12 columns]"
      ]
     },
     "execution_count": 5,
     "metadata": {},
     "output_type": "execute_result"
    }
   ],
   "source": [
    "calendar = pd.read_csv('454_calendar.csv')\n",
    "\n",
    "calendar"
   ]
  },
  {
   "cell_type": "code",
   "execution_count": 6,
   "id": "32443834",
   "metadata": {},
   "outputs": [
    {
     "name": "stderr",
     "output_type": "stream",
     "text": [
      "C:\\ProgramData\\Anaconda3\\lib\\site-packages\\IPython\\core\\interactiveshell.py:3165: DtypeWarning: Columns (3) have mixed types.Specify dtype option on import or set low_memory=False.\n",
      "  has_raised = await self.run_ast_nodes(code_ast.body, cell_name,\n"
     ]
    },
    {
     "name": "stdout",
     "output_type": "stream",
     "text": [
      "(11740667, 18)\n",
      "(8807303, 18)\n",
      "(6044050, 19)\n",
      "(1734051, 19)\n"
     ]
    }
   ],
   "source": [
    "taxi_trips_2017 = pd.read_csv('taxi_trips/2017_taxi_trips.csv')\n",
    "taxi_trips_2018 = pd.read_csv('taxi_trips/2018_taxi_trips.csv')\n",
    "taxi_trips_2019 = pd.read_csv('taxi_trips/2019_taxi_trips.csv')\n",
    "taxi_trips_2020 = pd.read_csv('taxi_trips/2020_taxi_trips.csv')\n",
    "\n",
    "print(taxi_trips_2017.shape)\n",
    "print(taxi_trips_2018.shape)\n",
    "print(taxi_trips_2019.shape)\n",
    "print(taxi_trips_2020.shape)"
   ]
  },
  {
   "cell_type": "code",
   "execution_count": 7,
   "id": "27de5746",
   "metadata": {},
   "outputs": [
    {
     "name": "stdout",
     "output_type": "stream",
     "text": [
      "<class 'pandas.core.frame.DataFrame'>\n",
      "RangeIndex: 11740667 entries, 0 to 11740666\n",
      "Data columns (total 18 columns):\n",
      " #   Column                 Dtype  \n",
      "---  ------                 -----  \n",
      " 0   VendorID               int64  \n",
      " 1   lpep_pickup_datetime   object \n",
      " 2   lpep_dropoff_datetime  object \n",
      " 3   store_and_fwd_flag     object \n",
      " 4   RatecodeID             int64  \n",
      " 5   PULocationID           int64  \n",
      " 6   DOLocationID           int64  \n",
      " 7   passenger_count        int64  \n",
      " 8   trip_distance          float64\n",
      " 9   fare_amount            float64\n",
      " 10  extra                  float64\n",
      " 11  mta_tax                float64\n",
      " 12  tip_amount             float64\n",
      " 13  tolls_amount           float64\n",
      " 14  improvement_surcharge  float64\n",
      " 15  total_amount           float64\n",
      " 16  payment_type           int64  \n",
      " 17  trip_type              float64\n",
      "dtypes: float64(9), int64(6), object(3)\n",
      "memory usage: 1.6+ GB\n"
     ]
    }
   ],
   "source": [
    "taxi_trips_2017.info()"
   ]
  },
  {
   "cell_type": "code",
   "execution_count": 8,
   "id": "f6a84ed5",
   "metadata": {},
   "outputs": [
    {
     "name": "stdout",
     "output_type": "stream",
     "text": [
      "<class 'pandas.core.frame.DataFrame'>\n",
      "RangeIndex: 8807303 entries, 0 to 8807302\n",
      "Data columns (total 18 columns):\n",
      " #   Column                 Dtype  \n",
      "---  ------                 -----  \n",
      " 0   VendorID               int64  \n",
      " 1   lpep_pickup_datetime   object \n",
      " 2   lpep_dropoff_datetime  object \n",
      " 3   store_and_fwd_flag     object \n",
      " 4   RatecodeID             int64  \n",
      " 5   PULocationID           int64  \n",
      " 6   DOLocationID           int64  \n",
      " 7   passenger_count        int64  \n",
      " 8   trip_distance          float64\n",
      " 9   fare_amount            float64\n",
      " 10  extra                  float64\n",
      " 11  mta_tax                float64\n",
      " 12  tip_amount             float64\n",
      " 13  tolls_amount           float64\n",
      " 14  improvement_surcharge  float64\n",
      " 15  total_amount           float64\n",
      " 16  payment_type           int64  \n",
      " 17  trip_type              float64\n",
      "dtypes: float64(9), int64(6), object(3)\n",
      "memory usage: 1.2+ GB\n"
     ]
    }
   ],
   "source": [
    "taxi_trips_2018.info()"
   ]
  },
  {
   "cell_type": "code",
   "execution_count": 9,
   "id": "8834b859",
   "metadata": {},
   "outputs": [
    {
     "name": "stdout",
     "output_type": "stream",
     "text": [
      "<class 'pandas.core.frame.DataFrame'>\n",
      "RangeIndex: 6044050 entries, 0 to 6044049\n",
      "Data columns (total 19 columns):\n",
      " #   Column                 Dtype  \n",
      "---  ------                 -----  \n",
      " 0   VendorID               float64\n",
      " 1   lpep_pickup_datetime   object \n",
      " 2   lpep_dropoff_datetime  object \n",
      " 3   store_and_fwd_flag     object \n",
      " 4   RatecodeID             float64\n",
      " 5   PULocationID           int64  \n",
      " 6   DOLocationID           int64  \n",
      " 7   passenger_count        float64\n",
      " 8   trip_distance          float64\n",
      " 9   fare_amount            float64\n",
      " 10  extra                  float64\n",
      " 11  mta_tax                float64\n",
      " 12  tip_amount             float64\n",
      " 13  tolls_amount           float64\n",
      " 14  improvement_surcharge  float64\n",
      " 15  total_amount           float64\n",
      " 16  payment_type           float64\n",
      " 17  trip_type              float64\n",
      " 18  congestion_surcharge   float64\n",
      "dtypes: float64(14), int64(2), object(3)\n",
      "memory usage: 876.1+ MB\n"
     ]
    }
   ],
   "source": [
    "taxi_trips_2019.info()"
   ]
  },
  {
   "cell_type": "code",
   "execution_count": 10,
   "id": "67928c89",
   "metadata": {},
   "outputs": [
    {
     "name": "stdout",
     "output_type": "stream",
     "text": [
      "<class 'pandas.core.frame.DataFrame'>\n",
      "RangeIndex: 1734051 entries, 0 to 1734050\n",
      "Data columns (total 19 columns):\n",
      " #   Column                 Dtype  \n",
      "---  ------                 -----  \n",
      " 0   VendorID               float64\n",
      " 1   lpep_pickup_datetime   object \n",
      " 2   lpep_dropoff_datetime  object \n",
      " 3   store_and_fwd_flag     object \n",
      " 4   RatecodeID             float64\n",
      " 5   PULocationID           int64  \n",
      " 6   DOLocationID           int64  \n",
      " 7   passenger_count        float64\n",
      " 8   trip_distance          float64\n",
      " 9   fare_amount            float64\n",
      " 10  extra                  float64\n",
      " 11  mta_tax                float64\n",
      " 12  tip_amount             float64\n",
      " 13  tolls_amount           float64\n",
      " 14  improvement_surcharge  float64\n",
      " 15  total_amount           float64\n",
      " 16  payment_type           float64\n",
      " 17  trip_type              float64\n",
      " 18  congestion_surcharge   float64\n",
      "dtypes: float64(14), int64(2), object(3)\n",
      "memory usage: 251.4+ MB\n"
     ]
    }
   ],
   "source": [
    "taxi_trips_2020.info()"
   ]
  },
  {
   "cell_type": "code",
   "execution_count": 11,
   "id": "aaf58a91",
   "metadata": {},
   "outputs": [
    {
     "data": {
      "text/plain": [
       " 0.00    4346092\n",
       " 2.75     732668\n",
       " 2.50       4651\n",
       " 0.75         73\n",
       "-2.75         72\n",
       " 2.00          2\n",
       "-2.50          1\n",
       "-0.75          1\n",
       " 0.30          1\n",
       "Name: congestion_surcharge, dtype: int64"
      ]
     },
     "execution_count": 11,
     "metadata": {},
     "output_type": "execute_result"
    }
   ],
   "source": [
    "taxi_trips_2019['congestion_surcharge'].value_counts()"
   ]
  },
  {
   "cell_type": "code",
   "execution_count": 12,
   "id": "0c8c77f0",
   "metadata": {},
   "outputs": [
    {
     "data": {
      "text/plain": [
       " 0.00    993526\n",
       " 2.75    211706\n",
       " 2.50       709\n",
       "-2.75        11\n",
       " 0.75         7\n",
       "Name: congestion_surcharge, dtype: int64"
      ]
     },
     "execution_count": 12,
     "metadata": {},
     "output_type": "execute_result"
    }
   ],
   "source": [
    "taxi_trips_2020['congestion_surcharge'].value_counts()"
   ]
  },
  {
   "cell_type": "code",
   "execution_count": 13,
   "id": "02bf1ec7",
   "metadata": {},
   "outputs": [
    {
     "name": "stdout",
     "output_type": "stream",
     "text": [
      "(11740667, 19)\n",
      "(8807303, 19)\n"
     ]
    }
   ],
   "source": [
    "# congestion_surcharge is missing from taxi_trips_2017 and taxi_trips_2018. Adding the column to make all dataframes same width before concatenating the dataframes\n",
    "taxi_trips_2017['congestion_surcharge'] = 0.0\n",
    "taxi_trips_2018['congestion_surcharge'] = 0.0\n",
    "\n",
    "print(taxi_trips_2017.shape)\n",
    "print(taxi_trips_2018.shape)"
   ]
  },
  {
   "cell_type": "code",
   "execution_count": 14,
   "id": "f2486091",
   "metadata": {},
   "outputs": [
    {
     "data": {
      "text/plain": [
       "(28326071, 19)"
      ]
     },
     "execution_count": 14,
     "metadata": {},
     "output_type": "execute_result"
    }
   ],
   "source": [
    "# Concating all taxi trips\n",
    "taxi_trips = pd.concat([taxi_trips_2017, taxi_trips_2018, taxi_trips_2019, taxi_trips_2020]).reset_index(drop = True)\n",
    "\n",
    "taxi_trips.shape"
   ]
  },
  {
   "cell_type": "code",
   "execution_count": 15,
   "id": "a6b82dc6",
   "metadata": {},
   "outputs": [
    {
     "name": "stdout",
     "output_type": "stream",
     "text": [
      "Total rows in concatenated dataframe: 28326071\n",
      "Rows in each dataframe added up: 28326071\n"
     ]
    }
   ],
   "source": [
    "# Verifying the number of rows\n",
    "print(\"Total rows in concatenated dataframe: {}\".format(taxi_trips.shape[0]))\n",
    "print(\"Rows in each dataframe added up: {}\".format(taxi_trips_2017.shape[0] + taxi_trips_2018.shape[0] + taxi_trips_2019.shape[0] + taxi_trips_2020.shape[0]))"
   ]
  },
  {
   "cell_type": "code",
   "execution_count": 16,
   "id": "6c5f0e02",
   "metadata": {},
   "outputs": [
    {
     "name": "stdout",
     "output_type": "stream",
     "text": [
      "<class 'pandas.core.frame.DataFrame'>\n",
      "RangeIndex: 28326071 entries, 0 to 28326070\n",
      "Data columns (total 19 columns):\n",
      " #   Column                 Dtype  \n",
      "---  ------                 -----  \n",
      " 0   VendorID               float64\n",
      " 1   lpep_pickup_datetime   object \n",
      " 2   lpep_dropoff_datetime  object \n",
      " 3   store_and_fwd_flag     object \n",
      " 4   RatecodeID             float64\n",
      " 5   PULocationID           int64  \n",
      " 6   DOLocationID           int64  \n",
      " 7   passenger_count        float64\n",
      " 8   trip_distance          float64\n",
      " 9   fare_amount            float64\n",
      " 10  extra                  float64\n",
      " 11  mta_tax                float64\n",
      " 12  tip_amount             float64\n",
      " 13  tolls_amount           float64\n",
      " 14  improvement_surcharge  float64\n",
      " 15  total_amount           float64\n",
      " 16  payment_type           float64\n",
      " 17  trip_type              float64\n",
      " 18  congestion_surcharge   float64\n",
      "dtypes: float64(14), int64(2), object(3)\n",
      "memory usage: 4.0+ GB\n"
     ]
    }
   ],
   "source": [
    "taxi_trips.info()"
   ]
  },
  {
   "cell_type": "markdown",
   "id": "8ecbee94",
   "metadata": {},
   "source": [
    "## Data Types"
   ]
  },
  {
   "cell_type": "markdown",
   "id": "22cd4e65",
   "metadata": {},
   "source": [
    "<div class=\"alert alert-block alert-info\">\n",
    "    <h4>Data Types Inferred from Data Dictionary</h4><br>\n",
    "    <b>VendorID:</b> Integer<br>\n",
    "    <b>lpep_pickup_datetime:</b> DateTime - Done<br>\n",
    "    <b>lpep_dropoff_datetime:</b> DateTime - Done<br>\n",
    "    <b>store_and_fwd_flag:</b> String - Correct<br>\n",
    "    <b>RatecodeID:</b> Integer<br>\n",
    "    <b>PULocationID:</b> Integer - Correct<br>\n",
    "    <b>DOLocationID:</b> Integer - Correct<br>\n",
    "    <b>passenger_count:</b> Integer<br>\n",
    "    <b>trip_distance:</b> Float - Correct<br>\n",
    "    <b>fare_amount:</b> Float - Correct<br>\n",
    "    <b>extra:</b> Float - Correct<br>\n",
    "    <b>mta_tax:</b> Float - Correct<br>\n",
    "    <b>tip_amount:</b> Float - Correct<br>\n",
    "    <b>tolls_amount:</b> Float - Correct<br>\n",
    "    <b>improvement_surcharge:</b> Float - Correct<br>\n",
    "    <b>total_amount:</b> Float - Correct<br>\n",
    "    <b>payment_type:</b> Integer<br>\n",
    "    <b>trip_type:</b> Integer<br>\n",
    "    <b>congestion_surcharge:</b> Float - Correct<br>\n",
    "</div>"
   ]
  },
  {
   "cell_type": "markdown",
   "id": "2d02c53e",
   "metadata": {},
   "source": [
    "###### Converting String to DateTime format"
   ]
  },
  {
   "cell_type": "code",
   "execution_count": 17,
   "id": "a9b61dbb",
   "metadata": {},
   "outputs": [
    {
     "name": "stdout",
     "output_type": "stream",
     "text": [
      "datetime64[ns]\n",
      "datetime64[ns]\n"
     ]
    }
   ],
   "source": [
    "taxi_trips['lpep_pickup_datetime'] = pd.to_datetime(taxi_trips['lpep_pickup_datetime'])\n",
    "taxi_trips['lpep_dropoff_datetime'] = pd.to_datetime(taxi_trips['lpep_dropoff_datetime'])\n",
    "\n",
    "print(taxi_trips['lpep_pickup_datetime'].dtype)\n",
    "print(taxi_trips['lpep_dropoff_datetime'].dtype)"
   ]
  },
  {
   "cell_type": "markdown",
   "id": "154b1372",
   "metadata": {},
   "source": [
    "<div class=\"alert alert-block alert-info\">\n",
    "    <h4>Data Types Inferred from Data Dictionary</h4><br>\n",
    "    <b>VendorID:</b> Integer<br>\n",
    "    <b>RatecodeID:</b> Integer<br>\n",
    "    <b>passenger_count:</b> Integer<br>\n",
    "    <b>payment_type:</b> Integer<br>\n",
    "    <b>trip_type:</b> Integer<br>\n",
    "</div>"
   ]
  },
  {
   "cell_type": "markdown",
   "id": "d3f57a62",
   "metadata": {},
   "source": [
    "###### Converting Float to Integer"
   ]
  },
  {
   "cell_type": "code",
   "execution_count": 18,
   "id": "cbf256c0",
   "metadata": {},
   "outputs": [
    {
     "name": "stdout",
     "output_type": "stream",
     "text": [
      "2.0    22569744\n",
      "1.0     4814128\n",
      "Name: VendorID, dtype: int64\n",
      "1.0     26555346\n",
      "5.0       740222\n",
      "2.0        55534\n",
      "4.0        18498\n",
      "3.0        13769\n",
      "6.0          349\n",
      "99.0         154\n",
      "Name: RatecodeID, dtype: int64\n",
      "1.0    23244224\n",
      "2.0     2117741\n",
      "5.0      909801\n",
      "6.0      468953\n",
      "3.0      455954\n",
      "4.0      156794\n",
      "0.0       29101\n",
      "8.0         596\n",
      "7.0         538\n",
      "9.0         170\n",
      "Name: passenger_count, dtype: int64\n",
      "1.0    14793538\n",
      "2.0    12392982\n",
      "3.0      132220\n",
      "4.0       63966\n",
      "5.0        1166\n",
      "Name: payment_type, dtype: int64\n",
      "1.0    26640078\n",
      "2.0      743340\n",
      "Name: trip_type, dtype: int64\n"
     ]
    }
   ],
   "source": [
    "# Checking values in columns to see if it matches data dictionary\n",
    "print(taxi_trips['VendorID'].value_counts())\n",
    "print(taxi_trips['RatecodeID'].value_counts())\n",
    "print(taxi_trips['passenger_count'].value_counts())\n",
    "print(taxi_trips['payment_type'].value_counts())\n",
    "print(taxi_trips['trip_type'].value_counts())"
   ]
  },
  {
   "cell_type": "code",
   "execution_count": 19,
   "id": "c4802ef5",
   "metadata": {},
   "outputs": [],
   "source": [
    "taxi_trips['VendorID'] = taxi_trips['VendorID'].fillna(0.0).astype(int)\n",
    "taxi_trips['RatecodeID'] = taxi_trips['RatecodeID'].fillna(0.0).astype(int)\n",
    "taxi_trips['passenger_count'] = taxi_trips['passenger_count'].fillna(0.0).astype(int)\n",
    "taxi_trips['payment_type'] = taxi_trips['payment_type'].fillna(0.0).astype(int)\n",
    "taxi_trips['trip_type'] = taxi_trips['trip_type'].fillna(0.0).astype(int)"
   ]
  },
  {
   "cell_type": "markdown",
   "id": "b7e28821",
   "metadata": {},
   "source": [
    "## Column Values"
   ]
  },
  {
   "cell_type": "code",
   "execution_count": 20,
   "id": "0dacaa39",
   "metadata": {},
   "outputs": [
    {
     "name": "stdout",
     "output_type": "stream",
     "text": [
      "<class 'pandas.core.frame.DataFrame'>\n",
      "RangeIndex: 28326071 entries, 0 to 28326070\n",
      "Data columns (total 19 columns):\n",
      " #   Column                 Non-Null Count     Dtype         \n",
      "---  ------                 --------------     -----         \n",
      " 0   VendorID               28326071 non-null  int32         \n",
      " 1   lpep_pickup_datetime   28326071 non-null  datetime64[ns]\n",
      " 2   lpep_dropoff_datetime  28326071 non-null  datetime64[ns]\n",
      " 3   store_and_fwd_flag     27383872 non-null  object        \n",
      " 4   RatecodeID             28326071 non-null  int32         \n",
      " 5   PULocationID           28326071 non-null  int64         \n",
      " 6   DOLocationID           28326071 non-null  int64         \n",
      " 7   passenger_count        28326071 non-null  int32         \n",
      " 8   trip_distance          28326071 non-null  float64       \n",
      " 9   fare_amount            28326071 non-null  float64       \n",
      " 10  extra                  28326071 non-null  float64       \n",
      " 11  mta_tax                28326071 non-null  float64       \n",
      " 12  tip_amount             28326071 non-null  float64       \n",
      " 13  tolls_amount           28326071 non-null  float64       \n",
      " 14  improvement_surcharge  28326069 non-null  float64       \n",
      " 15  total_amount           28326071 non-null  float64       \n",
      " 16  payment_type           28326071 non-null  int32         \n",
      " 17  trip_type              28326071 non-null  int32         \n",
      " 18  congestion_surcharge   26837490 non-null  float64       \n",
      "dtypes: datetime64[ns](2), float64(9), int32(5), int64(2), object(1)\n",
      "memory usage: 3.5+ GB\n"
     ]
    }
   ],
   "source": [
    "taxi_trips.info(show_counts=True)"
   ]
  },
  {
   "cell_type": "markdown",
   "id": "8b28dcb6",
   "metadata": {},
   "source": [
    "### VendorID"
   ]
  },
  {
   "cell_type": "markdown",
   "id": "1ec7af4d",
   "metadata": {},
   "source": [
    "A code indicating the LPEP provider that provided the record (1= Creative Mobile Technologies, LLC; 2= Verifone Inc.)"
   ]
  },
  {
   "cell_type": "code",
   "execution_count": 21,
   "id": "65e7c8bb",
   "metadata": {},
   "outputs": [
    {
     "data": {
      "text/plain": [
       "2    22569744\n",
       "1     4814128\n",
       "0      942199\n",
       "Name: VendorID, dtype: int64"
      ]
     },
     "execution_count": 21,
     "metadata": {},
     "output_type": "execute_result"
    }
   ],
   "source": [
    "# Checking values in VendorID\n",
    "taxi_trips['VendorID'].value_counts()"
   ]
  },
  {
   "cell_type": "markdown",
   "id": "d8b87a19",
   "metadata": {},
   "source": [
    "There are 942199 records where the VendorID is missing"
   ]
  },
  {
   "cell_type": "code",
   "execution_count": 22,
   "id": "d91c142f",
   "metadata": {},
   "outputs": [
    {
     "data": {
      "text/plain": [
       "Verifone Inc.                        22569744\n",
       "Creative Mobile Technologies, LLC     4814128\n",
       "Unknown                                942199\n",
       "Name: Vendor, dtype: int64"
      ]
     },
     "execution_count": 22,
     "metadata": {},
     "output_type": "execute_result"
    }
   ],
   "source": [
    "taxi_trips['Vendor'] = taxi_trips['VendorID'].map({1 : 'Creative Mobile Technologies, LLC', 2 : 'Verifone Inc.', 0 : 'Unknown'})\n",
    "\n",
    "taxi_trips['Vendor'].value_counts()"
   ]
  },
  {
   "cell_type": "markdown",
   "id": "034b2ba3",
   "metadata": {},
   "source": [
    "### lpep_pickup_datetime"
   ]
  },
  {
   "cell_type": "markdown",
   "id": "5c4ab4a7",
   "metadata": {},
   "source": [
    "The date and time when the meter was engaged"
   ]
  },
  {
   "cell_type": "code",
   "execution_count": null,
   "id": "229f18d1",
   "metadata": {},
   "outputs": [],
   "source": []
  },
  {
   "cell_type": "markdown",
   "id": "90fd71f4",
   "metadata": {},
   "source": [
    "### lpep_dropoff_datetime"
   ]
  },
  {
   "cell_type": "markdown",
   "id": "5992f7a6",
   "metadata": {},
   "source": [
    "The date and time when the meter was disengaged"
   ]
  },
  {
   "cell_type": "code",
   "execution_count": null,
   "id": "aa12e764",
   "metadata": {},
   "outputs": [],
   "source": []
  },
  {
   "cell_type": "markdown",
   "id": "d18a4264",
   "metadata": {},
   "source": [
    "### store_and_fwd_flag"
   ]
  },
  {
   "cell_type": "markdown",
   "id": "bf0a48dc",
   "metadata": {},
   "source": [
    "This flag indicates whether the trip record was held in vehicle memory before sending to the vendor, aka “store and forward,” because the vehicle did not have a connection to the server (Y= store and forward trip; N= not a store and forward trip)"
   ]
  },
  {
   "cell_type": "code",
   "execution_count": 23,
   "id": "a2e83a6b",
   "metadata": {},
   "outputs": [
    {
     "data": {
      "text/plain": [
       "N    27330950\n",
       "Y       52922\n",
       "Name: store_and_fwd_flag, dtype: int64"
      ]
     },
     "execution_count": 23,
     "metadata": {},
     "output_type": "execute_result"
    }
   ],
   "source": [
    "# Checking values in VendorID\n",
    "taxi_trips['store_and_fwd_flag'].value_counts()"
   ]
  },
  {
   "cell_type": "code",
   "execution_count": 24,
   "id": "61cc91b1",
   "metadata": {},
   "outputs": [
    {
     "name": "stdout",
     "output_type": "stream",
     "text": [
      "['N' 'Y' nan]\n"
     ]
    }
   ],
   "source": [
    "# Checking values in VendorID\n",
    "print(taxi_trips['store_and_fwd_flag'].unique())"
   ]
  },
  {
   "cell_type": "code",
   "execution_count": 25,
   "id": "49cb949d",
   "metadata": {},
   "outputs": [
    {
     "name": "stdout",
     "output_type": "stream",
     "text": [
      "There are 942199 null values in store_and_fwd_flag\n"
     ]
    }
   ],
   "source": [
    "# How many null values are there in store_and_fwd_flag?\n",
    "print(\"There are {} null values in store_and_fwd_flag\".format(taxi_trips['store_and_fwd_flag'].isnull().sum()))"
   ]
  },
  {
   "cell_type": "markdown",
   "id": "c573529a",
   "metadata": {},
   "source": [
    "### RatecodeID"
   ]
  },
  {
   "cell_type": "markdown",
   "id": "2ec93fa6",
   "metadata": {},
   "source": [
    "The final rate code in effect at the end of the trip (1= Standard rate; 2= JFK; 3= Newark; 4= Nassau or Westchester; 5= Negotiated fare; 6= Group ride)"
   ]
  },
  {
   "cell_type": "code",
   "execution_count": 26,
   "id": "9db0b71a",
   "metadata": {},
   "outputs": [
    {
     "data": {
      "text/plain": [
       "1     26555346\n",
       "0       942199\n",
       "5       740222\n",
       "2        55534\n",
       "4        18498\n",
       "3        13769\n",
       "6          349\n",
       "99         154\n",
       "Name: RatecodeID, dtype: int64"
      ]
     },
     "execution_count": 26,
     "metadata": {},
     "output_type": "execute_result"
    }
   ],
   "source": [
    "# Checking values in VendorID\n",
    "taxi_trips['RatecodeID'].value_counts()"
   ]
  },
  {
   "cell_type": "code",
   "execution_count": 27,
   "id": "dc379b82",
   "metadata": {},
   "outputs": [
    {
     "name": "stdout",
     "output_type": "stream",
     "text": [
      "[ 1  2  4  3  6 99  5  0]\n"
     ]
    }
   ],
   "source": [
    "# Checking values in VendorID\n",
    "print(taxi_trips['RatecodeID'].unique())"
   ]
  },
  {
   "cell_type": "code",
   "execution_count": 28,
   "id": "8eb0d8d2",
   "metadata": {},
   "outputs": [
    {
     "data": {
      "text/plain": [
       "Standard rate            26555346\n",
       "Unknown                    942353\n",
       "Negotiated fare            740222\n",
       "JFK                         55534\n",
       "Nassau or Westchester       18498\n",
       "Newark                      13769\n",
       "Group ride                    349\n",
       "Name: Ratecode, dtype: int64"
      ]
     },
     "execution_count": 28,
     "metadata": {},
     "output_type": "execute_result"
    }
   ],
   "source": [
    "rate_codes = {1 : 'Standard rate', 2 : 'JFK', 3 : 'Newark', 4 : 'Nassau or Westchester', 5 : 'Negotiated fare', 6 : 'Group ride', 0 : 'Unknown', 99 : 'Unknown'}\n",
    "\n",
    "taxi_trips['Ratecode'] = taxi_trips['RatecodeID'].map(rate_codes)\n",
    "\n",
    "taxi_trips['Ratecode'].value_counts()"
   ]
  },
  {
   "cell_type": "code",
   "execution_count": 29,
   "id": "cd17a654",
   "metadata": {},
   "outputs": [
    {
     "name": "stdout",
     "output_type": "stream",
     "text": [
      "There are 942353 unknowns in Ratecode\n"
     ]
    }
   ],
   "source": [
    "# How many null values are there in Ratecode?\n",
    "print(\"There are {} unknowns in Ratecode\".format(taxi_trips.loc[taxi_trips['Ratecode']=='Unknown'].shape[0]))"
   ]
  },
  {
   "cell_type": "markdown",
   "id": "368ede74",
   "metadata": {},
   "source": [
    "### PULocationID"
   ]
  },
  {
   "cell_type": "markdown",
   "id": "83644895",
   "metadata": {},
   "source": [
    "TLC Taxi Zone in which the taximeter was engaged"
   ]
  },
  {
   "cell_type": "code",
   "execution_count": 30,
   "id": "c1952d23",
   "metadata": {},
   "outputs": [
    {
     "data": {
      "text/plain": [
       "74     1894141\n",
       "75     1629516\n",
       "41     1587500\n",
       "7      1300642\n",
       "82     1208719\n",
       "        ...   \n",
       "204         40\n",
       "12          33\n",
       "99          19\n",
       "199         15\n",
       "105          1\n",
       "Name: PULocationID, Length: 262, dtype: int64"
      ]
     },
     "execution_count": 30,
     "metadata": {},
     "output_type": "execute_result"
    }
   ],
   "source": [
    "# Checking values in VendorID\n",
    "taxi_trips['PULocationID'].value_counts()"
   ]
  },
  {
   "cell_type": "code",
   "execution_count": 31,
   "id": "f7715015",
   "metadata": {},
   "outputs": [
    {
     "name": "stdout",
     "output_type": "stream",
     "text": [
      "There are 0 null values in PULocationID\n"
     ]
    }
   ],
   "source": [
    "# How many null values are there in PULocationID?\n",
    "print(\"There are {} null values in PULocationID\".format(taxi_trips['PULocationID'].isnull().sum()))"
   ]
  },
  {
   "cell_type": "code",
   "execution_count": 32,
   "id": "163da702",
   "metadata": {},
   "outputs": [
    {
     "data": {
      "text/plain": [
       "1"
      ]
     },
     "execution_count": 32,
     "metadata": {},
     "output_type": "execute_result"
    }
   ],
   "source": [
    "taxi_trips['PULocationID'].min()"
   ]
  },
  {
   "cell_type": "code",
   "execution_count": 33,
   "id": "92233a67",
   "metadata": {},
   "outputs": [
    {
     "data": {
      "text/plain": [
       "False"
      ]
     },
     "execution_count": 33,
     "metadata": {},
     "output_type": "execute_result"
    }
   ],
   "source": [
    "# Checking if there are any duplicate rows before merging. No duplicate rows if False\n",
    "taxi_zones['LocationID'].duplicated().any()"
   ]
  },
  {
   "cell_type": "code",
   "execution_count": 34,
   "id": "50613d7b",
   "metadata": {},
   "outputs": [],
   "source": [
    "# Merge PULocationID with taxi_zones\n",
    "taxi_trips = taxi_trips.merge(right=taxi_zones, how='left', left_on='PULocationID', right_on='LocationID')"
   ]
  },
  {
   "cell_type": "code",
   "execution_count": 35,
   "id": "4f37e28b",
   "metadata": {},
   "outputs": [],
   "source": [
    "# Dropping LocationID from taxi_trips\n",
    "taxi_trips.drop(columns='LocationID', inplace=True)"
   ]
  },
  {
   "cell_type": "code",
   "execution_count": 36,
   "id": "4d4029e1",
   "metadata": {},
   "outputs": [],
   "source": [
    "# Renaming merged columns\n",
    "taxi_trips.rename(columns={'Borough' : 'PU_Borough', 'Zone' : 'PU_Zone', 'service_zone' : 'PU_service_zone'}, inplace=True)"
   ]
  },
  {
   "cell_type": "markdown",
   "id": "a39b2169",
   "metadata": {},
   "source": [
    "### DOLocationID"
   ]
  },
  {
   "cell_type": "markdown",
   "id": "271071e4",
   "metadata": {},
   "source": [
    "TLC Taxi Zone in which the taximeter was disengaged"
   ]
  },
  {
   "cell_type": "code",
   "execution_count": 37,
   "id": "3783a9a5",
   "metadata": {},
   "outputs": [
    {
     "data": {
      "text/plain": [
       "74     996733\n",
       "42     963534\n",
       "41     858422\n",
       "7      817099\n",
       "129    751496\n",
       "        ...  \n",
       "2         165\n",
       "99         45\n",
       "199        13\n",
       "105         8\n",
       "110         1\n",
       "Name: DOLocationID, Length: 263, dtype: int64"
      ]
     },
     "execution_count": 37,
     "metadata": {},
     "output_type": "execute_result"
    }
   ],
   "source": [
    "taxi_trips['DOLocationID'].value_counts()"
   ]
  },
  {
   "cell_type": "code",
   "execution_count": 38,
   "id": "f5cdac66",
   "metadata": {},
   "outputs": [
    {
     "name": "stdout",
     "output_type": "stream",
     "text": [
      "There are 0 null values in DOLocationID\n"
     ]
    }
   ],
   "source": [
    "# How many null values are there in DOLocationID?\n",
    "print(\"There are {} null values in DOLocationID\".format(taxi_trips['DOLocationID'].isnull().sum()))"
   ]
  },
  {
   "cell_type": "code",
   "execution_count": 39,
   "id": "e80f482b",
   "metadata": {},
   "outputs": [
    {
     "data": {
      "text/plain": [
       "1"
      ]
     },
     "execution_count": 39,
     "metadata": {},
     "output_type": "execute_result"
    }
   ],
   "source": [
    "taxi_trips['DOLocationID'].min()"
   ]
  },
  {
   "cell_type": "code",
   "execution_count": 40,
   "id": "99528284",
   "metadata": {},
   "outputs": [],
   "source": [
    "# Merge DOLocationID with taxi_zones\n",
    "taxi_trips = taxi_trips.merge(right=taxi_zones, how='left', left_on='DOLocationID', right_on='LocationID')"
   ]
  },
  {
   "cell_type": "code",
   "execution_count": 41,
   "id": "79a15c2a",
   "metadata": {},
   "outputs": [],
   "source": [
    "# Dropping LocationID from taxi_trips\n",
    "taxi_trips.drop(columns='LocationID', inplace=True)"
   ]
  },
  {
   "cell_type": "code",
   "execution_count": 42,
   "id": "46a80cfd",
   "metadata": {},
   "outputs": [],
   "source": [
    "# Renaming merged columns\n",
    "taxi_trips.rename(columns={'Borough' : 'DO_Borough', 'Zone' : 'DO_Zone', 'service_zone' : 'DO_service_zone'}, inplace=True)"
   ]
  },
  {
   "cell_type": "markdown",
   "id": "0959e2f8",
   "metadata": {},
   "source": [
    "### passenger_count"
   ]
  },
  {
   "cell_type": "markdown",
   "id": "1b2a6a7d",
   "metadata": {},
   "source": [
    "The number of passengers in the vehicle (this is a driver entered value)"
   ]
  },
  {
   "cell_type": "code",
   "execution_count": 43,
   "id": "ad20b25d",
   "metadata": {},
   "outputs": [
    {
     "data": {
      "text/plain": [
       "1    23244224\n",
       "2     2117741\n",
       "0      971300\n",
       "5      909801\n",
       "6      468953\n",
       "3      455954\n",
       "4      156794\n",
       "8         596\n",
       "7         538\n",
       "9         170\n",
       "Name: passenger_count, dtype: int64"
      ]
     },
     "execution_count": 43,
     "metadata": {},
     "output_type": "execute_result"
    }
   ],
   "source": [
    "taxi_trips['passenger_count'].value_counts()"
   ]
  },
  {
   "cell_type": "code",
   "execution_count": 44,
   "id": "9f0088c1",
   "metadata": {},
   "outputs": [
    {
     "name": "stdout",
     "output_type": "stream",
     "text": [
      "There are 971300 records with missing passenger_count. This is a driver entered value\n"
     ]
    }
   ],
   "source": [
    "# Printing the number of missing passenger_count\n",
    "print(\"There are {} records with missing passenger_count. This is a driver entered value\".format(taxi_trips.loc[taxi_trips['passenger_count']==0].shape[0]))"
   ]
  },
  {
   "cell_type": "markdown",
   "id": "acc9095a",
   "metadata": {},
   "source": [
    "### trip_distance"
   ]
  },
  {
   "cell_type": "markdown",
   "id": "178067f7",
   "metadata": {},
   "source": [
    "The elapsed trip distance in miles reported by the taximeter"
   ]
  },
  {
   "cell_type": "code",
   "execution_count": 45,
   "id": "a87115ad",
   "metadata": {},
   "outputs": [
    {
     "data": {
      "text/plain": [
       " 0.00     438914\n",
       " 0.90     295293\n",
       " 1.00     292823\n",
       " 0.80     289703\n",
       " 1.10     276241\n",
       "           ...  \n",
       "-23.85         1\n",
       " 52.57         1\n",
       " 65.32         1\n",
       " 74.03         1\n",
       " 36.83         1\n",
       "Name: trip_distance, Length: 8314, dtype: int64"
      ]
     },
     "execution_count": 45,
     "metadata": {},
     "output_type": "execute_result"
    }
   ],
   "source": [
    "taxi_trips['trip_distance'].value_counts()"
   ]
  },
  {
   "cell_type": "code",
   "execution_count": 46,
   "id": "bf44b3dc",
   "metadata": {},
   "outputs": [
    {
     "data": {
      "text/plain": [
       "count    2.832607e+07\n",
       "mean     3.866140e+00\n",
       "std      2.969125e+02\n",
       "min     -2.032908e+04\n",
       "25%      1.030000e+00\n",
       "50%      1.860000e+00\n",
       "75%      3.660000e+00\n",
       "max      2.056541e+05\n",
       "Name: trip_distance, dtype: float64"
      ]
     },
     "execution_count": 46,
     "metadata": {},
     "output_type": "execute_result"
    }
   ],
   "source": [
    "taxi_trips['trip_distance'].describe()"
   ]
  },
  {
   "cell_type": "markdown",
   "id": "0bd60cda",
   "metadata": {},
   "source": [
    "###### Minimum value of trip_distance is in the negative. Let's investigate the negatives"
   ]
  },
  {
   "cell_type": "code",
   "execution_count": 47,
   "id": "82ff4b89",
   "metadata": {},
   "outputs": [
    {
     "name": "stdout",
     "output_type": "stream",
     "text": [
      "There are 19487 records where the trip_distance is in the negative\n"
     ]
    }
   ],
   "source": [
    "# How many rows are there where the trip_distance is in the negative?\n",
    "print('There are {} records where the trip_distance is in the negative'.format(taxi_trips.loc[taxi_trips['trip_distance']<0].shape[0]))"
   ]
  },
  {
   "cell_type": "code",
   "execution_count": 48,
   "id": "d5c8c5a6",
   "metadata": {},
   "outputs": [
    {
     "data": {
      "text/html": [
       "<div>\n",
       "<style scoped>\n",
       "    .dataframe tbody tr th:only-of-type {\n",
       "        vertical-align: middle;\n",
       "    }\n",
       "\n",
       "    .dataframe tbody tr th {\n",
       "        vertical-align: top;\n",
       "    }\n",
       "\n",
       "    .dataframe thead th {\n",
       "        text-align: right;\n",
       "    }\n",
       "</style>\n",
       "<table border=\"1\" class=\"dataframe\">\n",
       "  <thead>\n",
       "    <tr style=\"text-align: right;\">\n",
       "      <th></th>\n",
       "      <th>VendorID</th>\n",
       "      <th>lpep_pickup_datetime</th>\n",
       "      <th>lpep_dropoff_datetime</th>\n",
       "      <th>store_and_fwd_flag</th>\n",
       "      <th>RatecodeID</th>\n",
       "      <th>PULocationID</th>\n",
       "      <th>DOLocationID</th>\n",
       "      <th>passenger_count</th>\n",
       "      <th>trip_distance</th>\n",
       "      <th>fare_amount</th>\n",
       "      <th>extra</th>\n",
       "      <th>mta_tax</th>\n",
       "      <th>tip_amount</th>\n",
       "      <th>tolls_amount</th>\n",
       "      <th>improvement_surcharge</th>\n",
       "      <th>total_amount</th>\n",
       "      <th>payment_type</th>\n",
       "      <th>trip_type</th>\n",
       "      <th>congestion_surcharge</th>\n",
       "      <th>Vendor</th>\n",
       "      <th>Ratecode</th>\n",
       "      <th>PU_Borough</th>\n",
       "      <th>PU_Zone</th>\n",
       "      <th>PU_service_zone</th>\n",
       "      <th>DO_Borough</th>\n",
       "      <th>DO_Zone</th>\n",
       "      <th>DO_service_zone</th>\n",
       "    </tr>\n",
       "  </thead>\n",
       "  <tbody>\n",
       "    <tr>\n",
       "      <th>21880092</th>\n",
       "      <td>2</td>\n",
       "      <td>2019-11-20 16:02:33</td>\n",
       "      <td>2019-11-20 16:23:41</td>\n",
       "      <td>N</td>\n",
       "      <td>5</td>\n",
       "      <td>197</td>\n",
       "      <td>124</td>\n",
       "      <td>1</td>\n",
       "      <td>-4.46</td>\n",
       "      <td>14.96</td>\n",
       "      <td>0.0</td>\n",
       "      <td>0.5</td>\n",
       "      <td>0.0</td>\n",
       "      <td>0.0</td>\n",
       "      <td>0.3</td>\n",
       "      <td>15.76</td>\n",
       "      <td>2</td>\n",
       "      <td>1</td>\n",
       "      <td>0.0</td>\n",
       "      <td>Verifone Inc.</td>\n",
       "      <td>Negotiated fare</td>\n",
       "      <td>Queens</td>\n",
       "      <td>Richmond Hill</td>\n",
       "      <td>Boro Zone</td>\n",
       "      <td>Queens</td>\n",
       "      <td>Howard Beach</td>\n",
       "      <td>Boro Zone</td>\n",
       "    </tr>\n",
       "    <tr>\n",
       "      <th>21880097</th>\n",
       "      <td>2</td>\n",
       "      <td>2019-11-21 17:39:56</td>\n",
       "      <td>2019-11-21 18:07:10</td>\n",
       "      <td>N</td>\n",
       "      <td>5</td>\n",
       "      <td>65</td>\n",
       "      <td>225</td>\n",
       "      <td>1</td>\n",
       "      <td>-3.87</td>\n",
       "      <td>23.51</td>\n",
       "      <td>0.0</td>\n",
       "      <td>0.5</td>\n",
       "      <td>0.0</td>\n",
       "      <td>0.0</td>\n",
       "      <td>0.3</td>\n",
       "      <td>24.31</td>\n",
       "      <td>2</td>\n",
       "      <td>1</td>\n",
       "      <td>0.0</td>\n",
       "      <td>Verifone Inc.</td>\n",
       "      <td>Negotiated fare</td>\n",
       "      <td>Brooklyn</td>\n",
       "      <td>Downtown Brooklyn/MetroTech</td>\n",
       "      <td>Boro Zone</td>\n",
       "      <td>Brooklyn</td>\n",
       "      <td>Stuyvesant Heights</td>\n",
       "      <td>Boro Zone</td>\n",
       "    </tr>\n",
       "    <tr>\n",
       "      <th>21880102</th>\n",
       "      <td>2</td>\n",
       "      <td>2019-11-23 08:25:54</td>\n",
       "      <td>2019-11-23 08:41:05</td>\n",
       "      <td>N</td>\n",
       "      <td>5</td>\n",
       "      <td>92</td>\n",
       "      <td>9</td>\n",
       "      <td>1</td>\n",
       "      <td>-5.28</td>\n",
       "      <td>18.95</td>\n",
       "      <td>0.0</td>\n",
       "      <td>0.5</td>\n",
       "      <td>0.0</td>\n",
       "      <td>0.0</td>\n",
       "      <td>0.3</td>\n",
       "      <td>19.75</td>\n",
       "      <td>2</td>\n",
       "      <td>1</td>\n",
       "      <td>0.0</td>\n",
       "      <td>Verifone Inc.</td>\n",
       "      <td>Negotiated fare</td>\n",
       "      <td>Queens</td>\n",
       "      <td>Flushing</td>\n",
       "      <td>Boro Zone</td>\n",
       "      <td>Queens</td>\n",
       "      <td>Auburndale</td>\n",
       "      <td>Boro Zone</td>\n",
       "    </tr>\n",
       "    <tr>\n",
       "      <th>21880105</th>\n",
       "      <td>2</td>\n",
       "      <td>2019-11-24 08:17:53</td>\n",
       "      <td>2019-11-24 08:41:19</td>\n",
       "      <td>N</td>\n",
       "      <td>5</td>\n",
       "      <td>188</td>\n",
       "      <td>225</td>\n",
       "      <td>1</td>\n",
       "      <td>-4.33</td>\n",
       "      <td>13.92</td>\n",
       "      <td>0.0</td>\n",
       "      <td>0.5</td>\n",
       "      <td>0.0</td>\n",
       "      <td>0.0</td>\n",
       "      <td>0.3</td>\n",
       "      <td>14.72</td>\n",
       "      <td>2</td>\n",
       "      <td>1</td>\n",
       "      <td>0.0</td>\n",
       "      <td>Verifone Inc.</td>\n",
       "      <td>Negotiated fare</td>\n",
       "      <td>Brooklyn</td>\n",
       "      <td>Prospect-Lefferts Gardens</td>\n",
       "      <td>Boro Zone</td>\n",
       "      <td>Brooklyn</td>\n",
       "      <td>Stuyvesant Heights</td>\n",
       "      <td>Boro Zone</td>\n",
       "    </tr>\n",
       "    <tr>\n",
       "      <th>21880109</th>\n",
       "      <td>2</td>\n",
       "      <td>2019-11-25 08:27:44</td>\n",
       "      <td>2019-11-25 08:43:54</td>\n",
       "      <td>N</td>\n",
       "      <td>5</td>\n",
       "      <td>177</td>\n",
       "      <td>35</td>\n",
       "      <td>1</td>\n",
       "      <td>-1.43</td>\n",
       "      <td>18.92</td>\n",
       "      <td>0.0</td>\n",
       "      <td>0.5</td>\n",
       "      <td>0.0</td>\n",
       "      <td>0.0</td>\n",
       "      <td>0.3</td>\n",
       "      <td>19.72</td>\n",
       "      <td>2</td>\n",
       "      <td>1</td>\n",
       "      <td>0.0</td>\n",
       "      <td>Verifone Inc.</td>\n",
       "      <td>Negotiated fare</td>\n",
       "      <td>Brooklyn</td>\n",
       "      <td>Ocean Hill</td>\n",
       "      <td>Boro Zone</td>\n",
       "      <td>Brooklyn</td>\n",
       "      <td>Brownsville</td>\n",
       "      <td>Boro Zone</td>\n",
       "    </tr>\n",
       "    <tr>\n",
       "      <th>21880110</th>\n",
       "      <td>2</td>\n",
       "      <td>2019-11-25 09:46:59</td>\n",
       "      <td>2019-11-25 10:55:47</td>\n",
       "      <td>N</td>\n",
       "      <td>5</td>\n",
       "      <td>35</td>\n",
       "      <td>48</td>\n",
       "      <td>1</td>\n",
       "      <td>-12.95</td>\n",
       "      <td>40.10</td>\n",
       "      <td>0.0</td>\n",
       "      <td>0.5</td>\n",
       "      <td>0.0</td>\n",
       "      <td>0.0</td>\n",
       "      <td>0.3</td>\n",
       "      <td>40.90</td>\n",
       "      <td>2</td>\n",
       "      <td>1</td>\n",
       "      <td>0.0</td>\n",
       "      <td>Verifone Inc.</td>\n",
       "      <td>Negotiated fare</td>\n",
       "      <td>Brooklyn</td>\n",
       "      <td>Brownsville</td>\n",
       "      <td>Boro Zone</td>\n",
       "      <td>Manhattan</td>\n",
       "      <td>Clinton East</td>\n",
       "      <td>Yellow Zone</td>\n",
       "    </tr>\n",
       "    <tr>\n",
       "      <th>21880113</th>\n",
       "      <td>2</td>\n",
       "      <td>2019-11-25 12:31:15</td>\n",
       "      <td>2019-11-25 14:13:59</td>\n",
       "      <td>N</td>\n",
       "      <td>5</td>\n",
       "      <td>217</td>\n",
       "      <td>48</td>\n",
       "      <td>1</td>\n",
       "      <td>-3.46</td>\n",
       "      <td>12.35</td>\n",
       "      <td>0.0</td>\n",
       "      <td>0.5</td>\n",
       "      <td>0.0</td>\n",
       "      <td>0.0</td>\n",
       "      <td>0.3</td>\n",
       "      <td>13.15</td>\n",
       "      <td>2</td>\n",
       "      <td>1</td>\n",
       "      <td>0.0</td>\n",
       "      <td>Verifone Inc.</td>\n",
       "      <td>Negotiated fare</td>\n",
       "      <td>Brooklyn</td>\n",
       "      <td>South Williamsburg</td>\n",
       "      <td>Boro Zone</td>\n",
       "      <td>Manhattan</td>\n",
       "      <td>Clinton East</td>\n",
       "      <td>Yellow Zone</td>\n",
       "    </tr>\n",
       "    <tr>\n",
       "      <th>21880114</th>\n",
       "      <td>2</td>\n",
       "      <td>2019-11-25 12:08:28</td>\n",
       "      <td>2019-11-25 14:51:40</td>\n",
       "      <td>N</td>\n",
       "      <td>5</td>\n",
       "      <td>91</td>\n",
       "      <td>108</td>\n",
       "      <td>1</td>\n",
       "      <td>-1.80</td>\n",
       "      <td>7.20</td>\n",
       "      <td>0.0</td>\n",
       "      <td>0.5</td>\n",
       "      <td>0.0</td>\n",
       "      <td>0.0</td>\n",
       "      <td>0.3</td>\n",
       "      <td>8.00</td>\n",
       "      <td>2</td>\n",
       "      <td>1</td>\n",
       "      <td>0.0</td>\n",
       "      <td>Verifone Inc.</td>\n",
       "      <td>Negotiated fare</td>\n",
       "      <td>Brooklyn</td>\n",
       "      <td>Flatlands</td>\n",
       "      <td>Boro Zone</td>\n",
       "      <td>Brooklyn</td>\n",
       "      <td>Gravesend</td>\n",
       "      <td>Boro Zone</td>\n",
       "    </tr>\n",
       "    <tr>\n",
       "      <th>21880115</th>\n",
       "      <td>2</td>\n",
       "      <td>2019-11-25 19:09:26</td>\n",
       "      <td>2019-11-25 19:57:56</td>\n",
       "      <td>N</td>\n",
       "      <td>5</td>\n",
       "      <td>33</td>\n",
       "      <td>76</td>\n",
       "      <td>1</td>\n",
       "      <td>-7.55</td>\n",
       "      <td>21.09</td>\n",
       "      <td>0.0</td>\n",
       "      <td>0.5</td>\n",
       "      <td>0.0</td>\n",
       "      <td>0.0</td>\n",
       "      <td>0.3</td>\n",
       "      <td>21.89</td>\n",
       "      <td>2</td>\n",
       "      <td>1</td>\n",
       "      <td>0.0</td>\n",
       "      <td>Verifone Inc.</td>\n",
       "      <td>Negotiated fare</td>\n",
       "      <td>Brooklyn</td>\n",
       "      <td>Brooklyn Heights</td>\n",
       "      <td>Boro Zone</td>\n",
       "      <td>Brooklyn</td>\n",
       "      <td>East New York</td>\n",
       "      <td>Boro Zone</td>\n",
       "    </tr>\n",
       "    <tr>\n",
       "      <th>21880175</th>\n",
       "      <td>2</td>\n",
       "      <td>2019-12-08 13:40:04</td>\n",
       "      <td>2019-12-08 14:01:43</td>\n",
       "      <td>N</td>\n",
       "      <td>5</td>\n",
       "      <td>124</td>\n",
       "      <td>76</td>\n",
       "      <td>1</td>\n",
       "      <td>-3.93</td>\n",
       "      <td>9.00</td>\n",
       "      <td>0.0</td>\n",
       "      <td>0.5</td>\n",
       "      <td>0.0</td>\n",
       "      <td>0.0</td>\n",
       "      <td>0.3</td>\n",
       "      <td>9.80</td>\n",
       "      <td>2</td>\n",
       "      <td>1</td>\n",
       "      <td>0.0</td>\n",
       "      <td>Verifone Inc.</td>\n",
       "      <td>Negotiated fare</td>\n",
       "      <td>Queens</td>\n",
       "      <td>Howard Beach</td>\n",
       "      <td>Boro Zone</td>\n",
       "      <td>Brooklyn</td>\n",
       "      <td>East New York</td>\n",
       "      <td>Boro Zone</td>\n",
       "    </tr>\n",
       "  </tbody>\n",
       "</table>\n",
       "</div>"
      ],
      "text/plain": [
       "          VendorID lpep_pickup_datetime lpep_dropoff_datetime  \\\n",
       "21880092         2  2019-11-20 16:02:33   2019-11-20 16:23:41   \n",
       "21880097         2  2019-11-21 17:39:56   2019-11-21 18:07:10   \n",
       "21880102         2  2019-11-23 08:25:54   2019-11-23 08:41:05   \n",
       "21880105         2  2019-11-24 08:17:53   2019-11-24 08:41:19   \n",
       "21880109         2  2019-11-25 08:27:44   2019-11-25 08:43:54   \n",
       "21880110         2  2019-11-25 09:46:59   2019-11-25 10:55:47   \n",
       "21880113         2  2019-11-25 12:31:15   2019-11-25 14:13:59   \n",
       "21880114         2  2019-11-25 12:08:28   2019-11-25 14:51:40   \n",
       "21880115         2  2019-11-25 19:09:26   2019-11-25 19:57:56   \n",
       "21880175         2  2019-12-08 13:40:04   2019-12-08 14:01:43   \n",
       "\n",
       "         store_and_fwd_flag  RatecodeID  PULocationID  DOLocationID  \\\n",
       "21880092                  N           5           197           124   \n",
       "21880097                  N           5            65           225   \n",
       "21880102                  N           5            92             9   \n",
       "21880105                  N           5           188           225   \n",
       "21880109                  N           5           177            35   \n",
       "21880110                  N           5            35            48   \n",
       "21880113                  N           5           217            48   \n",
       "21880114                  N           5            91           108   \n",
       "21880115                  N           5            33            76   \n",
       "21880175                  N           5           124            76   \n",
       "\n",
       "          passenger_count  trip_distance  fare_amount  extra  mta_tax  \\\n",
       "21880092                1          -4.46        14.96    0.0      0.5   \n",
       "21880097                1          -3.87        23.51    0.0      0.5   \n",
       "21880102                1          -5.28        18.95    0.0      0.5   \n",
       "21880105                1          -4.33        13.92    0.0      0.5   \n",
       "21880109                1          -1.43        18.92    0.0      0.5   \n",
       "21880110                1         -12.95        40.10    0.0      0.5   \n",
       "21880113                1          -3.46        12.35    0.0      0.5   \n",
       "21880114                1          -1.80         7.20    0.0      0.5   \n",
       "21880115                1          -7.55        21.09    0.0      0.5   \n",
       "21880175                1          -3.93         9.00    0.0      0.5   \n",
       "\n",
       "          tip_amount  tolls_amount  improvement_surcharge  total_amount  \\\n",
       "21880092         0.0           0.0                    0.3         15.76   \n",
       "21880097         0.0           0.0                    0.3         24.31   \n",
       "21880102         0.0           0.0                    0.3         19.75   \n",
       "21880105         0.0           0.0                    0.3         14.72   \n",
       "21880109         0.0           0.0                    0.3         19.72   \n",
       "21880110         0.0           0.0                    0.3         40.90   \n",
       "21880113         0.0           0.0                    0.3         13.15   \n",
       "21880114         0.0           0.0                    0.3          8.00   \n",
       "21880115         0.0           0.0                    0.3         21.89   \n",
       "21880175         0.0           0.0                    0.3          9.80   \n",
       "\n",
       "          payment_type  trip_type  congestion_surcharge         Vendor  \\\n",
       "21880092             2          1                   0.0  Verifone Inc.   \n",
       "21880097             2          1                   0.0  Verifone Inc.   \n",
       "21880102             2          1                   0.0  Verifone Inc.   \n",
       "21880105             2          1                   0.0  Verifone Inc.   \n",
       "21880109             2          1                   0.0  Verifone Inc.   \n",
       "21880110             2          1                   0.0  Verifone Inc.   \n",
       "21880113             2          1                   0.0  Verifone Inc.   \n",
       "21880114             2          1                   0.0  Verifone Inc.   \n",
       "21880115             2          1                   0.0  Verifone Inc.   \n",
       "21880175             2          1                   0.0  Verifone Inc.   \n",
       "\n",
       "                 Ratecode PU_Borough                      PU_Zone  \\\n",
       "21880092  Negotiated fare     Queens                Richmond Hill   \n",
       "21880097  Negotiated fare   Brooklyn  Downtown Brooklyn/MetroTech   \n",
       "21880102  Negotiated fare     Queens                     Flushing   \n",
       "21880105  Negotiated fare   Brooklyn    Prospect-Lefferts Gardens   \n",
       "21880109  Negotiated fare   Brooklyn                   Ocean Hill   \n",
       "21880110  Negotiated fare   Brooklyn                  Brownsville   \n",
       "21880113  Negotiated fare   Brooklyn           South Williamsburg   \n",
       "21880114  Negotiated fare   Brooklyn                    Flatlands   \n",
       "21880115  Negotiated fare   Brooklyn             Brooklyn Heights   \n",
       "21880175  Negotiated fare     Queens                 Howard Beach   \n",
       "\n",
       "         PU_service_zone DO_Borough             DO_Zone DO_service_zone  \n",
       "21880092       Boro Zone     Queens        Howard Beach       Boro Zone  \n",
       "21880097       Boro Zone   Brooklyn  Stuyvesant Heights       Boro Zone  \n",
       "21880102       Boro Zone     Queens          Auburndale       Boro Zone  \n",
       "21880105       Boro Zone   Brooklyn  Stuyvesant Heights       Boro Zone  \n",
       "21880109       Boro Zone   Brooklyn         Brownsville       Boro Zone  \n",
       "21880110       Boro Zone  Manhattan        Clinton East     Yellow Zone  \n",
       "21880113       Boro Zone  Manhattan        Clinton East     Yellow Zone  \n",
       "21880114       Boro Zone   Brooklyn           Gravesend       Boro Zone  \n",
       "21880115       Boro Zone   Brooklyn       East New York       Boro Zone  \n",
       "21880175       Boro Zone   Brooklyn       East New York       Boro Zone  "
      ]
     },
     "execution_count": 48,
     "metadata": {},
     "output_type": "execute_result"
    }
   ],
   "source": [
    "# Checking the first 10 rows where the trip_distance is in the negative.\n",
    "taxi_trips.loc[taxi_trips['trip_distance']<0].head(10)"
   ]
  },
  {
   "cell_type": "markdown",
   "id": "6980d51d",
   "metadata": {},
   "source": [
    "These are valid records and looks like the minus is displayed in error"
   ]
  },
  {
   "cell_type": "code",
   "execution_count": 49,
   "id": "b5dcfa8d",
   "metadata": {},
   "outputs": [
    {
     "name": "stdout",
     "output_type": "stream",
     "text": [
      "Sum of trip_distance: 109512570.19\n",
      "Sum of positive values in trip_distance: 109715069.74\n",
      "Sum of negative values in trip_distance: -202499.55\n",
      "Expected sum after converting negative values to positive: 109917569.29\n"
     ]
    }
   ],
   "source": [
    "# Sum of trip_distance as it is\n",
    "sum_trip_distance = taxi_trips['trip_distance'].sum()\n",
    "\n",
    "# Sum of positive values in trip_distance\n",
    "sum_trip_distance_positive = taxi_trips.loc[taxi_trips['trip_distance']>0,'trip_distance'].sum()\n",
    "\n",
    "# Sum of negative values in trip_distance\n",
    "sum_trip_distance_negative = taxi_trips.loc[taxi_trips['trip_distance']<0,'trip_distance'].sum()\n",
    "\n",
    "# Expected sum of trip_distance when the negative values are converted to positive values\n",
    "sum_trip_distance_exp_converted = taxi_trips.loc[taxi_trips['trip_distance']>0,'trip_distance'].sum() + taxi_trips.loc[taxi_trips['trip_distance']<0,'trip_distance'].abs().sum()\n",
    "\n",
    "print('Sum of trip_distance: {:.2f}'.format(sum_trip_distance))\n",
    "print('Sum of positive values in trip_distance: {:.2f}'.format(sum_trip_distance_positive))\n",
    "print('Sum of negative values in trip_distance: {:.2f}'.format(sum_trip_distance_negative))\n",
    "print('Expected sum after converting negative values to positive: {:.2f}'.format(sum_trip_distance_exp_converted))"
   ]
  },
  {
   "cell_type": "code",
   "execution_count": 50,
   "id": "7a556a88",
   "metadata": {},
   "outputs": [
    {
     "name": "stdout",
     "output_type": "stream",
     "text": [
      "Actual sum of trip_distance after converting negative values to positive: 109917569.29\n"
     ]
    }
   ],
   "source": [
    "# Reassigning the column with it's absolute value\n",
    "taxi_trips['trip_distance'] = taxi_trips['trip_distance'].abs()\n",
    "\n",
    "# Checking if the sum matches with the expected sum in the previous step\n",
    "print('Actual sum of trip_distance after converting negative values to positive: {:.2f}'.format(taxi_trips['trip_distance'].sum()))"
   ]
  },
  {
   "cell_type": "code",
   "execution_count": 51,
   "id": "0562aa02",
   "metadata": {},
   "outputs": [
    {
     "data": {
      "text/plain": [
       "count    2.832607e+07\n",
       "mean     3.880438e+00\n",
       "std      2.969123e+02\n",
       "min      0.000000e+00\n",
       "25%      1.030000e+00\n",
       "50%      1.870000e+00\n",
       "75%      3.660000e+00\n",
       "max      2.056541e+05\n",
       "Name: trip_distance, dtype: float64"
      ]
     },
     "execution_count": 51,
     "metadata": {},
     "output_type": "execute_result"
    }
   ],
   "source": [
    "taxi_trips['trip_distance'].describe()"
   ]
  },
  {
   "cell_type": "markdown",
   "id": "e7a71e70",
   "metadata": {},
   "source": [
    "###### Minimum value of trip_distance is now zero. Why are there zeros?"
   ]
  },
  {
   "cell_type": "code",
   "execution_count": 52,
   "id": "394374f1",
   "metadata": {},
   "outputs": [
    {
     "name": "stdout",
     "output_type": "stream",
     "text": [
      "There are 438914 records where the trip_distance is zero\n"
     ]
    }
   ],
   "source": [
    "# How many rows are there where the trip_distance is zero?\n",
    "print('There are {} records where the trip_distance is zero'.format(taxi_trips.loc[taxi_trips['trip_distance']==0].shape[0]))"
   ]
  },
  {
   "cell_type": "markdown",
   "id": "8efbaa3d",
   "metadata": {},
   "source": [
    "Possible explanation of zero trip_distance:\n",
    " - Ride was less than 0.1 miles. This can be identified if the minimum fare is provided\n",
    " - Driver forgot to engage the meter. To populate the trip_distance where the meter wasn't engaged, the formula for the fare_amount is needed"
   ]
  },
  {
   "cell_type": "markdown",
   "id": "085b9150",
   "metadata": {},
   "source": [
    "### fare_amount"
   ]
  },
  {
   "cell_type": "markdown",
   "id": "853a8743",
   "metadata": {},
   "source": [
    "The time-and-distance fare calculated by the meter"
   ]
  },
  {
   "cell_type": "code",
   "execution_count": 53,
   "id": "3656fc8f",
   "metadata": {},
   "outputs": [
    {
     "data": {
      "text/plain": [
       "count    2.832607e+07\n",
       "mean     1.318245e+01\n",
       "std      1.187243e+01\n",
       "min     -8.900000e+02\n",
       "25%      6.500000e+00\n",
       "50%      9.500000e+00\n",
       "75%      1.600000e+01\n",
       "max      1.044584e+04\n",
       "Name: fare_amount, dtype: float64"
      ]
     },
     "execution_count": 53,
     "metadata": {},
     "output_type": "execute_result"
    }
   ],
   "source": [
    "taxi_trips['fare_amount'].describe()"
   ]
  },
  {
   "cell_type": "code",
   "execution_count": 54,
   "id": "e148c097",
   "metadata": {},
   "outputs": [],
   "source": [
    "# Reassigning the column with it's absolute value\n",
    "taxi_trips['fare_amount'] = taxi_trips['fare_amount'].abs()"
   ]
  },
  {
   "cell_type": "code",
   "execution_count": 55,
   "id": "f4d08d49",
   "metadata": {},
   "outputs": [
    {
     "data": {
      "text/plain": [
       "count    2.832607e+07\n",
       "mean     1.321725e+01\n",
       "std      1.183367e+01\n",
       "min      0.000000e+00\n",
       "25%      6.500000e+00\n",
       "50%      9.500000e+00\n",
       "75%      1.600000e+01\n",
       "max      1.044584e+04\n",
       "Name: fare_amount, dtype: float64"
      ]
     },
     "execution_count": 55,
     "metadata": {},
     "output_type": "execute_result"
    }
   ],
   "source": [
    "taxi_trips['fare_amount'].describe()"
   ]
  },
  {
   "cell_type": "code",
   "execution_count": 56,
   "id": "729321ae",
   "metadata": {},
   "outputs": [
    {
     "name": "stdout",
     "output_type": "stream",
     "text": [
      "There are 59225 records where the fare_amount is zero\n"
     ]
    }
   ],
   "source": [
    "# How many rows are there where the fare_amount is zero?\n",
    "fare_amount_zero = taxi_trips.loc[taxi_trips['fare_amount']==0].shape[0]\n",
    "\n",
    "print('There are {} records where the fare_amount is zero'.format(fare_amount_zero))"
   ]
  },
  {
   "cell_type": "markdown",
   "id": "29973724",
   "metadata": {},
   "source": [
    "### extra"
   ]
  },
  {
   "cell_type": "markdown",
   "id": "764fe7b4",
   "metadata": {},
   "source": [
    "Miscellaneous extras and surcharges (this only includes the 0.50 and 1.00 rush hour and overnight charges)"
   ]
  },
  {
   "cell_type": "code",
   "execution_count": 57,
   "id": "ea8c6793",
   "metadata": {},
   "outputs": [
    {
     "data": {
      "text/plain": [
       "count    2.832607e+07\n",
       "mean     3.957281e-01\n",
       "std      5.724350e-01\n",
       "min     -2.542000e+01\n",
       "25%      0.000000e+00\n",
       "50%      0.000000e+00\n",
       "75%      5.000000e-01\n",
       "max      3.000000e+01\n",
       "Name: extra, dtype: float64"
      ]
     },
     "execution_count": 57,
     "metadata": {},
     "output_type": "execute_result"
    }
   ],
   "source": [
    "taxi_trips['extra'].describe()"
   ]
  },
  {
   "cell_type": "code",
   "execution_count": 58,
   "id": "e62a41d9",
   "metadata": {},
   "outputs": [],
   "source": [
    "# Reassigning the column with it's absolute value\n",
    "taxi_trips['extra'] = taxi_trips['extra'].abs()"
   ]
  },
  {
   "cell_type": "code",
   "execution_count": 59,
   "id": "478a7519",
   "metadata": {},
   "outputs": [
    {
     "data": {
      "text/plain": [
       "0.00    14389099\n",
       "0.50     8158890\n",
       "1.00     5066194\n",
       "2.75      605657\n",
       "3.25       35476\n",
       "          ...   \n",
       "1.46           1\n",
       "2.20           1\n",
       "3.66           1\n",
       "1.71           1\n",
       "0.83           1\n",
       "Name: extra, Length: 105, dtype: int64"
      ]
     },
     "execution_count": 59,
     "metadata": {},
     "output_type": "execute_result"
    }
   ],
   "source": [
    "taxi_trips['extra'].value_counts()"
   ]
  },
  {
   "cell_type": "markdown",
   "id": "01596565",
   "metadata": {},
   "source": [
    "### mta_tax"
   ]
  },
  {
   "cell_type": "markdown",
   "id": "ca048b3f",
   "metadata": {},
   "source": [
    "$0.50 MTA tax that is automatically triggered based on the metered rate in use"
   ]
  },
  {
   "cell_type": "code",
   "execution_count": 60,
   "id": "c7c0376a",
   "metadata": {},
   "outputs": [
    {
     "data": {
      "text/plain": [
       "count    2.832607e+07\n",
       "mean     4.785649e-01\n",
       "std      1.085238e-01\n",
       "min     -5.000000e-01\n",
       "25%      5.000000e-01\n",
       "50%      5.000000e-01\n",
       "75%      5.000000e-01\n",
       "max      8.291000e+01\n",
       "Name: mta_tax, dtype: float64"
      ]
     },
     "execution_count": 60,
     "metadata": {},
     "output_type": "execute_result"
    }
   ],
   "source": [
    "taxi_trips['mta_tax'].describe()"
   ]
  },
  {
   "cell_type": "code",
   "execution_count": 61,
   "id": "605f468a",
   "metadata": {},
   "outputs": [],
   "source": [
    "# Reassigning the column with it's absolute value\n",
    "taxi_trips['mta_tax'] = taxi_trips['mta_tax'].abs()"
   ]
  },
  {
   "cell_type": "code",
   "execution_count": null,
   "id": "7633c99e",
   "metadata": {},
   "outputs": [],
   "source": []
  },
  {
   "cell_type": "code",
   "execution_count": null,
   "id": "65d33cf3",
   "metadata": {},
   "outputs": [],
   "source": []
  },
  {
   "cell_type": "code",
   "execution_count": null,
   "id": "d4a1db3a",
   "metadata": {},
   "outputs": [],
   "source": []
  },
  {
   "cell_type": "code",
   "execution_count": null,
   "id": "863f9961",
   "metadata": {},
   "outputs": [],
   "source": []
  },
  {
   "cell_type": "code",
   "execution_count": null,
   "id": "67796899",
   "metadata": {},
   "outputs": [],
   "source": []
  },
  {
   "cell_type": "code",
   "execution_count": null,
   "id": "bbdbfb8c",
   "metadata": {},
   "outputs": [],
   "source": []
  },
  {
   "cell_type": "code",
   "execution_count": null,
   "id": "5751fb25",
   "metadata": {},
   "outputs": [],
   "source": []
  },
  {
   "cell_type": "code",
   "execution_count": null,
   "id": "261c22fa",
   "metadata": {},
   "outputs": [],
   "source": []
  },
  {
   "cell_type": "code",
   "execution_count": null,
   "id": "d3b0685e",
   "metadata": {},
   "outputs": [],
   "source": []
  },
  {
   "cell_type": "code",
   "execution_count": null,
   "id": "9fba6714",
   "metadata": {},
   "outputs": [],
   "source": []
  },
  {
   "cell_type": "code",
   "execution_count": null,
   "id": "f24c8535",
   "metadata": {},
   "outputs": [],
   "source": []
  },
  {
   "cell_type": "code",
   "execution_count": null,
   "id": "375c9c82",
   "metadata": {},
   "outputs": [],
   "source": []
  },
  {
   "cell_type": "code",
   "execution_count": null,
   "id": "16c2d16d",
   "metadata": {},
   "outputs": [],
   "source": []
  },
  {
   "cell_type": "code",
   "execution_count": null,
   "id": "c5f65df9",
   "metadata": {},
   "outputs": [],
   "source": []
  },
  {
   "cell_type": "code",
   "execution_count": null,
   "id": "dfb12ba1",
   "metadata": {},
   "outputs": [],
   "source": []
  },
  {
   "cell_type": "code",
   "execution_count": null,
   "id": "1479a165",
   "metadata": {},
   "outputs": [],
   "source": []
  },
  {
   "cell_type": "markdown",
   "id": "3164854a",
   "metadata": {},
   "source": [
    "### tip_amount"
   ]
  },
  {
   "cell_type": "markdown",
   "id": "7082545d",
   "metadata": {},
   "source": [
    "Tip amount (automatically populated for credit card tips - cash tips are not included)"
   ]
  },
  {
   "cell_type": "code",
   "execution_count": 62,
   "id": "42c72b96",
   "metadata": {},
   "outputs": [
    {
     "data": {
      "text/plain": [
       "count    2.832607e+07\n",
       "mean     1.080043e+00\n",
       "std      2.094613e+00\n",
       "min     -1.010000e+02\n",
       "25%      0.000000e+00\n",
       "50%      0.000000e+00\n",
       "75%      1.860000e+00\n",
       "max      6.412000e+02\n",
       "Name: tip_amount, dtype: float64"
      ]
     },
     "execution_count": 62,
     "metadata": {},
     "output_type": "execute_result"
    }
   ],
   "source": [
    "taxi_trips['tip_amount'].describe()"
   ]
  },
  {
   "cell_type": "code",
   "execution_count": 63,
   "id": "d357c6d7",
   "metadata": {},
   "outputs": [],
   "source": [
    "# Reassigning the column with it's absolute value\n",
    "taxi_trips['tip_amount'] = taxi_trips['tip_amount'].abs()"
   ]
  },
  {
   "cell_type": "markdown",
   "id": "f025c38c",
   "metadata": {},
   "source": [
    "### tolls_amount"
   ]
  },
  {
   "cell_type": "markdown",
   "id": "9dda286f",
   "metadata": {},
   "source": [
    "Total amount of all tolls paid in trip"
   ]
  },
  {
   "cell_type": "code",
   "execution_count": 64,
   "id": "4f697bcf",
   "metadata": {},
   "outputs": [
    {
     "data": {
      "text/plain": [
       "count    2.832607e+07\n",
       "mean     1.764550e-01\n",
       "std      1.988191e+00\n",
       "min     -8.000000e+01\n",
       "25%      0.000000e+00\n",
       "50%      0.000000e+00\n",
       "75%      0.000000e+00\n",
       "max      7.999920e+03\n",
       "Name: tolls_amount, dtype: float64"
      ]
     },
     "execution_count": 64,
     "metadata": {},
     "output_type": "execute_result"
    }
   ],
   "source": [
    "taxi_trips['tolls_amount'].describe()"
   ]
  },
  {
   "cell_type": "code",
   "execution_count": 65,
   "id": "17431bee",
   "metadata": {},
   "outputs": [],
   "source": [
    "# Reassigning the column with it's absolute value\n",
    "taxi_trips['tolls_amount'] = taxi_trips['tolls_amount'].abs()"
   ]
  },
  {
   "cell_type": "markdown",
   "id": "65d16bca",
   "metadata": {},
   "source": [
    "### improvement_surcharge"
   ]
  },
  {
   "cell_type": "markdown",
   "id": "3bc7f0c9",
   "metadata": {},
   "source": [
    "$0.30 improvement surcharge assessed on hailed trips at the flag drop"
   ]
  },
  {
   "cell_type": "code",
   "execution_count": 66,
   "id": "848b3ff6",
   "metadata": {},
   "outputs": [
    {
     "data": {
      "text/plain": [
       "count    2.832607e+07\n",
       "mean     2.869971e-01\n",
       "std      6.460169e-02\n",
       "min     -3.000000e-01\n",
       "25%      3.000000e-01\n",
       "50%      3.000000e-01\n",
       "75%      3.000000e-01\n",
       "max      4.700000e-01\n",
       "Name: improvement_surcharge, dtype: float64"
      ]
     },
     "execution_count": 66,
     "metadata": {},
     "output_type": "execute_result"
    }
   ],
   "source": [
    "taxi_trips['improvement_surcharge'].describe()"
   ]
  },
  {
   "cell_type": "code",
   "execution_count": 67,
   "id": "7a7d23da",
   "metadata": {},
   "outputs": [],
   "source": [
    "# Reassigning the column with it's absolute value\n",
    "taxi_trips['improvement_surcharge'] = taxi_trips['improvement_surcharge'].abs()"
   ]
  },
  {
   "cell_type": "code",
   "execution_count": 68,
   "id": "d8b00460",
   "metadata": {},
   "outputs": [
    {
     "data": {
      "text/plain": [
       "0.30    27237306\n",
       "0.00     1088751\n",
       "0.43           3\n",
       "0.11           2\n",
       "0.12           1\n",
       "0.46           1\n",
       "0.32           1\n",
       "0.44           1\n",
       "0.47           1\n",
       "0.17           1\n",
       "0.13           1\n",
       "Name: improvement_surcharge, dtype: int64"
      ]
     },
     "execution_count": 68,
     "metadata": {},
     "output_type": "execute_result"
    }
   ],
   "source": [
    "taxi_trips['improvement_surcharge'].value_counts()"
   ]
  },
  {
   "cell_type": "code",
   "execution_count": 69,
   "id": "a68e6fb4",
   "metadata": {},
   "outputs": [
    {
     "data": {
      "text/plain": [
       "2"
      ]
     },
     "execution_count": 69,
     "metadata": {},
     "output_type": "execute_result"
    }
   ],
   "source": [
    "taxi_trips['improvement_surcharge'].isnull().sum()"
   ]
  },
  {
   "cell_type": "code",
   "execution_count": 70,
   "id": "6d3cb915",
   "metadata": {},
   "outputs": [],
   "source": [
    "taxi_trips['improvement_surcharge'].fillna(value=0.0, inplace=True)"
   ]
  },
  {
   "cell_type": "markdown",
   "id": "549cd42e",
   "metadata": {},
   "source": [
    "### total_amount"
   ]
  },
  {
   "cell_type": "markdown",
   "id": "d1886fb1",
   "metadata": {},
   "source": [
    "The total amount charged to passengers (does not include cash tips)"
   ]
  },
  {
   "cell_type": "code",
   "execution_count": 71,
   "id": "6d7204be",
   "metadata": {},
   "outputs": [
    {
     "data": {
      "text/plain": [
       "count    2.832607e+07\n",
       "mean     1.571784e+01\n",
       "std      1.321935e+01\n",
       "min     -8.903000e+02\n",
       "25%      8.300000e+00\n",
       "50%      1.180000e+01\n",
       "75%      1.880000e+01\n",
       "max      1.052875e+04\n",
       "Name: total_amount, dtype: float64"
      ]
     },
     "execution_count": 71,
     "metadata": {},
     "output_type": "execute_result"
    }
   ],
   "source": [
    "taxi_trips['total_amount'].describe()"
   ]
  },
  {
   "cell_type": "code",
   "execution_count": 72,
   "id": "5957da7a",
   "metadata": {},
   "outputs": [],
   "source": [
    "# Reassigning the column with it's absolute value\n",
    "taxi_trips['total_amount'] = taxi_trips['total_amount'].abs()"
   ]
  },
  {
   "cell_type": "code",
   "execution_count": 73,
   "id": "2ad128a0",
   "metadata": {},
   "outputs": [
    {
     "name": "stdout",
     "output_type": "stream",
     "text": [
      "There are 56972 records where the total_amount is zero\n"
     ]
    }
   ],
   "source": [
    "# How many rows are there where the total_amount is zero?\n",
    "total_amount_zero = taxi_trips.loc[taxi_trips['total_amount']==0].shape[0]\n",
    "\n",
    "print('There are {} records where the total_amount is zero'.format(total_amount_zero))"
   ]
  },
  {
   "cell_type": "markdown",
   "id": "94bb0510",
   "metadata": {},
   "source": [
    "### payment_type"
   ]
  },
  {
   "cell_type": "markdown",
   "id": "4249abc7",
   "metadata": {},
   "source": [
    "A numeric code signifying how the passenger paid for the trip (1= Credit card; 2= Cash; 3= No charge; 4= Dispute; 5= Unknown; 6= Voided trip)"
   ]
  },
  {
   "cell_type": "code",
   "execution_count": 74,
   "id": "09f35fed",
   "metadata": {},
   "outputs": [
    {
     "data": {
      "text/plain": [
       "1    14793538\n",
       "2    12392982\n",
       "0      942199\n",
       "3      132220\n",
       "4       63966\n",
       "5        1166\n",
       "Name: payment_type, dtype: int64"
      ]
     },
     "execution_count": 74,
     "metadata": {},
     "output_type": "execute_result"
    }
   ],
   "source": [
    "# Checking values in payment_type\n",
    "taxi_trips['payment_type'].value_counts()"
   ]
  },
  {
   "cell_type": "code",
   "execution_count": 75,
   "id": "92a6cbf6",
   "metadata": {},
   "outputs": [
    {
     "data": {
      "text/plain": [
       "Credit card    14793538\n",
       "Cash           12392982\n",
       "No charge        132220\n",
       "Dispute           63966\n",
       "Unknown            1166\n",
       "Name: payment_type, dtype: int64"
      ]
     },
     "execution_count": 75,
     "metadata": {},
     "output_type": "execute_result"
    }
   ],
   "source": [
    "payment_types = {1 : 'Credit card', 2 : 'Cash', 3 : 'No charge', 4 : 'Dispute', 5 : 'Unknown', 6 : 'Voided trip'}\n",
    "\n",
    "taxi_trips['payment_type'] = taxi_trips['payment_type'].map(payment_types)\n",
    "\n",
    "taxi_trips['payment_type'].value_counts()"
   ]
  },
  {
   "cell_type": "markdown",
   "id": "fb84e911",
   "metadata": {},
   "source": [
    "### trip_type"
   ]
  },
  {
   "cell_type": "markdown",
   "id": "ebe46bbb",
   "metadata": {},
   "source": [
    "A code indicating whether the trip was a street-hail or a dispatch that is automatically assigned based on the metered rate in use but can be altered by the driver (1= Street-hail; 2= Dispatch)"
   ]
  },
  {
   "cell_type": "code",
   "execution_count": 76,
   "id": "b34917bb",
   "metadata": {},
   "outputs": [
    {
     "data": {
      "text/plain": [
       "1    26640078\n",
       "0      942653\n",
       "2      743340\n",
       "Name: trip_type, dtype: int64"
      ]
     },
     "execution_count": 76,
     "metadata": {},
     "output_type": "execute_result"
    }
   ],
   "source": [
    "# Checking values in trip_type\n",
    "taxi_trips['trip_type'].value_counts()"
   ]
  },
  {
   "cell_type": "code",
   "execution_count": 77,
   "id": "e370a78b",
   "metadata": {},
   "outputs": [
    {
     "data": {
      "text/plain": [
       "Street-hail    26640078\n",
       "Unknown          942653\n",
       "Dispatch         743340\n",
       "Name: trip_type, dtype: int64"
      ]
     },
     "execution_count": 77,
     "metadata": {},
     "output_type": "execute_result"
    }
   ],
   "source": [
    "trip_types = {1 : 'Street-hail', 2 : 'Dispatch', 0 : 'Unknown'}\n",
    "\n",
    "taxi_trips['trip_type'] = taxi_trips['trip_type'].map(trip_types)\n",
    "\n",
    "taxi_trips['trip_type'].value_counts()"
   ]
  },
  {
   "cell_type": "markdown",
   "id": "80d2fd6d",
   "metadata": {},
   "source": [
    "### congestion_surcharge"
   ]
  },
  {
   "cell_type": "markdown",
   "id": "72d147bf",
   "metadata": {},
   "source": [
    "Congestion surcharge for trips that start, end or pass through the congestion zone in Manhattan, south of 96th street (2.50 for non-shared trips in Yellow Taxis; 2.75 for non-shared trips in Green Taxis)"
   ]
  },
  {
   "cell_type": "code",
   "execution_count": 78,
   "id": "df8f3710",
   "metadata": {},
   "outputs": [
    {
     "data": {
      "text/plain": [
       "count    2.683749e+07\n",
       "mean     9.726175e-02\n",
       "std      5.078660e-01\n",
       "min     -2.750000e+00\n",
       "25%      0.000000e+00\n",
       "50%      0.000000e+00\n",
       "75%      0.000000e+00\n",
       "max      2.750000e+00\n",
       "Name: congestion_surcharge, dtype: float64"
      ]
     },
     "execution_count": 78,
     "metadata": {},
     "output_type": "execute_result"
    }
   ],
   "source": [
    "taxi_trips['congestion_surcharge'].describe()"
   ]
  },
  {
   "cell_type": "code",
   "execution_count": 79,
   "id": "a8798c72",
   "metadata": {},
   "outputs": [],
   "source": [
    "# Reassigning the column with it's absolute value\n",
    "taxi_trips['congestion_surcharge'] = taxi_trips['congestion_surcharge'].abs()"
   ]
  },
  {
   "cell_type": "code",
   "execution_count": 80,
   "id": "2caab434",
   "metadata": {},
   "outputs": [
    {
     "data": {
      "text/plain": [
       "0.00    25887588\n",
       "2.75      944457\n",
       "2.50        5361\n",
       "0.75          81\n",
       "2.00           2\n",
       "0.30           1\n",
       "Name: congestion_surcharge, dtype: int64"
      ]
     },
     "execution_count": 80,
     "metadata": {},
     "output_type": "execute_result"
    }
   ],
   "source": [
    "taxi_trips['congestion_surcharge'].value_counts()"
   ]
  },
  {
   "cell_type": "code",
   "execution_count": 81,
   "id": "5c6cace4",
   "metadata": {},
   "outputs": [
    {
     "data": {
      "text/plain": [
       "1488581"
      ]
     },
     "execution_count": 81,
     "metadata": {},
     "output_type": "execute_result"
    }
   ],
   "source": [
    "taxi_trips['congestion_surcharge'].isnull().sum()"
   ]
  },
  {
   "cell_type": "code",
   "execution_count": 82,
   "id": "9c348998",
   "metadata": {},
   "outputs": [],
   "source": [
    "taxi_trips['congestion_surcharge'].fillna(value=0.0, inplace=True)"
   ]
  },
  {
   "cell_type": "markdown",
   "id": "706a2396",
   "metadata": {},
   "source": [
    "Only 0.00, 2.50, and 2.75 are valid for congestion_surcharge. Others needs to be modified."
   ]
  },
  {
   "cell_type": "markdown",
   "id": "5a94e251",
   "metadata": {},
   "source": [
    "## total_amount formula"
   ]
  },
  {
   "cell_type": "markdown",
   "id": "edb7b975",
   "metadata": {},
   "source": [
    "total_amount = fare_amount + improvement_surcharge + tolls_amount + tip_amount + mta_tax + extra + congestion_surcharge"
   ]
  },
  {
   "cell_type": "code",
   "execution_count": 83,
   "id": "fc1c2966",
   "metadata": {},
   "outputs": [],
   "source": [
    "taxi_trips['total_amount_check'] = (taxi_trips['fare_amount'] + taxi_trips['improvement_surcharge'] + taxi_trips['tolls_amount'] + taxi_trips['tip_amount'] + taxi_trips['mta_tax'] + taxi_trips['extra'] + taxi_trips['congestion_surcharge']).round(2)"
   ]
  },
  {
   "cell_type": "code",
   "execution_count": 84,
   "id": "a616b1f1",
   "metadata": {},
   "outputs": [
    {
     "data": {
      "text/plain": [
       "0"
      ]
     },
     "execution_count": 84,
     "metadata": {},
     "output_type": "execute_result"
    }
   ],
   "source": [
    "taxi_trips['total_amount_check'].isnull().sum()"
   ]
  },
  {
   "cell_type": "code",
   "execution_count": 85,
   "id": "244ef3b5",
   "metadata": {},
   "outputs": [],
   "source": [
    "# Does total_amount match with total_amount_check?\n",
    "taxi_trips['total_amount_match?'] = np.where(taxi_trips['total_amount'] == taxi_trips['total_amount_check'], 'Match', 'No Match')"
   ]
  },
  {
   "cell_type": "code",
   "execution_count": 132,
   "id": "05677f0d",
   "metadata": {},
   "outputs": [],
   "source": [
    "taxi_trips['total_amount_difference'] = taxi_trips['total_amount'] - taxi_trips['total_amount_check']"
   ]
  },
  {
   "cell_type": "code",
   "execution_count": 133,
   "id": "b0e7c4aa",
   "metadata": {},
   "outputs": [
    {
     "data": {
      "text/html": [
       "<div>\n",
       "<style scoped>\n",
       "    .dataframe tbody tr th:only-of-type {\n",
       "        vertical-align: middle;\n",
       "    }\n",
       "\n",
       "    .dataframe tbody tr th {\n",
       "        vertical-align: top;\n",
       "    }\n",
       "\n",
       "    .dataframe thead th {\n",
       "        text-align: right;\n",
       "    }\n",
       "</style>\n",
       "<table border=\"1\" class=\"dataframe\">\n",
       "  <thead>\n",
       "    <tr style=\"text-align: right;\">\n",
       "      <th></th>\n",
       "      <th>VendorID</th>\n",
       "      <th>lpep_pickup_datetime</th>\n",
       "      <th>lpep_dropoff_datetime</th>\n",
       "      <th>store_and_fwd_flag</th>\n",
       "      <th>RatecodeID</th>\n",
       "      <th>PULocationID</th>\n",
       "      <th>DOLocationID</th>\n",
       "      <th>passenger_count</th>\n",
       "      <th>trip_distance</th>\n",
       "      <th>fare_amount</th>\n",
       "      <th>extra</th>\n",
       "      <th>mta_tax</th>\n",
       "      <th>tip_amount</th>\n",
       "      <th>tolls_amount</th>\n",
       "      <th>improvement_surcharge</th>\n",
       "      <th>total_amount</th>\n",
       "      <th>payment_type</th>\n",
       "      <th>trip_type</th>\n",
       "      <th>congestion_surcharge</th>\n",
       "      <th>Vendor</th>\n",
       "      <th>Ratecode</th>\n",
       "      <th>PU_Borough</th>\n",
       "      <th>PU_Zone</th>\n",
       "      <th>PU_service_zone</th>\n",
       "      <th>DO_Borough</th>\n",
       "      <th>DO_Zone</th>\n",
       "      <th>DO_service_zone</th>\n",
       "      <th>total_amount_check</th>\n",
       "      <th>total_amount_match?</th>\n",
       "      <th>total_amount_difference</th>\n",
       "    </tr>\n",
       "  </thead>\n",
       "  <tbody>\n",
       "    <tr>\n",
       "      <th>0</th>\n",
       "      <td>1</td>\n",
       "      <td>2017-01-01 09:00:01</td>\n",
       "      <td>2017-01-01 09:03:56</td>\n",
       "      <td>N</td>\n",
       "      <td>1</td>\n",
       "      <td>74</td>\n",
       "      <td>41</td>\n",
       "      <td>1</td>\n",
       "      <td>0.70</td>\n",
       "      <td>5.00</td>\n",
       "      <td>0.0</td>\n",
       "      <td>0.5</td>\n",
       "      <td>0.0</td>\n",
       "      <td>0.00</td>\n",
       "      <td>0.3</td>\n",
       "      <td>5.8</td>\n",
       "      <td>Cash</td>\n",
       "      <td>Street-hail</td>\n",
       "      <td>0.0</td>\n",
       "      <td>Creative Mobile Technologies, LLC</td>\n",
       "      <td>Standard rate</td>\n",
       "      <td>Manhattan</td>\n",
       "      <td>East Harlem North</td>\n",
       "      <td>Boro Zone</td>\n",
       "      <td>Manhattan</td>\n",
       "      <td>Central Harlem</td>\n",
       "      <td>Boro Zone</td>\n",
       "      <td>5.8</td>\n",
       "      <td>Match</td>\n",
       "      <td>0.0</td>\n",
       "    </tr>\n",
       "    <tr>\n",
       "      <th>1</th>\n",
       "      <td>1</td>\n",
       "      <td>2017-01-01 18:57:55</td>\n",
       "      <td>2017-01-01 19:01:16</td>\n",
       "      <td>N</td>\n",
       "      <td>1</td>\n",
       "      <td>42</td>\n",
       "      <td>41</td>\n",
       "      <td>1</td>\n",
       "      <td>0.70</td>\n",
       "      <td>5.00</td>\n",
       "      <td>0.0</td>\n",
       "      <td>0.5</td>\n",
       "      <td>0.0</td>\n",
       "      <td>0.00</td>\n",
       "      <td>0.3</td>\n",
       "      <td>5.8</td>\n",
       "      <td>Cash</td>\n",
       "      <td>Street-hail</td>\n",
       "      <td>0.0</td>\n",
       "      <td>Creative Mobile Technologies, LLC</td>\n",
       "      <td>Standard rate</td>\n",
       "      <td>Manhattan</td>\n",
       "      <td>Central Harlem North</td>\n",
       "      <td>Boro Zone</td>\n",
       "      <td>Manhattan</td>\n",
       "      <td>Central Harlem</td>\n",
       "      <td>Boro Zone</td>\n",
       "      <td>5.8</td>\n",
       "      <td>Match</td>\n",
       "      <td>0.0</td>\n",
       "    </tr>\n",
       "    <tr>\n",
       "      <th>2</th>\n",
       "      <td>2</td>\n",
       "      <td>2017-01-02 06:55:47</td>\n",
       "      <td>2017-01-02 06:58:54</td>\n",
       "      <td>N</td>\n",
       "      <td>1</td>\n",
       "      <td>42</td>\n",
       "      <td>41</td>\n",
       "      <td>1</td>\n",
       "      <td>0.70</td>\n",
       "      <td>5.00</td>\n",
       "      <td>0.0</td>\n",
       "      <td>0.5</td>\n",
       "      <td>0.0</td>\n",
       "      <td>0.00</td>\n",
       "      <td>0.3</td>\n",
       "      <td>5.8</td>\n",
       "      <td>Cash</td>\n",
       "      <td>Street-hail</td>\n",
       "      <td>0.0</td>\n",
       "      <td>Verifone Inc.</td>\n",
       "      <td>Standard rate</td>\n",
       "      <td>Manhattan</td>\n",
       "      <td>Central Harlem North</td>\n",
       "      <td>Boro Zone</td>\n",
       "      <td>Manhattan</td>\n",
       "      <td>Central Harlem</td>\n",
       "      <td>Boro Zone</td>\n",
       "      <td>5.8</td>\n",
       "      <td>Match</td>\n",
       "      <td>0.0</td>\n",
       "    </tr>\n",
       "    <tr>\n",
       "      <th>3</th>\n",
       "      <td>2</td>\n",
       "      <td>2017-01-02 14:34:17</td>\n",
       "      <td>2017-01-02 14:39:29</td>\n",
       "      <td>N</td>\n",
       "      <td>1</td>\n",
       "      <td>74</td>\n",
       "      <td>41</td>\n",
       "      <td>1</td>\n",
       "      <td>0.70</td>\n",
       "      <td>5.00</td>\n",
       "      <td>0.0</td>\n",
       "      <td>0.5</td>\n",
       "      <td>0.0</td>\n",
       "      <td>0.00</td>\n",
       "      <td>0.3</td>\n",
       "      <td>5.8</td>\n",
       "      <td>Cash</td>\n",
       "      <td>Street-hail</td>\n",
       "      <td>0.0</td>\n",
       "      <td>Verifone Inc.</td>\n",
       "      <td>Standard rate</td>\n",
       "      <td>Manhattan</td>\n",
       "      <td>East Harlem North</td>\n",
       "      <td>Boro Zone</td>\n",
       "      <td>Manhattan</td>\n",
       "      <td>Central Harlem</td>\n",
       "      <td>Boro Zone</td>\n",
       "      <td>5.8</td>\n",
       "      <td>Match</td>\n",
       "      <td>0.0</td>\n",
       "    </tr>\n",
       "    <tr>\n",
       "      <th>4</th>\n",
       "      <td>1</td>\n",
       "      <td>2017-01-03 06:12:30</td>\n",
       "      <td>2017-01-03 06:15:56</td>\n",
       "      <td>N</td>\n",
       "      <td>1</td>\n",
       "      <td>42</td>\n",
       "      <td>41</td>\n",
       "      <td>1</td>\n",
       "      <td>0.70</td>\n",
       "      <td>5.00</td>\n",
       "      <td>0.0</td>\n",
       "      <td>0.5</td>\n",
       "      <td>0.0</td>\n",
       "      <td>0.00</td>\n",
       "      <td>0.3</td>\n",
       "      <td>5.8</td>\n",
       "      <td>Cash</td>\n",
       "      <td>Street-hail</td>\n",
       "      <td>0.0</td>\n",
       "      <td>Creative Mobile Technologies, LLC</td>\n",
       "      <td>Standard rate</td>\n",
       "      <td>Manhattan</td>\n",
       "      <td>Central Harlem North</td>\n",
       "      <td>Boro Zone</td>\n",
       "      <td>Manhattan</td>\n",
       "      <td>Central Harlem</td>\n",
       "      <td>Boro Zone</td>\n",
       "      <td>5.8</td>\n",
       "      <td>Match</td>\n",
       "      <td>0.0</td>\n",
       "    </tr>\n",
       "    <tr>\n",
       "      <th>...</th>\n",
       "      <td>...</td>\n",
       "      <td>...</td>\n",
       "      <td>...</td>\n",
       "      <td>...</td>\n",
       "      <td>...</td>\n",
       "      <td>...</td>\n",
       "      <td>...</td>\n",
       "      <td>...</td>\n",
       "      <td>...</td>\n",
       "      <td>...</td>\n",
       "      <td>...</td>\n",
       "      <td>...</td>\n",
       "      <td>...</td>\n",
       "      <td>...</td>\n",
       "      <td>...</td>\n",
       "      <td>...</td>\n",
       "      <td>...</td>\n",
       "      <td>...</td>\n",
       "      <td>...</td>\n",
       "      <td>...</td>\n",
       "      <td>...</td>\n",
       "      <td>...</td>\n",
       "      <td>...</td>\n",
       "      <td>...</td>\n",
       "      <td>...</td>\n",
       "      <td>...</td>\n",
       "      <td>...</td>\n",
       "      <td>...</td>\n",
       "      <td>...</td>\n",
       "      <td>...</td>\n",
       "    </tr>\n",
       "    <tr>\n",
       "      <th>28326066</th>\n",
       "      <td>0</td>\n",
       "      <td>2020-08-18 02:26:00</td>\n",
       "      <td>2020-08-18 02:52:00</td>\n",
       "      <td>NaN</td>\n",
       "      <td>0</td>\n",
       "      <td>117</td>\n",
       "      <td>76</td>\n",
       "      <td>0</td>\n",
       "      <td>10.64</td>\n",
       "      <td>46.61</td>\n",
       "      <td>0.0</td>\n",
       "      <td>0.0</td>\n",
       "      <td>0.0</td>\n",
       "      <td>2.29</td>\n",
       "      <td>0.3</td>\n",
       "      <td>49.2</td>\n",
       "      <td>NaN</td>\n",
       "      <td>Unknown</td>\n",
       "      <td>0.0</td>\n",
       "      <td>Unknown</td>\n",
       "      <td>Unknown</td>\n",
       "      <td>Queens</td>\n",
       "      <td>Hammels/Arverne</td>\n",
       "      <td>Boro Zone</td>\n",
       "      <td>Brooklyn</td>\n",
       "      <td>East New York</td>\n",
       "      <td>Boro Zone</td>\n",
       "      <td>49.2</td>\n",
       "      <td>Match</td>\n",
       "      <td>0.0</td>\n",
       "    </tr>\n",
       "    <tr>\n",
       "      <th>28326067</th>\n",
       "      <td>0</td>\n",
       "      <td>2020-08-18 03:02:00</td>\n",
       "      <td>2020-08-18 03:43:00</td>\n",
       "      <td>NaN</td>\n",
       "      <td>0</td>\n",
       "      <td>117</td>\n",
       "      <td>232</td>\n",
       "      <td>0</td>\n",
       "      <td>24.39</td>\n",
       "      <td>93.41</td>\n",
       "      <td>0.0</td>\n",
       "      <td>0.0</td>\n",
       "      <td>0.0</td>\n",
       "      <td>2.29</td>\n",
       "      <td>0.3</td>\n",
       "      <td>96.0</td>\n",
       "      <td>NaN</td>\n",
       "      <td>Unknown</td>\n",
       "      <td>0.0</td>\n",
       "      <td>Unknown</td>\n",
       "      <td>Unknown</td>\n",
       "      <td>Queens</td>\n",
       "      <td>Hammels/Arverne</td>\n",
       "      <td>Boro Zone</td>\n",
       "      <td>Manhattan</td>\n",
       "      <td>Two Bridges/Seward Park</td>\n",
       "      <td>Yellow Zone</td>\n",
       "      <td>96.0</td>\n",
       "      <td>Match</td>\n",
       "      <td>0.0</td>\n",
       "    </tr>\n",
       "    <tr>\n",
       "      <th>28326068</th>\n",
       "      <td>0</td>\n",
       "      <td>2020-08-25 03:16:00</td>\n",
       "      <td>2020-08-25 03:54:00</td>\n",
       "      <td>NaN</td>\n",
       "      <td>0</td>\n",
       "      <td>117</td>\n",
       "      <td>232</td>\n",
       "      <td>0</td>\n",
       "      <td>24.65</td>\n",
       "      <td>93.41</td>\n",
       "      <td>0.0</td>\n",
       "      <td>0.0</td>\n",
       "      <td>0.0</td>\n",
       "      <td>2.29</td>\n",
       "      <td>0.3</td>\n",
       "      <td>96.0</td>\n",
       "      <td>NaN</td>\n",
       "      <td>Unknown</td>\n",
       "      <td>0.0</td>\n",
       "      <td>Unknown</td>\n",
       "      <td>Unknown</td>\n",
       "      <td>Queens</td>\n",
       "      <td>Hammels/Arverne</td>\n",
       "      <td>Boro Zone</td>\n",
       "      <td>Manhattan</td>\n",
       "      <td>Two Bridges/Seward Park</td>\n",
       "      <td>Yellow Zone</td>\n",
       "      <td>96.0</td>\n",
       "      <td>Match</td>\n",
       "      <td>0.0</td>\n",
       "    </tr>\n",
       "    <tr>\n",
       "      <th>28326069</th>\n",
       "      <td>0</td>\n",
       "      <td>2020-08-30 02:48:00</td>\n",
       "      <td>2020-08-30 03:40:00</td>\n",
       "      <td>NaN</td>\n",
       "      <td>0</td>\n",
       "      <td>117</td>\n",
       "      <td>232</td>\n",
       "      <td>0</td>\n",
       "      <td>20.26</td>\n",
       "      <td>93.41</td>\n",
       "      <td>0.0</td>\n",
       "      <td>0.0</td>\n",
       "      <td>0.0</td>\n",
       "      <td>2.29</td>\n",
       "      <td>0.3</td>\n",
       "      <td>96.0</td>\n",
       "      <td>NaN</td>\n",
       "      <td>Unknown</td>\n",
       "      <td>0.0</td>\n",
       "      <td>Unknown</td>\n",
       "      <td>Unknown</td>\n",
       "      <td>Queens</td>\n",
       "      <td>Hammels/Arverne</td>\n",
       "      <td>Boro Zone</td>\n",
       "      <td>Manhattan</td>\n",
       "      <td>Two Bridges/Seward Park</td>\n",
       "      <td>Yellow Zone</td>\n",
       "      <td>96.0</td>\n",
       "      <td>Match</td>\n",
       "      <td>0.0</td>\n",
       "    </tr>\n",
       "    <tr>\n",
       "      <th>28326070</th>\n",
       "      <td>0</td>\n",
       "      <td>2020-08-04 04:37:00</td>\n",
       "      <td>2020-08-04 05:11:00</td>\n",
       "      <td>NaN</td>\n",
       "      <td>0</td>\n",
       "      <td>117</td>\n",
       "      <td>138</td>\n",
       "      <td>0</td>\n",
       "      <td>19.32</td>\n",
       "      <td>65.51</td>\n",
       "      <td>0.0</td>\n",
       "      <td>0.0</td>\n",
       "      <td>0.0</td>\n",
       "      <td>2.29</td>\n",
       "      <td>0.3</td>\n",
       "      <td>68.1</td>\n",
       "      <td>NaN</td>\n",
       "      <td>Unknown</td>\n",
       "      <td>0.0</td>\n",
       "      <td>Unknown</td>\n",
       "      <td>Unknown</td>\n",
       "      <td>Queens</td>\n",
       "      <td>Hammels/Arverne</td>\n",
       "      <td>Boro Zone</td>\n",
       "      <td>Queens</td>\n",
       "      <td>LaGuardia Airport</td>\n",
       "      <td>Airports</td>\n",
       "      <td>68.1</td>\n",
       "      <td>Match</td>\n",
       "      <td>0.0</td>\n",
       "    </tr>\n",
       "  </tbody>\n",
       "</table>\n",
       "<p>28326071 rows × 30 columns</p>\n",
       "</div>"
      ],
      "text/plain": [
       "          VendorID lpep_pickup_datetime lpep_dropoff_datetime  \\\n",
       "0                1  2017-01-01 09:00:01   2017-01-01 09:03:56   \n",
       "1                1  2017-01-01 18:57:55   2017-01-01 19:01:16   \n",
       "2                2  2017-01-02 06:55:47   2017-01-02 06:58:54   \n",
       "3                2  2017-01-02 14:34:17   2017-01-02 14:39:29   \n",
       "4                1  2017-01-03 06:12:30   2017-01-03 06:15:56   \n",
       "...            ...                  ...                   ...   \n",
       "28326066         0  2020-08-18 02:26:00   2020-08-18 02:52:00   \n",
       "28326067         0  2020-08-18 03:02:00   2020-08-18 03:43:00   \n",
       "28326068         0  2020-08-25 03:16:00   2020-08-25 03:54:00   \n",
       "28326069         0  2020-08-30 02:48:00   2020-08-30 03:40:00   \n",
       "28326070         0  2020-08-04 04:37:00   2020-08-04 05:11:00   \n",
       "\n",
       "         store_and_fwd_flag  RatecodeID  PULocationID  DOLocationID  \\\n",
       "0                         N           1            74            41   \n",
       "1                         N           1            42            41   \n",
       "2                         N           1            42            41   \n",
       "3                         N           1            74            41   \n",
       "4                         N           1            42            41   \n",
       "...                     ...         ...           ...           ...   \n",
       "28326066                NaN           0           117            76   \n",
       "28326067                NaN           0           117           232   \n",
       "28326068                NaN           0           117           232   \n",
       "28326069                NaN           0           117           232   \n",
       "28326070                NaN           0           117           138   \n",
       "\n",
       "          passenger_count  trip_distance  fare_amount  extra  mta_tax  \\\n",
       "0                       1           0.70         5.00    0.0      0.5   \n",
       "1                       1           0.70         5.00    0.0      0.5   \n",
       "2                       1           0.70         5.00    0.0      0.5   \n",
       "3                       1           0.70         5.00    0.0      0.5   \n",
       "4                       1           0.70         5.00    0.0      0.5   \n",
       "...                   ...            ...          ...    ...      ...   \n",
       "28326066                0          10.64        46.61    0.0      0.0   \n",
       "28326067                0          24.39        93.41    0.0      0.0   \n",
       "28326068                0          24.65        93.41    0.0      0.0   \n",
       "28326069                0          20.26        93.41    0.0      0.0   \n",
       "28326070                0          19.32        65.51    0.0      0.0   \n",
       "\n",
       "          tip_amount  tolls_amount  improvement_surcharge  total_amount  \\\n",
       "0                0.0          0.00                    0.3           5.8   \n",
       "1                0.0          0.00                    0.3           5.8   \n",
       "2                0.0          0.00                    0.3           5.8   \n",
       "3                0.0          0.00                    0.3           5.8   \n",
       "4                0.0          0.00                    0.3           5.8   \n",
       "...              ...           ...                    ...           ...   \n",
       "28326066         0.0          2.29                    0.3          49.2   \n",
       "28326067         0.0          2.29                    0.3          96.0   \n",
       "28326068         0.0          2.29                    0.3          96.0   \n",
       "28326069         0.0          2.29                    0.3          96.0   \n",
       "28326070         0.0          2.29                    0.3          68.1   \n",
       "\n",
       "         payment_type    trip_type  congestion_surcharge  \\\n",
       "0                Cash  Street-hail                   0.0   \n",
       "1                Cash  Street-hail                   0.0   \n",
       "2                Cash  Street-hail                   0.0   \n",
       "3                Cash  Street-hail                   0.0   \n",
       "4                Cash  Street-hail                   0.0   \n",
       "...               ...          ...                   ...   \n",
       "28326066          NaN      Unknown                   0.0   \n",
       "28326067          NaN      Unknown                   0.0   \n",
       "28326068          NaN      Unknown                   0.0   \n",
       "28326069          NaN      Unknown                   0.0   \n",
       "28326070          NaN      Unknown                   0.0   \n",
       "\n",
       "                                     Vendor       Ratecode PU_Borough  \\\n",
       "0         Creative Mobile Technologies, LLC  Standard rate  Manhattan   \n",
       "1         Creative Mobile Technologies, LLC  Standard rate  Manhattan   \n",
       "2                             Verifone Inc.  Standard rate  Manhattan   \n",
       "3                             Verifone Inc.  Standard rate  Manhattan   \n",
       "4         Creative Mobile Technologies, LLC  Standard rate  Manhattan   \n",
       "...                                     ...            ...        ...   \n",
       "28326066                            Unknown        Unknown     Queens   \n",
       "28326067                            Unknown        Unknown     Queens   \n",
       "28326068                            Unknown        Unknown     Queens   \n",
       "28326069                            Unknown        Unknown     Queens   \n",
       "28326070                            Unknown        Unknown     Queens   \n",
       "\n",
       "                       PU_Zone PU_service_zone DO_Borough  \\\n",
       "0            East Harlem North       Boro Zone  Manhattan   \n",
       "1         Central Harlem North       Boro Zone  Manhattan   \n",
       "2         Central Harlem North       Boro Zone  Manhattan   \n",
       "3            East Harlem North       Boro Zone  Manhattan   \n",
       "4         Central Harlem North       Boro Zone  Manhattan   \n",
       "...                        ...             ...        ...   \n",
       "28326066       Hammels/Arverne       Boro Zone   Brooklyn   \n",
       "28326067       Hammels/Arverne       Boro Zone  Manhattan   \n",
       "28326068       Hammels/Arverne       Boro Zone  Manhattan   \n",
       "28326069       Hammels/Arverne       Boro Zone  Manhattan   \n",
       "28326070       Hammels/Arverne       Boro Zone     Queens   \n",
       "\n",
       "                          DO_Zone DO_service_zone  total_amount_check  \\\n",
       "0                  Central Harlem       Boro Zone                 5.8   \n",
       "1                  Central Harlem       Boro Zone                 5.8   \n",
       "2                  Central Harlem       Boro Zone                 5.8   \n",
       "3                  Central Harlem       Boro Zone                 5.8   \n",
       "4                  Central Harlem       Boro Zone                 5.8   \n",
       "...                           ...             ...                 ...   \n",
       "28326066            East New York       Boro Zone                49.2   \n",
       "28326067  Two Bridges/Seward Park     Yellow Zone                96.0   \n",
       "28326068  Two Bridges/Seward Park     Yellow Zone                96.0   \n",
       "28326069  Two Bridges/Seward Park     Yellow Zone                96.0   \n",
       "28326070        LaGuardia Airport        Airports                68.1   \n",
       "\n",
       "         total_amount_match?  total_amount_difference  \n",
       "0                      Match                      0.0  \n",
       "1                      Match                      0.0  \n",
       "2                      Match                      0.0  \n",
       "3                      Match                      0.0  \n",
       "4                      Match                      0.0  \n",
       "...                      ...                      ...  \n",
       "28326066               Match                      0.0  \n",
       "28326067               Match                      0.0  \n",
       "28326068               Match                      0.0  \n",
       "28326069               Match                      0.0  \n",
       "28326070               Match                      0.0  \n",
       "\n",
       "[28326071 rows x 30 columns]"
      ]
     },
     "execution_count": 133,
     "metadata": {},
     "output_type": "execute_result"
    }
   ],
   "source": [
    "taxi_trips"
   ]
  },
  {
   "cell_type": "code",
   "execution_count": 87,
   "id": "499d8c5b",
   "metadata": {},
   "outputs": [
    {
     "data": {
      "text/plain": [
       "Match       27735546\n",
       "No Match      590525\n",
       "Name: total_amount_match?, dtype: int64"
      ]
     },
     "execution_count": 87,
     "metadata": {},
     "output_type": "execute_result"
    }
   ],
   "source": [
    "taxi_trips['total_amount_match?'].value_counts()"
   ]
  },
  {
   "cell_type": "markdown",
   "id": "1004cb65",
   "metadata": {},
   "source": [
    "## Cleaning unrecognised values"
   ]
  },
  {
   "cell_type": "markdown",
   "id": "a42d58c0",
   "metadata": {},
   "source": [
    "### congestion_surcharge"
   ]
  },
  {
   "cell_type": "markdown",
   "id": "deed0e7f",
   "metadata": {},
   "source": [
    "Only 0.00, 2.50, and 2.75 are valid for congestion_surcharge. Others needs to be modified."
   ]
  },
  {
   "cell_type": "code",
   "execution_count": 134,
   "id": "27bfd2af",
   "metadata": {},
   "outputs": [
    {
     "data": {
      "text/html": [
       "<div>\n",
       "<style scoped>\n",
       "    .dataframe tbody tr th:only-of-type {\n",
       "        vertical-align: middle;\n",
       "    }\n",
       "\n",
       "    .dataframe tbody tr th {\n",
       "        vertical-align: top;\n",
       "    }\n",
       "\n",
       "    .dataframe thead th {\n",
       "        text-align: right;\n",
       "    }\n",
       "</style>\n",
       "<table border=\"1\" class=\"dataframe\">\n",
       "  <thead>\n",
       "    <tr style=\"text-align: right;\">\n",
       "      <th>congestion_surcharge</th>\n",
       "      <th>0.0</th>\n",
       "      <th>0.3</th>\n",
       "      <th>0.75</th>\n",
       "      <th>2.0</th>\n",
       "      <th>2.5</th>\n",
       "      <th>2.75</th>\n",
       "      <th>Total</th>\n",
       "    </tr>\n",
       "    <tr>\n",
       "      <th>Ratecode</th>\n",
       "      <th></th>\n",
       "      <th></th>\n",
       "      <th></th>\n",
       "      <th></th>\n",
       "      <th></th>\n",
       "      <th></th>\n",
       "      <th></th>\n",
       "    </tr>\n",
       "  </thead>\n",
       "  <tbody>\n",
       "    <tr>\n",
       "      <th>Group ride</th>\n",
       "      <td>349</td>\n",
       "      <td>0</td>\n",
       "      <td>0</td>\n",
       "      <td>0</td>\n",
       "      <td>0</td>\n",
       "      <td>0</td>\n",
       "      <td>349</td>\n",
       "    </tr>\n",
       "    <tr>\n",
       "      <th>JFK</th>\n",
       "      <td>55347</td>\n",
       "      <td>0</td>\n",
       "      <td>0</td>\n",
       "      <td>0</td>\n",
       "      <td>44</td>\n",
       "      <td>143</td>\n",
       "      <td>55534</td>\n",
       "    </tr>\n",
       "    <tr>\n",
       "      <th>Nassau or Westchester</th>\n",
       "      <td>18285</td>\n",
       "      <td>1</td>\n",
       "      <td>0</td>\n",
       "      <td>0</td>\n",
       "      <td>3</td>\n",
       "      <td>209</td>\n",
       "      <td>18498</td>\n",
       "    </tr>\n",
       "    <tr>\n",
       "      <th>Negotiated fare</th>\n",
       "      <td>733077</td>\n",
       "      <td>0</td>\n",
       "      <td>0</td>\n",
       "      <td>0</td>\n",
       "      <td>93</td>\n",
       "      <td>7052</td>\n",
       "      <td>740222</td>\n",
       "    </tr>\n",
       "    <tr>\n",
       "      <th>Newark</th>\n",
       "      <td>13769</td>\n",
       "      <td>0</td>\n",
       "      <td>0</td>\n",
       "      <td>0</td>\n",
       "      <td>0</td>\n",
       "      <td>0</td>\n",
       "      <td>13769</td>\n",
       "    </tr>\n",
       "    <tr>\n",
       "      <th>Standard rate</th>\n",
       "      <td>25612991</td>\n",
       "      <td>0</td>\n",
       "      <td>81</td>\n",
       "      <td>2</td>\n",
       "      <td>5221</td>\n",
       "      <td>937051</td>\n",
       "      <td>26555346</td>\n",
       "    </tr>\n",
       "    <tr>\n",
       "      <th>Unknown</th>\n",
       "      <td>942351</td>\n",
       "      <td>0</td>\n",
       "      <td>0</td>\n",
       "      <td>0</td>\n",
       "      <td>0</td>\n",
       "      <td>2</td>\n",
       "      <td>942353</td>\n",
       "    </tr>\n",
       "    <tr>\n",
       "      <th>Total</th>\n",
       "      <td>27376169</td>\n",
       "      <td>1</td>\n",
       "      <td>81</td>\n",
       "      <td>2</td>\n",
       "      <td>5361</td>\n",
       "      <td>944457</td>\n",
       "      <td>28326071</td>\n",
       "    </tr>\n",
       "  </tbody>\n",
       "</table>\n",
       "</div>"
      ],
      "text/plain": [
       "congestion_surcharge        0.0  0.3  0.75  2.0   2.5    2.75     Total\n",
       "Ratecode                                                               \n",
       "Group ride                  349    0     0    0     0       0       349\n",
       "JFK                       55347    0     0    0    44     143     55534\n",
       "Nassau or Westchester     18285    1     0    0     3     209     18498\n",
       "Negotiated fare          733077    0     0    0    93    7052    740222\n",
       "Newark                    13769    0     0    0     0       0     13769\n",
       "Standard rate          25612991    0    81    2  5221  937051  26555346\n",
       "Unknown                  942351    0     0    0     0       2    942353\n",
       "Total                  27376169    1    81    2  5361  944457  28326071"
      ]
     },
     "execution_count": 134,
     "metadata": {},
     "output_type": "execute_result"
    }
   ],
   "source": [
    "pd.pivot_table(taxi_trips, index='Ratecode', columns='congestion_surcharge', values='lpep_pickup_datetime', aggfunc='count', fill_value=0, margins=True, margins_name='Total')"
   ]
  },
  {
   "cell_type": "markdown",
   "id": "2b254e88",
   "metadata": {},
   "source": [
    "Let's check 0.3 first as it is only one record. It should be either 0.00, 2.50 or 2.75"
   ]
  },
  {
   "cell_type": "code",
   "execution_count": 135,
   "id": "9b4fe331",
   "metadata": {},
   "outputs": [
    {
     "data": {
      "text/html": [
       "<div>\n",
       "<style scoped>\n",
       "    .dataframe tbody tr th:only-of-type {\n",
       "        vertical-align: middle;\n",
       "    }\n",
       "\n",
       "    .dataframe tbody tr th {\n",
       "        vertical-align: top;\n",
       "    }\n",
       "\n",
       "    .dataframe thead th {\n",
       "        text-align: right;\n",
       "    }\n",
       "</style>\n",
       "<table border=\"1\" class=\"dataframe\">\n",
       "  <thead>\n",
       "    <tr style=\"text-align: right;\">\n",
       "      <th></th>\n",
       "      <th>fare_amount</th>\n",
       "      <th>extra</th>\n",
       "      <th>mta_tax</th>\n",
       "      <th>tip_amount</th>\n",
       "      <th>tolls_amount</th>\n",
       "      <th>improvement_surcharge</th>\n",
       "      <th>congestion_surcharge</th>\n",
       "      <th>total_amount</th>\n",
       "      <th>total_amount_check</th>\n",
       "      <th>total_amount_difference</th>\n",
       "    </tr>\n",
       "  </thead>\n",
       "  <tbody>\n",
       "    <tr>\n",
       "      <th>21224506</th>\n",
       "      <td>161.0</td>\n",
       "      <td>0.0</td>\n",
       "      <td>0.5</td>\n",
       "      <td>32.35</td>\n",
       "      <td>0.0</td>\n",
       "      <td>0.3</td>\n",
       "      <td>0.3</td>\n",
       "      <td>194.15</td>\n",
       "      <td>194.45</td>\n",
       "      <td>-0.3</td>\n",
       "    </tr>\n",
       "  </tbody>\n",
       "</table>\n",
       "</div>"
      ],
      "text/plain": [
       "          fare_amount  extra  mta_tax  tip_amount  tolls_amount  \\\n",
       "21224506        161.0    0.0      0.5       32.35           0.0   \n",
       "\n",
       "          improvement_surcharge  congestion_surcharge  total_amount  \\\n",
       "21224506                    0.3                   0.3        194.15   \n",
       "\n",
       "          total_amount_check  total_amount_difference  \n",
       "21224506              194.45                     -0.3  "
      ]
     },
     "execution_count": 135,
     "metadata": {},
     "output_type": "execute_result"
    }
   ],
   "source": [
    "taxi_trips.loc[taxi_trips['congestion_surcharge']==0.3, ['fare_amount','extra','mta_tax','tip_amount','tolls_amount','improvement_surcharge','congestion_surcharge','total_amount','total_amount_check','total_amount_difference']]"
   ]
  },
  {
   "cell_type": "markdown",
   "id": "771be26a",
   "metadata": {},
   "source": [
    "From the above, we can conclude that the 0.3 congestion_surcharge is an error and should be 0.00 as the total_amount is 0.30 less than the total_amount_check"
   ]
  },
  {
   "cell_type": "code",
   "execution_count": 136,
   "id": "442efa44",
   "metadata": {},
   "outputs": [],
   "source": [
    "# Replacing 0.3 with 0.00\n",
    "taxi_trips.loc[taxi_trips['congestion_surcharge']==0.3, 'congestion_surcharge'] = 0.00"
   ]
  },
  {
   "cell_type": "markdown",
   "id": "44c2d284",
   "metadata": {},
   "source": [
    "Now, let's check 2.0. It should be either 0.00, 2.50 or 2.75"
   ]
  },
  {
   "cell_type": "code",
   "execution_count": 148,
   "id": "d0ce0b6a",
   "metadata": {},
   "outputs": [
    {
     "data": {
      "text/html": [
       "<div>\n",
       "<style scoped>\n",
       "    .dataframe tbody tr th:only-of-type {\n",
       "        vertical-align: middle;\n",
       "    }\n",
       "\n",
       "    .dataframe tbody tr th {\n",
       "        vertical-align: top;\n",
       "    }\n",
       "\n",
       "    .dataframe thead th {\n",
       "        text-align: right;\n",
       "    }\n",
       "</style>\n",
       "<table border=\"1\" class=\"dataframe\">\n",
       "  <thead>\n",
       "    <tr style=\"text-align: right;\">\n",
       "      <th></th>\n",
       "      <th>fare_amount</th>\n",
       "      <th>extra</th>\n",
       "      <th>mta_tax</th>\n",
       "      <th>tip_amount</th>\n",
       "      <th>tolls_amount</th>\n",
       "      <th>improvement_surcharge</th>\n",
       "      <th>congestion_surcharge</th>\n",
       "      <th>total_amount</th>\n",
       "      <th>total_amount_check</th>\n",
       "      <th>total_amount_difference</th>\n",
       "    </tr>\n",
       "  </thead>\n",
       "  <tbody>\n",
       "    <tr>\n",
       "      <th>25940904</th>\n",
       "      <td>7.0</td>\n",
       "      <td>0.5</td>\n",
       "      <td>0.5</td>\n",
       "      <td>0.0</td>\n",
       "      <td>0.0</td>\n",
       "      <td>0.3</td>\n",
       "      <td>2.0</td>\n",
       "      <td>11.05</td>\n",
       "      <td>10.3</td>\n",
       "      <td>0.75</td>\n",
       "    </tr>\n",
       "    <tr>\n",
       "      <th>25940906</th>\n",
       "      <td>6.5</td>\n",
       "      <td>0.5</td>\n",
       "      <td>0.5</td>\n",
       "      <td>0.0</td>\n",
       "      <td>0.0</td>\n",
       "      <td>0.3</td>\n",
       "      <td>2.0</td>\n",
       "      <td>10.55</td>\n",
       "      <td>9.8</td>\n",
       "      <td>0.75</td>\n",
       "    </tr>\n",
       "  </tbody>\n",
       "</table>\n",
       "</div>"
      ],
      "text/plain": [
       "          fare_amount  extra  mta_tax  tip_amount  tolls_amount  \\\n",
       "25940904          7.0    0.5      0.5         0.0           0.0   \n",
       "25940906          6.5    0.5      0.5         0.0           0.0   \n",
       "\n",
       "          improvement_surcharge  congestion_surcharge  total_amount  \\\n",
       "25940904                    0.3                   2.0         11.05   \n",
       "25940906                    0.3                   2.0         10.55   \n",
       "\n",
       "          total_amount_check  total_amount_difference  \n",
       "25940904                10.3                     0.75  \n",
       "25940906                 9.8                     0.75  "
      ]
     },
     "execution_count": 148,
     "metadata": {},
     "output_type": "execute_result"
    }
   ],
   "source": [
    "taxi_trips.loc[(taxi_trips['congestion_surcharge']==2.0) & (taxi_trips['total_amount_difference']==0.75), ['fare_amount','extra','mta_tax','tip_amount','tolls_amount','improvement_surcharge','congestion_surcharge','total_amount','total_amount_check','total_amount_difference']]"
   ]
  },
  {
   "cell_type": "markdown",
   "id": "5fd79157",
   "metadata": {},
   "source": [
    "From the above, we can conclude that the 2.0 congestion_surcharge is an error and should be 2.75 as the total_amount is 0.75 more than the total_amount_check"
   ]
  },
  {
   "cell_type": "code",
   "execution_count": 149,
   "id": "dbc3f799",
   "metadata": {},
   "outputs": [],
   "source": [
    "# Replacing 2.0 with 2.75\n",
    "taxi_trips.loc[(taxi_trips['congestion_surcharge']==2.0) & (taxi_trips['total_amount_difference']==0.75), 'congestion_surcharge'] = 2.75"
   ]
  },
  {
   "cell_type": "markdown",
   "id": "d2c72875",
   "metadata": {},
   "source": [
    "Now, let's check 0.75. It should be either 0.00, 2.50 or 2.75"
   ]
  },
  {
   "cell_type": "code",
   "execution_count": 169,
   "id": "f7f2a4e1",
   "metadata": {},
   "outputs": [
    {
     "data": {
      "text/html": [
       "<div>\n",
       "<style scoped>\n",
       "    .dataframe tbody tr th:only-of-type {\n",
       "        vertical-align: middle;\n",
       "    }\n",
       "\n",
       "    .dataframe tbody tr th {\n",
       "        vertical-align: top;\n",
       "    }\n",
       "\n",
       "    .dataframe thead th {\n",
       "        text-align: right;\n",
       "    }\n",
       "</style>\n",
       "<table border=\"1\" class=\"dataframe\">\n",
       "  <thead>\n",
       "    <tr style=\"text-align: right;\">\n",
       "      <th></th>\n",
       "      <th>fare_amount</th>\n",
       "      <th>extra</th>\n",
       "      <th>mta_tax</th>\n",
       "      <th>tip_amount</th>\n",
       "      <th>tolls_amount</th>\n",
       "      <th>improvement_surcharge</th>\n",
       "      <th>congestion_surcharge</th>\n",
       "      <th>total_amount</th>\n",
       "      <th>total_amount_check</th>\n",
       "      <th>total_amount_difference</th>\n",
       "    </tr>\n",
       "  </thead>\n",
       "  <tbody>\n",
       "  </tbody>\n",
       "</table>\n",
       "</div>"
      ],
      "text/plain": [
       "Empty DataFrame\n",
       "Columns: [fare_amount, extra, mta_tax, tip_amount, tolls_amount, improvement_surcharge, congestion_surcharge, total_amount, total_amount_check, total_amount_difference]\n",
       "Index: []"
      ]
     },
     "execution_count": 169,
     "metadata": {},
     "output_type": "execute_result"
    }
   ],
   "source": [
    "taxi_trips.loc[(taxi_trips['congestion_surcharge']==0.75) & ((taxi_trips['total_amount_difference']==2.00) | (taxi_trips['total_amount_difference']==1.75)), ['fare_amount','extra','mta_tax','tip_amount','tolls_amount','improvement_surcharge','congestion_surcharge','total_amount','total_amount_check','total_amount_difference']]"
   ]
  },
  {
   "cell_type": "markdown",
   "id": "6022918b",
   "metadata": {},
   "source": [
    "There are no records where the total_amount_difference is 2.00 or 1.75 when the congestion_surcharge is 0.75. This might be due to rounding. Let's check what values are in total_amount_difference when the congestion_surcharge is 0.75"
   ]
  },
  {
   "cell_type": "code",
   "execution_count": 180,
   "id": "989b128c",
   "metadata": {},
   "outputs": [
    {
     "data": {
      "text/plain": [
       "0.00    72\n",
       "1.95     7\n",
       "1.95     1\n",
       "9.90     1\n",
       "Name: total_amount_difference, dtype: int64"
      ]
     },
     "execution_count": 180,
     "metadata": {},
     "output_type": "execute_result"
    }
   ],
   "source": [
    "# Checking the value counts of total_amount_difference when the congestion_surcharge is 0.75\n",
    "taxi_trips.loc[taxi_trips['congestion_surcharge']==0.75, 'total_amount_difference'].value_counts()"
   ]
  },
  {
   "cell_type": "markdown",
   "id": "123ca55f",
   "metadata": {},
   "source": [
    "There are 8 records where the total_amount_difference becomes 2 when rounded to 0 decimal place. We can update them as 2.75"
   ]
  },
  {
   "cell_type": "code",
   "execution_count": 184,
   "id": "138dfb68",
   "metadata": {},
   "outputs": [],
   "source": [
    "taxi_trips.loc[(taxi_trips['congestion_surcharge']==0.75) & (taxi_trips['total_amount_difference'].round(0)==2.00), 'congestion_surcharge'] = 2.75"
   ]
  },
  {
   "cell_type": "markdown",
   "id": "b2c5234a",
   "metadata": {},
   "source": [
    "We are low left 73 records where congestion_surcharge is 0.75:\n",
    " - total_amount_difference is 0 for 72 of those records. Either the customer was charged 0.75 by mistake for congestion_surcharge or 2.75 somehow became 0.75 and the total_amount was calculated with 0.75 as congestion_surcharge rather than 2.75\n",
    " - total_amount_difference is 9.90 for 1 record. total_amount is off by 9.90 and updating congestion_surcharge as 2.75 will bring the difference down to 7.90"
   ]
  },
  {
   "cell_type": "code",
   "execution_count": 190,
   "id": "cdccd7a7",
   "metadata": {},
   "outputs": [],
   "source": [
    "# Updating the remaining 0.75 as 2.75\n",
    "taxi_trips.loc[(taxi_trips['congestion_surcharge']==0.75), 'congestion_surcharge'] = 2.75"
   ]
  },
  {
   "cell_type": "code",
   "execution_count": 194,
   "id": "c36af844",
   "metadata": {},
   "outputs": [
    {
     "data": {
      "text/plain": [
       "0.00    27376170\n",
       "2.75      944540\n",
       "2.50        5361\n",
       "Name: congestion_surcharge, dtype: int64"
      ]
     },
     "execution_count": 194,
     "metadata": {},
     "output_type": "execute_result"
    }
   ],
   "source": [
    "taxi_trips['congestion_surcharge'].value_counts()"
   ]
  },
  {
   "cell_type": "markdown",
   "id": "6e554366",
   "metadata": {},
   "source": [
    "The congestion_surcharge column is now clean with values of 0.00, 2.50 and 2.75 only"
   ]
  },
  {
   "cell_type": "code",
   "execution_count": null,
   "id": "671b45d3",
   "metadata": {},
   "outputs": [],
   "source": []
  },
  {
   "cell_type": "code",
   "execution_count": null,
   "id": "9c6b9f20",
   "metadata": {},
   "outputs": [],
   "source": []
  },
  {
   "cell_type": "code",
   "execution_count": null,
   "id": "a7766d9e",
   "metadata": {},
   "outputs": [],
   "source": []
  },
  {
   "cell_type": "code",
   "execution_count": null,
   "id": "50969a89",
   "metadata": {},
   "outputs": [],
   "source": []
  },
  {
   "cell_type": "code",
   "execution_count": null,
   "id": "e382fe2b",
   "metadata": {},
   "outputs": [],
   "source": []
  },
  {
   "cell_type": "code",
   "execution_count": null,
   "id": "2ddc6738",
   "metadata": {},
   "outputs": [],
   "source": []
  },
  {
   "cell_type": "markdown",
   "id": "94ce9541",
   "metadata": {},
   "source": [
    "## Checking total_amount formula"
   ]
  },
  {
   "cell_type": "code",
   "execution_count": 95,
   "id": "981322a1",
   "metadata": {},
   "outputs": [],
   "source": [
    "total_amount_no_match = taxi_trips.loc[taxi_trips['total_amount_match?']=='No Match', ['lpep_pickup_datetime','lpep_dropoff_datetime','PU_Zone','PU_service_zone','DO_Zone','DO_service_zone','fare_amount','extra','mta_tax','tip_amount','tolls_amount','improvement_surcharge','congestion_surcharge','total_amount','total_amount_check']]\n",
    "\n",
    "total_amount_no_match['total_amount_difference'] = total_amount_no_match['total_amount'] - total_amount_no_match['total_amount_check']"
   ]
  },
  {
   "cell_type": "code",
   "execution_count": 96,
   "id": "d2e2acea",
   "metadata": {},
   "outputs": [
    {
     "data": {
      "text/html": [
       "<div>\n",
       "<style scoped>\n",
       "    .dataframe tbody tr th:only-of-type {\n",
       "        vertical-align: middle;\n",
       "    }\n",
       "\n",
       "    .dataframe tbody tr th {\n",
       "        vertical-align: top;\n",
       "    }\n",
       "\n",
       "    .dataframe thead th {\n",
       "        text-align: right;\n",
       "    }\n",
       "</style>\n",
       "<table border=\"1\" class=\"dataframe\">\n",
       "  <thead>\n",
       "    <tr style=\"text-align: right;\">\n",
       "      <th></th>\n",
       "      <th>lpep_pickup_datetime</th>\n",
       "      <th>lpep_dropoff_datetime</th>\n",
       "      <th>PU_Zone</th>\n",
       "      <th>PU_service_zone</th>\n",
       "      <th>DO_Zone</th>\n",
       "      <th>DO_service_zone</th>\n",
       "      <th>fare_amount</th>\n",
       "      <th>extra</th>\n",
       "      <th>mta_tax</th>\n",
       "      <th>tip_amount</th>\n",
       "      <th>tolls_amount</th>\n",
       "      <th>improvement_surcharge</th>\n",
       "      <th>congestion_surcharge</th>\n",
       "      <th>total_amount</th>\n",
       "      <th>total_amount_check</th>\n",
       "      <th>total_amount_difference</th>\n",
       "    </tr>\n",
       "  </thead>\n",
       "  <tbody>\n",
       "    <tr>\n",
       "      <th>194087</th>\n",
       "      <td>2017-01-01 07:40:59</td>\n",
       "      <td>2017-01-01 08:00:06</td>\n",
       "      <td>Bedford</td>\n",
       "      <td>Boro Zone</td>\n",
       "      <td>Flatbush/Ditmas Park</td>\n",
       "      <td>Boro Zone</td>\n",
       "      <td>15.00</td>\n",
       "      <td>0.0</td>\n",
       "      <td>0.5</td>\n",
       "      <td>0.0</td>\n",
       "      <td>0.00</td>\n",
       "      <td>0.3</td>\n",
       "      <td>0.0</td>\n",
       "      <td>19.70</td>\n",
       "      <td>15.80</td>\n",
       "      <td>3.90</td>\n",
       "    </tr>\n",
       "    <tr>\n",
       "      <th>194100</th>\n",
       "      <td>2017-01-01 09:23:51</td>\n",
       "      <td>2017-01-01 09:24:43</td>\n",
       "      <td>Bedford</td>\n",
       "      <td>Boro Zone</td>\n",
       "      <td>Bedford</td>\n",
       "      <td>Boro Zone</td>\n",
       "      <td>2.50</td>\n",
       "      <td>0.0</td>\n",
       "      <td>0.5</td>\n",
       "      <td>0.0</td>\n",
       "      <td>0.00</td>\n",
       "      <td>0.3</td>\n",
       "      <td>0.0</td>\n",
       "      <td>7.20</td>\n",
       "      <td>3.30</td>\n",
       "      <td>3.90</td>\n",
       "    </tr>\n",
       "    <tr>\n",
       "      <th>194104</th>\n",
       "      <td>2017-01-01 10:06:25</td>\n",
       "      <td>2017-01-01 10:29:15</td>\n",
       "      <td>Bushwick North</td>\n",
       "      <td>Boro Zone</td>\n",
       "      <td>Boerum Hill</td>\n",
       "      <td>Boro Zone</td>\n",
       "      <td>23.00</td>\n",
       "      <td>0.0</td>\n",
       "      <td>0.5</td>\n",
       "      <td>0.0</td>\n",
       "      <td>0.00</td>\n",
       "      <td>0.3</td>\n",
       "      <td>0.0</td>\n",
       "      <td>27.70</td>\n",
       "      <td>23.80</td>\n",
       "      <td>3.90</td>\n",
       "    </tr>\n",
       "    <tr>\n",
       "      <th>194108</th>\n",
       "      <td>2017-01-01 11:40:48</td>\n",
       "      <td>2017-01-01 11:47:42</td>\n",
       "      <td>Bedford</td>\n",
       "      <td>Boro Zone</td>\n",
       "      <td>Stuyvesant Heights</td>\n",
       "      <td>Boro Zone</td>\n",
       "      <td>6.50</td>\n",
       "      <td>0.0</td>\n",
       "      <td>0.5</td>\n",
       "      <td>0.0</td>\n",
       "      <td>0.00</td>\n",
       "      <td>0.3</td>\n",
       "      <td>0.0</td>\n",
       "      <td>11.20</td>\n",
       "      <td>7.30</td>\n",
       "      <td>3.90</td>\n",
       "    </tr>\n",
       "    <tr>\n",
       "      <th>194113</th>\n",
       "      <td>2017-01-01 13:10:57</td>\n",
       "      <td>2017-01-01 13:28:11</td>\n",
       "      <td>Boerum Hill</td>\n",
       "      <td>Boro Zone</td>\n",
       "      <td>Lower East Side</td>\n",
       "      <td>Yellow Zone</td>\n",
       "      <td>14.50</td>\n",
       "      <td>0.0</td>\n",
       "      <td>0.5</td>\n",
       "      <td>0.0</td>\n",
       "      <td>0.00</td>\n",
       "      <td>0.3</td>\n",
       "      <td>0.0</td>\n",
       "      <td>19.20</td>\n",
       "      <td>15.30</td>\n",
       "      <td>3.90</td>\n",
       "    </tr>\n",
       "    <tr>\n",
       "      <th>...</th>\n",
       "      <td>...</td>\n",
       "      <td>...</td>\n",
       "      <td>...</td>\n",
       "      <td>...</td>\n",
       "      <td>...</td>\n",
       "      <td>...</td>\n",
       "      <td>...</td>\n",
       "      <td>...</td>\n",
       "      <td>...</td>\n",
       "      <td>...</td>\n",
       "      <td>...</td>\n",
       "      <td>...</td>\n",
       "      <td>...</td>\n",
       "      <td>...</td>\n",
       "      <td>...</td>\n",
       "      <td>...</td>\n",
       "    </tr>\n",
       "    <tr>\n",
       "      <th>28325998</th>\n",
       "      <td>2020-03-12 06:50:00</td>\n",
       "      <td>2020-03-12 08:15:00</td>\n",
       "      <td>Hammels/Arverne</td>\n",
       "      <td>Boro Zone</td>\n",
       "      <td>Columbia Street</td>\n",
       "      <td>Boro Zone</td>\n",
       "      <td>74.06</td>\n",
       "      <td>0.0</td>\n",
       "      <td>0.0</td>\n",
       "      <td>0.0</td>\n",
       "      <td>2.29</td>\n",
       "      <td>0.3</td>\n",
       "      <td>0.0</td>\n",
       "      <td>81.60</td>\n",
       "      <td>76.65</td>\n",
       "      <td>4.95</td>\n",
       "    </tr>\n",
       "    <tr>\n",
       "      <th>28325999</th>\n",
       "      <td>2020-03-12 07:47:00</td>\n",
       "      <td>2020-03-12 08:32:00</td>\n",
       "      <td>Hammels/Arverne</td>\n",
       "      <td>Boro Zone</td>\n",
       "      <td>Glendale</td>\n",
       "      <td>Boro Zone</td>\n",
       "      <td>40.58</td>\n",
       "      <td>0.0</td>\n",
       "      <td>0.0</td>\n",
       "      <td>0.0</td>\n",
       "      <td>2.29</td>\n",
       "      <td>0.3</td>\n",
       "      <td>0.0</td>\n",
       "      <td>48.12</td>\n",
       "      <td>43.17</td>\n",
       "      <td>4.95</td>\n",
       "    </tr>\n",
       "    <tr>\n",
       "      <th>28326000</th>\n",
       "      <td>2020-03-12 09:02:00</td>\n",
       "      <td>2020-03-12 09:23:00</td>\n",
       "      <td>Hammels/Arverne</td>\n",
       "      <td>Boro Zone</td>\n",
       "      <td>South Ozone Park</td>\n",
       "      <td>Boro Zone</td>\n",
       "      <td>34.94</td>\n",
       "      <td>0.0</td>\n",
       "      <td>0.0</td>\n",
       "      <td>0.0</td>\n",
       "      <td>2.29</td>\n",
       "      <td>0.3</td>\n",
       "      <td>0.0</td>\n",
       "      <td>42.48</td>\n",
       "      <td>37.53</td>\n",
       "      <td>4.95</td>\n",
       "    </tr>\n",
       "    <tr>\n",
       "      <th>28326001</th>\n",
       "      <td>2020-03-12 09:54:00</td>\n",
       "      <td>2020-03-12 10:20:00</td>\n",
       "      <td>Hammels/Arverne</td>\n",
       "      <td>Boro Zone</td>\n",
       "      <td>Rego Park</td>\n",
       "      <td>Boro Zone</td>\n",
       "      <td>32.99</td>\n",
       "      <td>0.0</td>\n",
       "      <td>0.0</td>\n",
       "      <td>0.0</td>\n",
       "      <td>2.29</td>\n",
       "      <td>0.3</td>\n",
       "      <td>0.0</td>\n",
       "      <td>40.53</td>\n",
       "      <td>35.58</td>\n",
       "      <td>4.95</td>\n",
       "    </tr>\n",
       "    <tr>\n",
       "      <th>28326002</th>\n",
       "      <td>2020-03-12 10:58:00</td>\n",
       "      <td>2020-03-12 11:50:00</td>\n",
       "      <td>Hammels/Arverne</td>\n",
       "      <td>Boro Zone</td>\n",
       "      <td>Fort Greene</td>\n",
       "      <td>Boro Zone</td>\n",
       "      <td>51.87</td>\n",
       "      <td>0.0</td>\n",
       "      <td>0.0</td>\n",
       "      <td>0.0</td>\n",
       "      <td>2.29</td>\n",
       "      <td>0.3</td>\n",
       "      <td>0.0</td>\n",
       "      <td>59.41</td>\n",
       "      <td>54.46</td>\n",
       "      <td>4.95</td>\n",
       "    </tr>\n",
       "  </tbody>\n",
       "</table>\n",
       "<p>590525 rows × 16 columns</p>\n",
       "</div>"
      ],
      "text/plain": [
       "         lpep_pickup_datetime lpep_dropoff_datetime          PU_Zone  \\\n",
       "194087    2017-01-01 07:40:59   2017-01-01 08:00:06          Bedford   \n",
       "194100    2017-01-01 09:23:51   2017-01-01 09:24:43          Bedford   \n",
       "194104    2017-01-01 10:06:25   2017-01-01 10:29:15   Bushwick North   \n",
       "194108    2017-01-01 11:40:48   2017-01-01 11:47:42          Bedford   \n",
       "194113    2017-01-01 13:10:57   2017-01-01 13:28:11      Boerum Hill   \n",
       "...                       ...                   ...              ...   \n",
       "28325998  2020-03-12 06:50:00   2020-03-12 08:15:00  Hammels/Arverne   \n",
       "28325999  2020-03-12 07:47:00   2020-03-12 08:32:00  Hammels/Arverne   \n",
       "28326000  2020-03-12 09:02:00   2020-03-12 09:23:00  Hammels/Arverne   \n",
       "28326001  2020-03-12 09:54:00   2020-03-12 10:20:00  Hammels/Arverne   \n",
       "28326002  2020-03-12 10:58:00   2020-03-12 11:50:00  Hammels/Arverne   \n",
       "\n",
       "         PU_service_zone               DO_Zone DO_service_zone  fare_amount  \\\n",
       "194087         Boro Zone  Flatbush/Ditmas Park       Boro Zone        15.00   \n",
       "194100         Boro Zone               Bedford       Boro Zone         2.50   \n",
       "194104         Boro Zone           Boerum Hill       Boro Zone        23.00   \n",
       "194108         Boro Zone    Stuyvesant Heights       Boro Zone         6.50   \n",
       "194113         Boro Zone       Lower East Side     Yellow Zone        14.50   \n",
       "...                  ...                   ...             ...          ...   \n",
       "28325998       Boro Zone       Columbia Street       Boro Zone        74.06   \n",
       "28325999       Boro Zone              Glendale       Boro Zone        40.58   \n",
       "28326000       Boro Zone      South Ozone Park       Boro Zone        34.94   \n",
       "28326001       Boro Zone             Rego Park       Boro Zone        32.99   \n",
       "28326002       Boro Zone           Fort Greene       Boro Zone        51.87   \n",
       "\n",
       "          extra  mta_tax  tip_amount  tolls_amount  improvement_surcharge  \\\n",
       "194087      0.0      0.5         0.0          0.00                    0.3   \n",
       "194100      0.0      0.5         0.0          0.00                    0.3   \n",
       "194104      0.0      0.5         0.0          0.00                    0.3   \n",
       "194108      0.0      0.5         0.0          0.00                    0.3   \n",
       "194113      0.0      0.5         0.0          0.00                    0.3   \n",
       "...         ...      ...         ...           ...                    ...   \n",
       "28325998    0.0      0.0         0.0          2.29                    0.3   \n",
       "28325999    0.0      0.0         0.0          2.29                    0.3   \n",
       "28326000    0.0      0.0         0.0          2.29                    0.3   \n",
       "28326001    0.0      0.0         0.0          2.29                    0.3   \n",
       "28326002    0.0      0.0         0.0          2.29                    0.3   \n",
       "\n",
       "          congestion_surcharge  total_amount  total_amount_check  \\\n",
       "194087                     0.0         19.70               15.80   \n",
       "194100                     0.0          7.20                3.30   \n",
       "194104                     0.0         27.70               23.80   \n",
       "194108                     0.0         11.20                7.30   \n",
       "194113                     0.0         19.20               15.30   \n",
       "...                        ...           ...                 ...   \n",
       "28325998                   0.0         81.60               76.65   \n",
       "28325999                   0.0         48.12               43.17   \n",
       "28326000                   0.0         42.48               37.53   \n",
       "28326001                   0.0         40.53               35.58   \n",
       "28326002                   0.0         59.41               54.46   \n",
       "\n",
       "          total_amount_difference  \n",
       "194087                       3.90  \n",
       "194100                       3.90  \n",
       "194104                       3.90  \n",
       "194108                       3.90  \n",
       "194113                       3.90  \n",
       "...                           ...  \n",
       "28325998                     4.95  \n",
       "28325999                     4.95  \n",
       "28326000                     4.95  \n",
       "28326001                     4.95  \n",
       "28326002                     4.95  \n",
       "\n",
       "[590525 rows x 16 columns]"
      ]
     },
     "execution_count": 96,
     "metadata": {},
     "output_type": "execute_result"
    }
   ],
   "source": [
    "total_amount_no_match"
   ]
  },
  {
   "cell_type": "code",
   "execution_count": 97,
   "id": "60dae65c",
   "metadata": {},
   "outputs": [
    {
     "data": {
      "text/plain": [
       " 1.95     361371\n",
       "-2.75     142009\n",
       " 4.95      72130\n",
       " 2.75       8080\n",
       " 3.90       3184\n",
       "           ...  \n",
       "-25.18         1\n",
       "-9.00          1\n",
       "-0.02          1\n",
       "-33.26         1\n",
       "-4.60          1\n",
       "Name: total_amount_difference, Length: 102, dtype: int64"
      ]
     },
     "execution_count": 97,
     "metadata": {},
     "output_type": "execute_result"
    }
   ],
   "source": [
    "total_amount_no_match['total_amount_difference'].round(2).value_counts()"
   ]
  },
  {
   "cell_type": "code",
   "execution_count": 98,
   "id": "5ef59313",
   "metadata": {},
   "outputs": [
    {
     "data": {
      "text/plain": [
       "1.95     361371\n",
       "2.75     150089\n",
       "4.95      72130\n",
       "3.90       3184\n",
       "9.90       1589\n",
       "          ...  \n",
       "0.27          1\n",
       "13.82         1\n",
       "4.62          1\n",
       "1.82          1\n",
       "18.02         1\n",
       "Name: total_amount_difference, Length: 97, dtype: int64"
      ]
     },
     "execution_count": 98,
     "metadata": {},
     "output_type": "execute_result"
    }
   ],
   "source": [
    "total_amount_no_match['total_amount_difference'].abs().round(2).value_counts()"
   ]
  },
  {
   "cell_type": "code",
   "execution_count": 100,
   "id": "3e9c4aac",
   "metadata": {},
   "outputs": [
    {
     "data": {
      "text/plain": [
       "Boro Zone      582901\n",
       "Yellow Zone      7239\n",
       "Airports           17\n",
       "EWR                 2\n",
       "Name: PU_service_zone, dtype: int64"
      ]
     },
     "execution_count": 100,
     "metadata": {},
     "output_type": "execute_result"
    }
   ],
   "source": [
    "total_amount_no_match['PU_service_zone'].value_counts()"
   ]
  },
  {
   "cell_type": "code",
   "execution_count": 101,
   "id": "48e040f8",
   "metadata": {},
   "outputs": [
    {
     "data": {
      "text/html": [
       "<div>\n",
       "<style scoped>\n",
       "    .dataframe tbody tr th:only-of-type {\n",
       "        vertical-align: middle;\n",
       "    }\n",
       "\n",
       "    .dataframe tbody tr th {\n",
       "        vertical-align: top;\n",
       "    }\n",
       "\n",
       "    .dataframe thead th {\n",
       "        text-align: right;\n",
       "    }\n",
       "</style>\n",
       "<table border=\"1\" class=\"dataframe\">\n",
       "  <thead>\n",
       "    <tr style=\"text-align: right;\">\n",
       "      <th></th>\n",
       "      <th>lpep_pickup_datetime</th>\n",
       "      <th>lpep_dropoff_datetime</th>\n",
       "      <th>PU_Zone</th>\n",
       "      <th>PU_service_zone</th>\n",
       "      <th>DO_Zone</th>\n",
       "      <th>DO_service_zone</th>\n",
       "      <th>fare_amount</th>\n",
       "      <th>extra</th>\n",
       "      <th>mta_tax</th>\n",
       "      <th>tip_amount</th>\n",
       "      <th>tolls_amount</th>\n",
       "      <th>improvement_surcharge</th>\n",
       "      <th>congestion_surcharge</th>\n",
       "      <th>total_amount</th>\n",
       "      <th>total_amount_check</th>\n",
       "      <th>total_amount_difference</th>\n",
       "    </tr>\n",
       "  </thead>\n",
       "  <tbody>\n",
       "    <tr>\n",
       "      <th>20811296</th>\n",
       "      <td>2019-05-02 17:12:26</td>\n",
       "      <td>2019-05-02 17:12:26</td>\n",
       "      <td>DUMBO/Vinegar Hill</td>\n",
       "      <td>Boro Zone</td>\n",
       "      <td>Central Park</td>\n",
       "      <td>Yellow Zone</td>\n",
       "      <td>61.65</td>\n",
       "      <td>0.00</td>\n",
       "      <td>0.5</td>\n",
       "      <td>0.0</td>\n",
       "      <td>0.00</td>\n",
       "      <td>0.3</td>\n",
       "      <td>2.75</td>\n",
       "      <td>62.45</td>\n",
       "      <td>65.20</td>\n",
       "      <td>-2.75</td>\n",
       "    </tr>\n",
       "    <tr>\n",
       "      <th>20832415</th>\n",
       "      <td>2019-04-17 16:12:28</td>\n",
       "      <td>2019-04-17 17:18:01</td>\n",
       "      <td>Rego Park</td>\n",
       "      <td>Boro Zone</td>\n",
       "      <td>Yorkville West</td>\n",
       "      <td>Yellow Zone</td>\n",
       "      <td>48.00</td>\n",
       "      <td>3.75</td>\n",
       "      <td>0.5</td>\n",
       "      <td>0.0</td>\n",
       "      <td>0.00</td>\n",
       "      <td>0.3</td>\n",
       "      <td>2.75</td>\n",
       "      <td>52.55</td>\n",
       "      <td>55.30</td>\n",
       "      <td>-2.75</td>\n",
       "    </tr>\n",
       "    <tr>\n",
       "      <th>20832416</th>\n",
       "      <td>2019-04-18 16:36:58</td>\n",
       "      <td>2019-04-18 17:19:46</td>\n",
       "      <td>Washington Heights South</td>\n",
       "      <td>Boro Zone</td>\n",
       "      <td>Midtown North</td>\n",
       "      <td>Yellow Zone</td>\n",
       "      <td>30.00</td>\n",
       "      <td>3.75</td>\n",
       "      <td>0.5</td>\n",
       "      <td>0.0</td>\n",
       "      <td>0.00</td>\n",
       "      <td>0.3</td>\n",
       "      <td>2.75</td>\n",
       "      <td>34.55</td>\n",
       "      <td>37.30</td>\n",
       "      <td>-2.75</td>\n",
       "    </tr>\n",
       "    <tr>\n",
       "      <th>20832417</th>\n",
       "      <td>2019-04-18 18:56:58</td>\n",
       "      <td>2019-04-18 19:30:36</td>\n",
       "      <td>Central Harlem North</td>\n",
       "      <td>Boro Zone</td>\n",
       "      <td>Times Sq/Theatre District</td>\n",
       "      <td>Yellow Zone</td>\n",
       "      <td>26.50</td>\n",
       "      <td>3.75</td>\n",
       "      <td>0.5</td>\n",
       "      <td>0.0</td>\n",
       "      <td>0.00</td>\n",
       "      <td>0.3</td>\n",
       "      <td>2.75</td>\n",
       "      <td>31.05</td>\n",
       "      <td>33.80</td>\n",
       "      <td>-2.75</td>\n",
       "    </tr>\n",
       "    <tr>\n",
       "      <th>20832418</th>\n",
       "      <td>2019-04-19 19:44:36</td>\n",
       "      <td>2019-04-19 20:13:08</td>\n",
       "      <td>Fort Greene</td>\n",
       "      <td>Boro Zone</td>\n",
       "      <td>Central Harlem</td>\n",
       "      <td>Boro Zone</td>\n",
       "      <td>34.00</td>\n",
       "      <td>3.75</td>\n",
       "      <td>0.5</td>\n",
       "      <td>0.0</td>\n",
       "      <td>0.00</td>\n",
       "      <td>0.3</td>\n",
       "      <td>2.75</td>\n",
       "      <td>38.55</td>\n",
       "      <td>41.30</td>\n",
       "      <td>-2.75</td>\n",
       "    </tr>\n",
       "    <tr>\n",
       "      <th>...</th>\n",
       "      <td>...</td>\n",
       "      <td>...</td>\n",
       "      <td>...</td>\n",
       "      <td>...</td>\n",
       "      <td>...</td>\n",
       "      <td>...</td>\n",
       "      <td>...</td>\n",
       "      <td>...</td>\n",
       "      <td>...</td>\n",
       "      <td>...</td>\n",
       "      <td>...</td>\n",
       "      <td>...</td>\n",
       "      <td>...</td>\n",
       "      <td>...</td>\n",
       "      <td>...</td>\n",
       "      <td>...</td>\n",
       "    </tr>\n",
       "    <tr>\n",
       "      <th>28319947</th>\n",
       "      <td>2020-11-22 23:40:16</td>\n",
       "      <td>2020-11-23 00:12:24</td>\n",
       "      <td>Long Island City/Queens Plaza</td>\n",
       "      <td>Boro Zone</td>\n",
       "      <td>NaN</td>\n",
       "      <td>NaN</td>\n",
       "      <td>33.00</td>\n",
       "      <td>3.25</td>\n",
       "      <td>0.5</td>\n",
       "      <td>0.0</td>\n",
       "      <td>11.75</td>\n",
       "      <td>0.3</td>\n",
       "      <td>2.75</td>\n",
       "      <td>48.80</td>\n",
       "      <td>51.55</td>\n",
       "      <td>-2.75</td>\n",
       "    </tr>\n",
       "    <tr>\n",
       "      <th>28320091</th>\n",
       "      <td>2020-09-25 16:26:46</td>\n",
       "      <td>2020-09-25 17:33:23</td>\n",
       "      <td>Morningside Heights</td>\n",
       "      <td>Boro Zone</td>\n",
       "      <td>Grymes Hill/Clifton</td>\n",
       "      <td>Boro Zone</td>\n",
       "      <td>64.00</td>\n",
       "      <td>3.75</td>\n",
       "      <td>0.5</td>\n",
       "      <td>0.0</td>\n",
       "      <td>12.24</td>\n",
       "      <td>0.3</td>\n",
       "      <td>2.75</td>\n",
       "      <td>80.79</td>\n",
       "      <td>83.54</td>\n",
       "      <td>-2.75</td>\n",
       "    </tr>\n",
       "    <tr>\n",
       "      <th>28320150</th>\n",
       "      <td>2020-09-01 23:09:30</td>\n",
       "      <td>2020-09-01 23:58:35</td>\n",
       "      <td>East Harlem South</td>\n",
       "      <td>Boro Zone</td>\n",
       "      <td>Rockaway Park</td>\n",
       "      <td>Boro Zone</td>\n",
       "      <td>80.00</td>\n",
       "      <td>3.25</td>\n",
       "      <td>0.5</td>\n",
       "      <td>0.0</td>\n",
       "      <td>2.29</td>\n",
       "      <td>0.3</td>\n",
       "      <td>2.75</td>\n",
       "      <td>86.34</td>\n",
       "      <td>89.09</td>\n",
       "      <td>-2.75</td>\n",
       "    </tr>\n",
       "    <tr>\n",
       "      <th>28320473</th>\n",
       "      <td>2020-01-10 21:01:03</td>\n",
       "      <td>2020-01-10 21:36:22</td>\n",
       "      <td>DUMBO/Vinegar Hill</td>\n",
       "      <td>Boro Zone</td>\n",
       "      <td>Spuyten Duyvil/Kingsbridge</td>\n",
       "      <td>Boro Zone</td>\n",
       "      <td>44.50</td>\n",
       "      <td>3.25</td>\n",
       "      <td>0.5</td>\n",
       "      <td>0.0</td>\n",
       "      <td>2.80</td>\n",
       "      <td>0.3</td>\n",
       "      <td>2.75</td>\n",
       "      <td>51.35</td>\n",
       "      <td>54.10</td>\n",
       "      <td>-2.75</td>\n",
       "    </tr>\n",
       "    <tr>\n",
       "      <th>28320481</th>\n",
       "      <td>2020-01-22 21:27:23</td>\n",
       "      <td>2020-01-22 22:02:00</td>\n",
       "      <td>Spuyten Duyvil/Kingsbridge</td>\n",
       "      <td>Boro Zone</td>\n",
       "      <td>World Trade Center</td>\n",
       "      <td>Yellow Zone</td>\n",
       "      <td>44.00</td>\n",
       "      <td>3.25</td>\n",
       "      <td>0.5</td>\n",
       "      <td>0.0</td>\n",
       "      <td>2.80</td>\n",
       "      <td>0.3</td>\n",
       "      <td>2.75</td>\n",
       "      <td>50.85</td>\n",
       "      <td>53.60</td>\n",
       "      <td>-2.75</td>\n",
       "    </tr>\n",
       "  </tbody>\n",
       "</table>\n",
       "<p>142301 rows × 16 columns</p>\n",
       "</div>"
      ],
      "text/plain": [
       "         lpep_pickup_datetime lpep_dropoff_datetime  \\\n",
       "20811296  2019-05-02 17:12:26   2019-05-02 17:12:26   \n",
       "20832415  2019-04-17 16:12:28   2019-04-17 17:18:01   \n",
       "20832416  2019-04-18 16:36:58   2019-04-18 17:19:46   \n",
       "20832417  2019-04-18 18:56:58   2019-04-18 19:30:36   \n",
       "20832418  2019-04-19 19:44:36   2019-04-19 20:13:08   \n",
       "...                       ...                   ...   \n",
       "28319947  2020-11-22 23:40:16   2020-11-23 00:12:24   \n",
       "28320091  2020-09-25 16:26:46   2020-09-25 17:33:23   \n",
       "28320150  2020-09-01 23:09:30   2020-09-01 23:58:35   \n",
       "28320473  2020-01-10 21:01:03   2020-01-10 21:36:22   \n",
       "28320481  2020-01-22 21:27:23   2020-01-22 22:02:00   \n",
       "\n",
       "                                PU_Zone PU_service_zone  \\\n",
       "20811296             DUMBO/Vinegar Hill       Boro Zone   \n",
       "20832415                      Rego Park       Boro Zone   \n",
       "20832416       Washington Heights South       Boro Zone   \n",
       "20832417           Central Harlem North       Boro Zone   \n",
       "20832418                    Fort Greene       Boro Zone   \n",
       "...                                 ...             ...   \n",
       "28319947  Long Island City/Queens Plaza       Boro Zone   \n",
       "28320091            Morningside Heights       Boro Zone   \n",
       "28320150              East Harlem South       Boro Zone   \n",
       "28320473             DUMBO/Vinegar Hill       Boro Zone   \n",
       "28320481     Spuyten Duyvil/Kingsbridge       Boro Zone   \n",
       "\n",
       "                             DO_Zone DO_service_zone  fare_amount  extra  \\\n",
       "20811296                Central Park     Yellow Zone        61.65   0.00   \n",
       "20832415              Yorkville West     Yellow Zone        48.00   3.75   \n",
       "20832416               Midtown North     Yellow Zone        30.00   3.75   \n",
       "20832417   Times Sq/Theatre District     Yellow Zone        26.50   3.75   \n",
       "20832418              Central Harlem       Boro Zone        34.00   3.75   \n",
       "...                              ...             ...          ...    ...   \n",
       "28319947                         NaN             NaN        33.00   3.25   \n",
       "28320091         Grymes Hill/Clifton       Boro Zone        64.00   3.75   \n",
       "28320150               Rockaway Park       Boro Zone        80.00   3.25   \n",
       "28320473  Spuyten Duyvil/Kingsbridge       Boro Zone        44.50   3.25   \n",
       "28320481          World Trade Center     Yellow Zone        44.00   3.25   \n",
       "\n",
       "          mta_tax  tip_amount  tolls_amount  improvement_surcharge  \\\n",
       "20811296      0.5         0.0          0.00                    0.3   \n",
       "20832415      0.5         0.0          0.00                    0.3   \n",
       "20832416      0.5         0.0          0.00                    0.3   \n",
       "20832417      0.5         0.0          0.00                    0.3   \n",
       "20832418      0.5         0.0          0.00                    0.3   \n",
       "...           ...         ...           ...                    ...   \n",
       "28319947      0.5         0.0         11.75                    0.3   \n",
       "28320091      0.5         0.0         12.24                    0.3   \n",
       "28320150      0.5         0.0          2.29                    0.3   \n",
       "28320473      0.5         0.0          2.80                    0.3   \n",
       "28320481      0.5         0.0          2.80                    0.3   \n",
       "\n",
       "          congestion_surcharge  total_amount  total_amount_check  \\\n",
       "20811296                  2.75         62.45               65.20   \n",
       "20832415                  2.75         52.55               55.30   \n",
       "20832416                  2.75         34.55               37.30   \n",
       "20832417                  2.75         31.05               33.80   \n",
       "20832418                  2.75         38.55               41.30   \n",
       "...                        ...           ...                 ...   \n",
       "28319947                  2.75         48.80               51.55   \n",
       "28320091                  2.75         80.79               83.54   \n",
       "28320150                  2.75         86.34               89.09   \n",
       "28320473                  2.75         51.35               54.10   \n",
       "28320481                  2.75         50.85               53.60   \n",
       "\n",
       "          total_amount_difference  \n",
       "20811296                    -2.75  \n",
       "20832415                    -2.75  \n",
       "20832416                    -2.75  \n",
       "20832417                    -2.75  \n",
       "20832418                    -2.75  \n",
       "...                           ...  \n",
       "28319947                    -2.75  \n",
       "28320091                    -2.75  \n",
       "28320150                    -2.75  \n",
       "28320473                    -2.75  \n",
       "28320481                    -2.75  \n",
       "\n",
       "[142301 rows x 16 columns]"
      ]
     },
     "execution_count": 101,
     "metadata": {},
     "output_type": "execute_result"
    }
   ],
   "source": [
    "total_amount_no_match.loc[(total_amount_no_match['total_amount_difference'].round(2)==-2.75) | (total_amount_no_match['total_amount_difference'].round(2)==-2.50)]"
   ]
  },
  {
   "cell_type": "code",
   "execution_count": 103,
   "id": "7c2937a3",
   "metadata": {},
   "outputs": [
    {
     "data": {
      "text/html": [
       "<div>\n",
       "<style scoped>\n",
       "    .dataframe tbody tr th:only-of-type {\n",
       "        vertical-align: middle;\n",
       "    }\n",
       "\n",
       "    .dataframe tbody tr th {\n",
       "        vertical-align: top;\n",
       "    }\n",
       "\n",
       "    .dataframe thead th {\n",
       "        text-align: right;\n",
       "    }\n",
       "</style>\n",
       "<table border=\"1\" class=\"dataframe\">\n",
       "  <thead>\n",
       "    <tr style=\"text-align: right;\">\n",
       "      <th></th>\n",
       "      <th></th>\n",
       "      <th>congestion_surcharge</th>\n",
       "      <th>0.0</th>\n",
       "      <th>2.75</th>\n",
       "      <th>Total</th>\n",
       "    </tr>\n",
       "    <tr>\n",
       "      <th>PU_service_zone</th>\n",
       "      <th>DO_service_zone</th>\n",
       "      <th>total_amount_match?</th>\n",
       "      <th></th>\n",
       "      <th></th>\n",
       "      <th></th>\n",
       "    </tr>\n",
       "  </thead>\n",
       "  <tbody>\n",
       "    <tr>\n",
       "      <th rowspan=\"2\" valign=\"top\">Boro Zone</th>\n",
       "      <th rowspan=\"2\" valign=\"top\">Yellow Zone</th>\n",
       "      <th>Match</th>\n",
       "      <td>837</td>\n",
       "      <td>227</td>\n",
       "      <td>1064</td>\n",
       "    </tr>\n",
       "    <tr>\n",
       "      <th>No Match</th>\n",
       "      <td>17</td>\n",
       "      <td>29</td>\n",
       "      <td>46</td>\n",
       "    </tr>\n",
       "    <tr>\n",
       "      <th>Total</th>\n",
       "      <th></th>\n",
       "      <th></th>\n",
       "      <td>854</td>\n",
       "      <td>256</td>\n",
       "      <td>1110</td>\n",
       "    </tr>\n",
       "  </tbody>\n",
       "</table>\n",
       "</div>"
      ],
      "text/plain": [
       "congestion_surcharge                                 0.0  2.75  Total\n",
       "PU_service_zone DO_service_zone total_amount_match?                  \n",
       "Boro Zone       Yellow Zone     Match                837   227   1064\n",
       "                                No Match              17    29     46\n",
       "Total                                                854   256   1110"
      ]
     },
     "execution_count": 103,
     "metadata": {},
     "output_type": "execute_result"
    }
   ],
   "source": [
    "# Pivot table\n",
    "pd.pivot_table(taxi_trips.loc[(taxi_trips['PU_Zone']=='DUMBO/Vinegar Hill') & (taxi_trips['DO_Zone']=='Central Park')], index=['PU_service_zone','DO_service_zone','total_amount_match?'], columns='congestion_surcharge', values='PU_Zone', aggfunc='count', fill_value=0, margins=True, margins_name='Total')"
   ]
  },
  {
   "cell_type": "code",
   "execution_count": 123,
   "id": "26b39572",
   "metadata": {},
   "outputs": [],
   "source": [
    "# Pivot table\n",
    "pivot_congestion_surcharge_check = pd.pivot_table(taxi_trips.loc[taxi_trips['congestion_surcharge']==2.75], index=['PU_Zone','DO_Zone','total_amount_match?'], columns='congestion_surcharge', values='lpep_pickup_datetime', aggfunc='count', fill_value=0, margins=True, margins_name='Total')"
   ]
  },
  {
   "cell_type": "code",
   "execution_count": 125,
   "id": "f0bb26a3",
   "metadata": {},
   "outputs": [
    {
     "data": {
      "text/html": [
       "<div>\n",
       "<style scoped>\n",
       "    .dataframe tbody tr th:only-of-type {\n",
       "        vertical-align: middle;\n",
       "    }\n",
       "\n",
       "    .dataframe tbody tr th {\n",
       "        vertical-align: top;\n",
       "    }\n",
       "\n",
       "    .dataframe thead th {\n",
       "        text-align: right;\n",
       "    }\n",
       "</style>\n",
       "<table border=\"1\" class=\"dataframe\">\n",
       "  <thead>\n",
       "    <tr style=\"text-align: right;\">\n",
       "      <th></th>\n",
       "      <th></th>\n",
       "      <th>congestion_surcharge</th>\n",
       "      <th>2.75</th>\n",
       "      <th>Total</th>\n",
       "    </tr>\n",
       "    <tr>\n",
       "      <th>PU_Zone</th>\n",
       "      <th>DO_Zone</th>\n",
       "      <th>total_amount_match?</th>\n",
       "      <th></th>\n",
       "      <th></th>\n",
       "    </tr>\n",
       "  </thead>\n",
       "  <tbody>\n",
       "    <tr>\n",
       "      <th rowspan=\"18\" valign=\"top\">Allerton/Pelham Gardens</th>\n",
       "      <th rowspan=\"2\" valign=\"top\">Clinton East</th>\n",
       "      <th>Match</th>\n",
       "      <td>1</td>\n",
       "      <td>1</td>\n",
       "    </tr>\n",
       "    <tr>\n",
       "      <th>No Match</th>\n",
       "      <td>1</td>\n",
       "      <td>1</td>\n",
       "    </tr>\n",
       "    <tr>\n",
       "      <th>East Chelsea</th>\n",
       "      <th>Match</th>\n",
       "      <td>2</td>\n",
       "      <td>2</td>\n",
       "    </tr>\n",
       "    <tr>\n",
       "      <th>Gramercy</th>\n",
       "      <th>Match</th>\n",
       "      <td>1</td>\n",
       "      <td>1</td>\n",
       "    </tr>\n",
       "    <tr>\n",
       "      <th rowspan=\"2\" valign=\"top\">Hudson Sq</th>\n",
       "      <th>Match</th>\n",
       "      <td>2</td>\n",
       "      <td>2</td>\n",
       "    </tr>\n",
       "    <tr>\n",
       "      <th>No Match</th>\n",
       "      <td>3</td>\n",
       "      <td>3</td>\n",
       "    </tr>\n",
       "    <tr>\n",
       "      <th>Lenox Hill East</th>\n",
       "      <th>Match</th>\n",
       "      <td>2</td>\n",
       "      <td>2</td>\n",
       "    </tr>\n",
       "    <tr>\n",
       "      <th>Manhattan Valley</th>\n",
       "      <th>No Match</th>\n",
       "      <td>1</td>\n",
       "      <td>1</td>\n",
       "    </tr>\n",
       "    <tr>\n",
       "      <th>Murray Hill</th>\n",
       "      <th>Match</th>\n",
       "      <td>1</td>\n",
       "      <td>1</td>\n",
       "    </tr>\n",
       "    <tr>\n",
       "      <th>Old Astoria</th>\n",
       "      <th>Match</th>\n",
       "      <td>1</td>\n",
       "      <td>1</td>\n",
       "    </tr>\n",
       "    <tr>\n",
       "      <th>Seaport</th>\n",
       "      <th>Match</th>\n",
       "      <td>1</td>\n",
       "      <td>1</td>\n",
       "    </tr>\n",
       "    <tr>\n",
       "      <th>Sunset Park West</th>\n",
       "      <th>Match</th>\n",
       "      <td>1</td>\n",
       "      <td>1</td>\n",
       "    </tr>\n",
       "    <tr>\n",
       "      <th>Times Sq/Theatre District</th>\n",
       "      <th>No Match</th>\n",
       "      <td>1</td>\n",
       "      <td>1</td>\n",
       "    </tr>\n",
       "    <tr>\n",
       "      <th>UN/Turtle Bay South</th>\n",
       "      <th>No Match</th>\n",
       "      <td>3</td>\n",
       "      <td>3</td>\n",
       "    </tr>\n",
       "    <tr>\n",
       "      <th>Washington Heights North</th>\n",
       "      <th>Match</th>\n",
       "      <td>1</td>\n",
       "      <td>1</td>\n",
       "    </tr>\n",
       "    <tr>\n",
       "      <th rowspan=\"2\" valign=\"top\">West Village</th>\n",
       "      <th>Match</th>\n",
       "      <td>2</td>\n",
       "      <td>2</td>\n",
       "    </tr>\n",
       "    <tr>\n",
       "      <th>No Match</th>\n",
       "      <td>1</td>\n",
       "      <td>1</td>\n",
       "    </tr>\n",
       "    <tr>\n",
       "      <th>Yorkville West</th>\n",
       "      <th>Match</th>\n",
       "      <td>3</td>\n",
       "      <td>3</td>\n",
       "    </tr>\n",
       "    <tr>\n",
       "      <th>Arden Heights</th>\n",
       "      <th>Penn Station/Madison Sq West</th>\n",
       "      <th>Match</th>\n",
       "      <td>1</td>\n",
       "      <td>1</td>\n",
       "    </tr>\n",
       "    <tr>\n",
       "      <th rowspan=\"3\" valign=\"top\">Arrochar/Fort Wadsworth</th>\n",
       "      <th>Clinton East</th>\n",
       "      <th>No Match</th>\n",
       "      <td>1</td>\n",
       "      <td>1</td>\n",
       "    </tr>\n",
       "    <tr>\n",
       "      <th>East Chelsea</th>\n",
       "      <th>Match</th>\n",
       "      <td>1</td>\n",
       "      <td>1</td>\n",
       "    </tr>\n",
       "    <tr>\n",
       "      <th>Lenox Hill East</th>\n",
       "      <th>Match</th>\n",
       "      <td>1</td>\n",
       "      <td>1</td>\n",
       "    </tr>\n",
       "    <tr>\n",
       "      <th rowspan=\"28\" valign=\"top\">Astoria</th>\n",
       "      <th rowspan=\"2\" valign=\"top\">Alphabet City</th>\n",
       "      <th>Match</th>\n",
       "      <td>109</td>\n",
       "      <td>109</td>\n",
       "    </tr>\n",
       "    <tr>\n",
       "      <th>No Match</th>\n",
       "      <td>16</td>\n",
       "      <td>16</td>\n",
       "    </tr>\n",
       "    <tr>\n",
       "      <th>Arden Heights</th>\n",
       "      <th>Match</th>\n",
       "      <td>1</td>\n",
       "      <td>1</td>\n",
       "    </tr>\n",
       "    <tr>\n",
       "      <th rowspan=\"2\" valign=\"top\">Astoria</th>\n",
       "      <th>Match</th>\n",
       "      <td>42</td>\n",
       "      <td>42</td>\n",
       "    </tr>\n",
       "    <tr>\n",
       "      <th>No Match</th>\n",
       "      <td>4</td>\n",
       "      <td>4</td>\n",
       "    </tr>\n",
       "    <tr>\n",
       "      <th>Battery Park</th>\n",
       "      <th>Match</th>\n",
       "      <td>2</td>\n",
       "      <td>2</td>\n",
       "    </tr>\n",
       "    <tr>\n",
       "      <th rowspan=\"2\" valign=\"top\">Battery Park City</th>\n",
       "      <th>Match</th>\n",
       "      <td>53</td>\n",
       "      <td>53</td>\n",
       "    </tr>\n",
       "    <tr>\n",
       "      <th>No Match</th>\n",
       "      <td>8</td>\n",
       "      <td>8</td>\n",
       "    </tr>\n",
       "    <tr>\n",
       "      <th>Bay Ridge</th>\n",
       "      <th>Match</th>\n",
       "      <td>2</td>\n",
       "      <td>2</td>\n",
       "    </tr>\n",
       "    <tr>\n",
       "      <th>Bedford</th>\n",
       "      <th>Match</th>\n",
       "      <td>1</td>\n",
       "      <td>1</td>\n",
       "    </tr>\n",
       "    <tr>\n",
       "      <th>Bedford Park</th>\n",
       "      <th>Match</th>\n",
       "      <td>2</td>\n",
       "      <td>2</td>\n",
       "    </tr>\n",
       "    <tr>\n",
       "      <th>Belmont</th>\n",
       "      <th>Match</th>\n",
       "      <td>1</td>\n",
       "      <td>1</td>\n",
       "    </tr>\n",
       "    <tr>\n",
       "      <th rowspan=\"2\" valign=\"top\">Bloomingdale</th>\n",
       "      <th>Match</th>\n",
       "      <td>19</td>\n",
       "      <td>19</td>\n",
       "    </tr>\n",
       "    <tr>\n",
       "      <th>No Match</th>\n",
       "      <td>2</td>\n",
       "      <td>2</td>\n",
       "    </tr>\n",
       "    <tr>\n",
       "      <th>Bronx Park</th>\n",
       "      <th>Match</th>\n",
       "      <td>1</td>\n",
       "      <td>1</td>\n",
       "    </tr>\n",
       "    <tr>\n",
       "      <th>Bronxdale</th>\n",
       "      <th>Match</th>\n",
       "      <td>1</td>\n",
       "      <td>1</td>\n",
       "    </tr>\n",
       "    <tr>\n",
       "      <th>Brooklyn Heights</th>\n",
       "      <th>Match</th>\n",
       "      <td>1</td>\n",
       "      <td>1</td>\n",
       "    </tr>\n",
       "    <tr>\n",
       "      <th>Bushwick South</th>\n",
       "      <th>Match</th>\n",
       "      <td>2</td>\n",
       "      <td>2</td>\n",
       "    </tr>\n",
       "    <tr>\n",
       "      <th>Carroll Gardens</th>\n",
       "      <th>No Match</th>\n",
       "      <td>1</td>\n",
       "      <td>1</td>\n",
       "    </tr>\n",
       "    <tr>\n",
       "      <th rowspan=\"2\" valign=\"top\">Central Harlem</th>\n",
       "      <th>Match</th>\n",
       "      <td>59</td>\n",
       "      <td>59</td>\n",
       "    </tr>\n",
       "    <tr>\n",
       "      <th>No Match</th>\n",
       "      <td>18</td>\n",
       "      <td>18</td>\n",
       "    </tr>\n",
       "    <tr>\n",
       "      <th rowspan=\"2\" valign=\"top\">Central Harlem North</th>\n",
       "      <th>Match</th>\n",
       "      <td>33</td>\n",
       "      <td>33</td>\n",
       "    </tr>\n",
       "    <tr>\n",
       "      <th>No Match</th>\n",
       "      <td>2</td>\n",
       "      <td>2</td>\n",
       "    </tr>\n",
       "    <tr>\n",
       "      <th rowspan=\"2\" valign=\"top\">Central Park</th>\n",
       "      <th>Match</th>\n",
       "      <td>301</td>\n",
       "      <td>301</td>\n",
       "    </tr>\n",
       "    <tr>\n",
       "      <th>No Match</th>\n",
       "      <td>31</td>\n",
       "      <td>31</td>\n",
       "    </tr>\n",
       "    <tr>\n",
       "      <th rowspan=\"2\" valign=\"top\">Chinatown</th>\n",
       "      <th>Match</th>\n",
       "      <td>53</td>\n",
       "      <td>53</td>\n",
       "    </tr>\n",
       "    <tr>\n",
       "      <th>No Match</th>\n",
       "      <td>4</td>\n",
       "      <td>4</td>\n",
       "    </tr>\n",
       "    <tr>\n",
       "      <th>Claremont/Bathgate</th>\n",
       "      <th>Match</th>\n",
       "      <td>1</td>\n",
       "      <td>1</td>\n",
       "    </tr>\n",
       "  </tbody>\n",
       "</table>\n",
       "</div>"
      ],
      "text/plain": [
       "congestion_surcharge                                                      2.75  \\\n",
       "PU_Zone                 DO_Zone                      total_amount_match?         \n",
       "Allerton/Pelham Gardens Clinton East                 Match                   1   \n",
       "                                                     No Match                1   \n",
       "                        East Chelsea                 Match                   2   \n",
       "                        Gramercy                     Match                   1   \n",
       "                        Hudson Sq                    Match                   2   \n",
       "                                                     No Match                3   \n",
       "                        Lenox Hill East              Match                   2   \n",
       "                        Manhattan Valley             No Match                1   \n",
       "                        Murray Hill                  Match                   1   \n",
       "                        Old Astoria                  Match                   1   \n",
       "                        Seaport                      Match                   1   \n",
       "                        Sunset Park West             Match                   1   \n",
       "                        Times Sq/Theatre District    No Match                1   \n",
       "                        UN/Turtle Bay South          No Match                3   \n",
       "                        Washington Heights North     Match                   1   \n",
       "                        West Village                 Match                   2   \n",
       "                                                     No Match                1   \n",
       "                        Yorkville West               Match                   3   \n",
       "Arden Heights           Penn Station/Madison Sq West Match                   1   \n",
       "Arrochar/Fort Wadsworth Clinton East                 No Match                1   \n",
       "                        East Chelsea                 Match                   1   \n",
       "                        Lenox Hill East              Match                   1   \n",
       "Astoria                 Alphabet City                Match                 109   \n",
       "                                                     No Match               16   \n",
       "                        Arden Heights                Match                   1   \n",
       "                        Astoria                      Match                  42   \n",
       "                                                     No Match                4   \n",
       "                        Battery Park                 Match                   2   \n",
       "                        Battery Park City            Match                  53   \n",
       "                                                     No Match                8   \n",
       "                        Bay Ridge                    Match                   2   \n",
       "                        Bedford                      Match                   1   \n",
       "                        Bedford Park                 Match                   2   \n",
       "                        Belmont                      Match                   1   \n",
       "                        Bloomingdale                 Match                  19   \n",
       "                                                     No Match                2   \n",
       "                        Bronx Park                   Match                   1   \n",
       "                        Bronxdale                    Match                   1   \n",
       "                        Brooklyn Heights             Match                   1   \n",
       "                        Bushwick South               Match                   2   \n",
       "                        Carroll Gardens              No Match                1   \n",
       "                        Central Harlem               Match                  59   \n",
       "                                                     No Match               18   \n",
       "                        Central Harlem North         Match                  33   \n",
       "                                                     No Match                2   \n",
       "                        Central Park                 Match                 301   \n",
       "                                                     No Match               31   \n",
       "                        Chinatown                    Match                  53   \n",
       "                                                     No Match                4   \n",
       "                        Claremont/Bathgate           Match                   1   \n",
       "\n",
       "congestion_surcharge                                                      Total  \n",
       "PU_Zone                 DO_Zone                      total_amount_match?         \n",
       "Allerton/Pelham Gardens Clinton East                 Match                    1  \n",
       "                                                     No Match                 1  \n",
       "                        East Chelsea                 Match                    2  \n",
       "                        Gramercy                     Match                    1  \n",
       "                        Hudson Sq                    Match                    2  \n",
       "                                                     No Match                 3  \n",
       "                        Lenox Hill East              Match                    2  \n",
       "                        Manhattan Valley             No Match                 1  \n",
       "                        Murray Hill                  Match                    1  \n",
       "                        Old Astoria                  Match                    1  \n",
       "                        Seaport                      Match                    1  \n",
       "                        Sunset Park West             Match                    1  \n",
       "                        Times Sq/Theatre District    No Match                 1  \n",
       "                        UN/Turtle Bay South          No Match                 3  \n",
       "                        Washington Heights North     Match                    1  \n",
       "                        West Village                 Match                    2  \n",
       "                                                     No Match                 1  \n",
       "                        Yorkville West               Match                    3  \n",
       "Arden Heights           Penn Station/Madison Sq West Match                    1  \n",
       "Arrochar/Fort Wadsworth Clinton East                 No Match                 1  \n",
       "                        East Chelsea                 Match                    1  \n",
       "                        Lenox Hill East              Match                    1  \n",
       "Astoria                 Alphabet City                Match                  109  \n",
       "                                                     No Match                16  \n",
       "                        Arden Heights                Match                    1  \n",
       "                        Astoria                      Match                   42  \n",
       "                                                     No Match                 4  \n",
       "                        Battery Park                 Match                    2  \n",
       "                        Battery Park City            Match                   53  \n",
       "                                                     No Match                 8  \n",
       "                        Bay Ridge                    Match                    2  \n",
       "                        Bedford                      Match                    1  \n",
       "                        Bedford Park                 Match                    2  \n",
       "                        Belmont                      Match                    1  \n",
       "                        Bloomingdale                 Match                   19  \n",
       "                                                     No Match                 2  \n",
       "                        Bronx Park                   Match                    1  \n",
       "                        Bronxdale                    Match                    1  \n",
       "                        Brooklyn Heights             Match                    1  \n",
       "                        Bushwick South               Match                    2  \n",
       "                        Carroll Gardens              No Match                 1  \n",
       "                        Central Harlem               Match                   59  \n",
       "                                                     No Match                18  \n",
       "                        Central Harlem North         Match                   33  \n",
       "                                                     No Match                 2  \n",
       "                        Central Park                 Match                  301  \n",
       "                                                     No Match                31  \n",
       "                        Chinatown                    Match                   53  \n",
       "                                                     No Match                 4  \n",
       "                        Claremont/Bathgate           Match                    1  "
      ]
     },
     "execution_count": 125,
     "metadata": {},
     "output_type": "execute_result"
    }
   ],
   "source": [
    "pivot_congestion_surcharge_check.head(50)"
   ]
  },
  {
   "cell_type": "code",
   "execution_count": null,
   "id": "b07603e7",
   "metadata": {},
   "outputs": [],
   "source": []
  },
  {
   "cell_type": "code",
   "execution_count": null,
   "id": "fe809341",
   "metadata": {},
   "outputs": [],
   "source": []
  },
  {
   "cell_type": "code",
   "execution_count": null,
   "id": "d6b34c9c",
   "metadata": {},
   "outputs": [],
   "source": []
  },
  {
   "cell_type": "code",
   "execution_count": null,
   "id": "eb89b56f",
   "metadata": {},
   "outputs": [],
   "source": []
  },
  {
   "cell_type": "code",
   "execution_count": null,
   "id": "e6e7df1c",
   "metadata": {},
   "outputs": [],
   "source": []
  },
  {
   "cell_type": "code",
   "execution_count": null,
   "id": "ce43a86b",
   "metadata": {},
   "outputs": [],
   "source": []
  },
  {
   "cell_type": "code",
   "execution_count": null,
   "id": "029c40b1",
   "metadata": {},
   "outputs": [],
   "source": []
  },
  {
   "cell_type": "code",
   "execution_count": null,
   "id": "703a15d7",
   "metadata": {},
   "outputs": [],
   "source": []
  },
  {
   "cell_type": "code",
   "execution_count": null,
   "id": "47ff940e",
   "metadata": {},
   "outputs": [],
   "source": []
  },
  {
   "cell_type": "code",
   "execution_count": null,
   "id": "78670e3b",
   "metadata": {},
   "outputs": [],
   "source": []
  },
  {
   "cell_type": "code",
   "execution_count": null,
   "id": "e7e96c29",
   "metadata": {},
   "outputs": [],
   "source": [
    "taxi_trips.loc[(taxi_trips['PU_Zone']=='DUMBO/Vinegar Hill') & (taxi_trips['DO_Zone']=='Central Park'), 'congestion_surcharge'].value_counts()"
   ]
  },
  {
   "cell_type": "code",
   "execution_count": null,
   "id": "7a6edc00",
   "metadata": {},
   "outputs": [],
   "source": [
    "total_amount_no_match.loc[(total_amount_no_match['PU_Zone']=='DUMBO/Vinegar Hill') & (total_amount_no_match['DO_Zone']=='Central Park'), 'congestion_surcharge'].value_counts()"
   ]
  },
  {
   "cell_type": "code",
   "execution_count": null,
   "id": "60cdbc1f",
   "metadata": {},
   "outputs": [],
   "source": [
    "taxi_trips.loc[(taxi_trips['PU_Zone']=='Rego Park') & (taxi_trips['DO_Zone']=='Yorkville West'), 'congestion_surcharge'].value_counts()"
   ]
  },
  {
   "cell_type": "code",
   "execution_count": null,
   "id": "189afc5e",
   "metadata": {},
   "outputs": [],
   "source": [
    "total_amount_no_match.loc[(total_amount_no_match['PU_Zone']=='Rego Park') & (total_amount_no_match['DO_Zone']=='Yorkville West'), 'congestion_surcharge'].value_counts()"
   ]
  },
  {
   "cell_type": "code",
   "execution_count": null,
   "id": "5e95a1ce",
   "metadata": {},
   "outputs": [],
   "source": [
    "taxi_trips.loc[(taxi_trips['PU_Zone']=='Washington Heights South') & (taxi_trips['DO_Zone']=='Midtown North'), 'congestion_surcharge'].value_counts()"
   ]
  },
  {
   "cell_type": "code",
   "execution_count": null,
   "id": "e3cd7182",
   "metadata": {},
   "outputs": [],
   "source": [
    "total_amount_no_match.loc[(total_amount_no_match['PU_Zone']=='Washington Heights South') & (total_amount_no_match['DO_Zone']=='Midtown North'), 'congestion_surcharge'].value_counts()"
   ]
  },
  {
   "cell_type": "code",
   "execution_count": null,
   "id": "e4961326",
   "metadata": {},
   "outputs": [],
   "source": []
  },
  {
   "cell_type": "code",
   "execution_count": null,
   "id": "66a968f2",
   "metadata": {},
   "outputs": [],
   "source": []
  },
  {
   "cell_type": "code",
   "execution_count": null,
   "id": "fd1f3b72",
   "metadata": {},
   "outputs": [],
   "source": []
  },
  {
   "cell_type": "code",
   "execution_count": null,
   "id": "580394b5",
   "metadata": {},
   "outputs": [],
   "source": []
  },
  {
   "cell_type": "code",
   "execution_count": null,
   "id": "b46f88c1",
   "metadata": {},
   "outputs": [],
   "source": [
    "total_amount_no_match.loc[total_amount_no_match['total_amount_difference']>0]"
   ]
  },
  {
   "cell_type": "code",
   "execution_count": null,
   "id": "bcc812ff",
   "metadata": {},
   "outputs": [],
   "source": [
    "total_amount_no_match.loc[total_amount_no_match['total_amount_difference']>0,'total_amount_difference'].head(1)"
   ]
  },
  {
   "cell_type": "code",
   "execution_count": null,
   "id": "4db63d9a",
   "metadata": {},
   "outputs": [],
   "source": [
    "total_amount_no_match.loc[total_amount_no_match['total_amount_difference']==2.75]"
   ]
  },
  {
   "cell_type": "code",
   "execution_count": null,
   "id": "4605d2fa",
   "metadata": {},
   "outputs": [],
   "source": [
    "total_amount_no_match['total_amount_difference'].max()"
   ]
  },
  {
   "cell_type": "code",
   "execution_count": null,
   "id": "eb67f493",
   "metadata": {},
   "outputs": [],
   "source": [
    "total_amount_no_match['total_amount_difference'].min()"
   ]
  },
  {
   "cell_type": "code",
   "execution_count": null,
   "id": "4f17f0b5",
   "metadata": {},
   "outputs": [],
   "source": [
    "sns.boxplot(total_amount_no_match['total_amount_difference'])"
   ]
  },
  {
   "cell_type": "code",
   "execution_count": null,
   "id": "47075749",
   "metadata": {},
   "outputs": [],
   "source": []
  },
  {
   "cell_type": "code",
   "execution_count": null,
   "id": "937f65df",
   "metadata": {},
   "outputs": [],
   "source": []
  },
  {
   "cell_type": "code",
   "execution_count": null,
   "id": "6d4ff5ae",
   "metadata": {},
   "outputs": [],
   "source": []
  },
  {
   "cell_type": "code",
   "execution_count": null,
   "id": "5413b87d",
   "metadata": {},
   "outputs": [],
   "source": []
  },
  {
   "cell_type": "code",
   "execution_count": null,
   "id": "c94c7826",
   "metadata": {},
   "outputs": [],
   "source": []
  },
  {
   "cell_type": "code",
   "execution_count": null,
   "id": "6343cc50",
   "metadata": {},
   "outputs": [],
   "source": []
  },
  {
   "cell_type": "code",
   "execution_count": null,
   "id": "ead78644",
   "metadata": {},
   "outputs": [],
   "source": []
  },
  {
   "cell_type": "markdown",
   "id": "6799b192",
   "metadata": {},
   "source": [
    "$0.50 MTA tax that is automatically triggered based on the metered rate in use"
   ]
  },
  {
   "cell_type": "code",
   "execution_count": null,
   "id": "775843f1",
   "metadata": {},
   "outputs": [],
   "source": [
    "taxi_trips['mta_tax'].value_counts()"
   ]
  },
  {
   "cell_type": "code",
   "execution_count": null,
   "id": "8887b488",
   "metadata": {},
   "outputs": [],
   "source": [
    "20.50+0.50+0.60"
   ]
  },
  {
   "cell_type": "code",
   "execution_count": null,
   "id": "ba07baf7",
   "metadata": {},
   "outputs": [],
   "source": [
    "taxi_trips.loc[taxi_trips['mta_tax']==3.55]"
   ]
  },
  {
   "cell_type": "code",
   "execution_count": null,
   "id": "e1807d26",
   "metadata": {},
   "outputs": [],
   "source": [
    "30.0+3.75+3.55"
   ]
  },
  {
   "cell_type": "code",
   "execution_count": null,
   "id": "4e977ba2",
   "metadata": {},
   "outputs": [],
   "source": [
    "100-28.9"
   ]
  },
  {
   "cell_type": "code",
   "execution_count": null,
   "id": "e0aa726b",
   "metadata": {},
   "outputs": [],
   "source": []
  },
  {
   "cell_type": "code",
   "execution_count": null,
   "id": "3bd0d753",
   "metadata": {},
   "outputs": [],
   "source": []
  },
  {
   "cell_type": "code",
   "execution_count": null,
   "id": "d1866a01",
   "metadata": {},
   "outputs": [],
   "source": []
  },
  {
   "cell_type": "code",
   "execution_count": null,
   "id": "c293be56",
   "metadata": {},
   "outputs": [],
   "source": []
  },
  {
   "cell_type": "code",
   "execution_count": null,
   "id": "197a9e5b",
   "metadata": {},
   "outputs": [],
   "source": []
  },
  {
   "cell_type": "code",
   "execution_count": null,
   "id": "d338648f",
   "metadata": {},
   "outputs": [],
   "source": []
  },
  {
   "cell_type": "code",
   "execution_count": null,
   "id": "0b40f2c0",
   "metadata": {},
   "outputs": [],
   "source": []
  },
  {
   "cell_type": "code",
   "execution_count": null,
   "id": "9bf587a9",
   "metadata": {},
   "outputs": [],
   "source": []
  },
  {
   "cell_type": "markdown",
   "id": "180c86b3",
   "metadata": {},
   "source": [
    "---"
   ]
  },
  {
   "cell_type": "markdown",
   "id": "8bdbef16",
   "metadata": {},
   "source": [
    "# To-Do"
   ]
  },
  {
   "cell_type": "markdown",
   "id": "390e7777",
   "metadata": {},
   "source": [
    "- Update zeros in trip_distance\n",
    "- Update zeros in fare_amount"
   ]
  },
  {
   "cell_type": "markdown",
   "id": "747e2abf",
   "metadata": {},
   "source": [
    "###### What methods can be used to fill the missing fare_amount?"
   ]
  },
  {
   "cell_type": "markdown",
   "id": "58f9ddd8",
   "metadata": {},
   "source": [
    "After looking at some sample records, it seems like total_amount is the sum of fare_amount, extra, mta_tax, tip_amount, tolls_amount, improvement_surcharge, and congestion_surcharge. Therefore, to get the fare_amount where the total_amount is not zero, the following formula can be used:\n",
    " - fare_amount = total_amount - improvement_surcharge - tolls_amount - tip_amount - mta_tax - extra - congestion_surcharge\n",
    "\n",
    "How many records are there that confirms the above formula? And how many zeros can we update using the above formula?\n",
    "\n",
    "Another way we can update the zeros in fare_amount is to use the actual formula used by the company. According to the data dictionary, the fare_amount is the time-and-distance fare calculated by the meter. To utilise this formula, two variables, time and distance, are needed."
   ]
  },
  {
   "cell_type": "code",
   "execution_count": null,
   "id": "16e4d5bb",
   "metadata": {},
   "outputs": [],
   "source": [
    "rows_where_formula_correct = taxi_trips.loc[(taxi_trips['fare_amount'] == taxi_trips['total_amount']-taxi_trips['extra']-taxi_trips['mta_tax']-taxi_trips['tip_amount']-taxi_trips['tolls_amount']-taxi_trips['improvement_surcharge']-taxi_trips['congestion_surcharge']) & (taxi_trips['fare_amount']>0) & (taxi_trips['total_amount']>0)].shape[0]\n",
    "rows_where_formula_incorrect = taxi_trips.loc[~(taxi_trips['fare_amount'] == taxi_trips['total_amount']-taxi_trips['extra']-taxi_trips['mta_tax']-taxi_trips['tip_amount']-taxi_trips['tolls_amount']-taxi_trips['improvement_surcharge']-taxi_trips['congestion_surcharge']) & (taxi_trips['fare_amount']>0) & (taxi_trips['total_amount']>0)].shape[0]\n",
    "fare_amount_update_possible = taxi_trips.loc[(taxi_trips['fare_amount']==0) & (taxi_trips['total_amount']>0)].shape[0]\n",
    "fare_amount_update_not_possible = fare_amount_zero - fare_amount_update_possible\n",
    "\n",
    "print('There are {} records that confirms the fare_amount formula is correct'.format(rows_where_formula_correct))\n",
    "print('There are {} records that doesn\\'t follow the fare_amount formula'.format(rows_where_formula_incorrect))\n",
    "print('Using the fare_amount formula, {} records can be updated out of {} which leaves us with {} zeros'.format(fare_amount_update_possible, fare_amount_zero, fare_amount_update_not_possible))"
   ]
  },
  {
   "cell_type": "markdown",
   "id": "343ede60",
   "metadata": {},
   "source": [
    "---"
   ]
  },
  {
   "cell_type": "markdown",
   "id": "0cff4969",
   "metadata": {},
   "source": [
    "### fare_amount is the time-and-distance fare calculated by the meter. How is it calculated?"
   ]
  },
  {
   "cell_type": "code",
   "execution_count": null,
   "id": "989950af",
   "metadata": {},
   "outputs": [],
   "source": [
    "taxi_trips.loc[taxi_trips['fare_amount']>0, 'fare_amount'].describe()"
   ]
  },
  {
   "cell_type": "code",
   "execution_count": null,
   "id": "23e16932",
   "metadata": {},
   "outputs": [],
   "source": [
    "taxi_trips['trip_duration_mins'] = (taxi_trips['lpep_dropoff_datetime'] - taxi_trips['lpep_pickup_datetime']) / np.timedelta64(1, 'm')\n",
    "\n",
    "taxi_trips['trip_duration_mins']"
   ]
  },
  {
   "cell_type": "code",
   "execution_count": null,
   "id": "5fd55660",
   "metadata": {},
   "outputs": [],
   "source": [
    "taxi_trips.loc[taxi_trips['trip_distance']==1.0,['Ratecode','PU_Zone','DO_Zone','trip_distance','trip_duration_mins','fare_amount']].max()"
   ]
  },
  {
   "cell_type": "code",
   "execution_count": null,
   "id": "e5d80099",
   "metadata": {},
   "outputs": [],
   "source": [
    "taxi_trips.info()"
   ]
  },
  {
   "cell_type": "code",
   "execution_count": null,
   "id": "2284777f",
   "metadata": {},
   "outputs": [],
   "source": [
    "taxi_trips['lpep_pickup_datetime'].dt.month_name()"
   ]
  },
  {
   "cell_type": "code",
   "execution_count": null,
   "id": "2086f30e",
   "metadata": {},
   "outputs": [],
   "source": [
    "taxi_trips['lpep_pickup_datetime'].dt.month"
   ]
  },
  {
   "cell_type": "code",
   "execution_count": null,
   "id": "f0df73a3",
   "metadata": {},
   "outputs": [],
   "source": [
    "taxi_trips['lpep_pickup_datetime'].dt.year"
   ]
  },
  {
   "cell_type": "code",
   "execution_count": null,
   "id": "6f607ffc",
   "metadata": {},
   "outputs": [],
   "source": [
    "df[(df['date']>datetime.date(2019,11,1)) & (df['date']<datetime.date(2019,12,1))]  "
   ]
  },
  {
   "cell_type": "code",
   "execution_count": null,
   "id": "4b92319c",
   "metadata": {},
   "outputs": [],
   "source": [
    "import datetime"
   ]
  },
  {
   "cell_type": "code",
   "execution_count": null,
   "id": "b6c644d2",
   "metadata": {},
   "outputs": [],
   "source": [
    "taxi_trips.loc[(taxi_trips['lpep_pickup_datetime'].dt.date>datetime.date(2019,11,1)) & (taxi_trips['lpep_pickup_datetime'].dt.date<datetime.date(2019,12,1)),['Ratecode','lpep_pickup_datetime','lpep_dropoff_datetime','trip_distance','trip_duration_mins','fare_amount']].head(30)"
   ]
  },
  {
   "cell_type": "code",
   "execution_count": null,
   "id": "6be5f977",
   "metadata": {
    "scrolled": false
   },
   "outputs": [],
   "source": [
    "taxi_trips.loc[(taxi_trips['lpep_pickup_datetime']>'2019-11-20 16:02:00') & (taxi_trips['lpep_pickup_datetime']<'2019-11-20 16:05:00'),['Ratecode','lpep_pickup_datetime','lpep_dropoff_datetime','trip_distance','trip_duration_mins','fare_amount']]"
   ]
  },
  {
   "cell_type": "code",
   "execution_count": null,
   "id": "4473e3c6",
   "metadata": {},
   "outputs": [],
   "source": [
    "# negative_trip_distance_pivot = \n",
    "pd.pivot_table(taxi_trips.loc[taxi_trips['trip_distance']<0], index='DO_Zone', columns='PU_Zone', values='trip_distance', aggfunc='min', fill_value=0, margins=True, margins_name='Total').head(10)\n",
    "# .sort_values(by='Total', ascending=False).drop('Total')\n",
    "\n",
    "# Dropping the total row\n",
    "# negative_trip_distance_pivot.drop('Total', inplace=True)\n",
    "\n",
    "# negative_trip_distance_pivot"
   ]
  },
  {
   "cell_type": "code",
   "execution_count": null,
   "id": "08e859c8",
   "metadata": {},
   "outputs": [],
   "source": [
    "pd.pivot_table(taxi_trips, index='DO_Zone', columns='PU_Zone', values='trip_distance', aggfunc='max', fill_value=0, margins=True, margins_name='Total').head(10)"
   ]
  },
  {
   "cell_type": "code",
   "execution_count": null,
   "id": "15ee0c19",
   "metadata": {},
   "outputs": [],
   "source": []
  },
  {
   "cell_type": "code",
   "execution_count": null,
   "id": "b976618b",
   "metadata": {},
   "outputs": [],
   "source": []
  },
  {
   "cell_type": "code",
   "execution_count": null,
   "id": "36380e95",
   "metadata": {},
   "outputs": [],
   "source": []
  },
  {
   "cell_type": "code",
   "execution_count": null,
   "id": "02d1066c",
   "metadata": {},
   "outputs": [],
   "source": [
    "taxi_trips.loc[(taxi_trips['trip_distance']<0) & (taxi_trips['DO_Zone']=='Astoria') & (taxi_trips['PU_Zone']=='Astoria')].shape"
   ]
  },
  {
   "cell_type": "code",
   "execution_count": null,
   "id": "53ad2d65",
   "metadata": {},
   "outputs": [],
   "source": [
    "print(taxi_trips.loc[taxi_trips['trip_distance']<0, 'DO_Zone'].value_counts())\n",
    "print(taxi_trips.loc[taxi_trips['trip_distance']<0, 'PU_Zone'].value_counts())"
   ]
  },
  {
   "cell_type": "code",
   "execution_count": null,
   "id": "d3933447",
   "metadata": {},
   "outputs": [],
   "source": [
    "taxi_trips.loc[taxi_trips['trip_distance']<0]"
   ]
  },
  {
   "cell_type": "code",
   "execution_count": null,
   "id": "b1df3b66",
   "metadata": {},
   "outputs": [],
   "source": []
  },
  {
   "cell_type": "code",
   "execution_count": null,
   "id": "6d6b57b9",
   "metadata": {},
   "outputs": [],
   "source": []
  },
  {
   "cell_type": "code",
   "execution_count": null,
   "id": "57f4fd45",
   "metadata": {},
   "outputs": [],
   "source": []
  },
  {
   "cell_type": "code",
   "execution_count": null,
   "id": "aa10999e",
   "metadata": {},
   "outputs": [],
   "source": [
    "sns.boxplot(taxi_trips['trip_distance'])"
   ]
  },
  {
   "cell_type": "code",
   "execution_count": null,
   "id": "fa0f6af5",
   "metadata": {},
   "outputs": [],
   "source": [
    "taxi_trips['trip_distance'].value_counts().plot(kind='barh')"
   ]
  },
  {
   "cell_type": "code",
   "execution_count": null,
   "id": "304ede04",
   "metadata": {},
   "outputs": [],
   "source": [
    "taxi_trips['trip_distance'].plot()"
   ]
  },
  {
   "cell_type": "code",
   "execution_count": null,
   "id": "bb52df44",
   "metadata": {},
   "outputs": [],
   "source": []
  },
  {
   "cell_type": "code",
   "execution_count": null,
   "id": "58973a63",
   "metadata": {},
   "outputs": [],
   "source": [
    "taxi_trips.loc[taxi_trips['passenger_count']==0]"
   ]
  }
 ],
 "metadata": {
  "kernelspec": {
   "display_name": "Python 3",
   "language": "python",
   "name": "python3"
  },
  "language_info": {
   "codemirror_mode": {
    "name": "ipython",
    "version": 3
   },
   "file_extension": ".py",
   "mimetype": "text/x-python",
   "name": "python",
   "nbconvert_exporter": "python",
   "pygments_lexer": "ipython3",
   "version": "3.8.8"
  }
 },
 "nbformat": 4,
 "nbformat_minor": 5
}
