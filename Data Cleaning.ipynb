{
 "cells": [
  {
   "cell_type": "code",
   "execution_count": 1,
   "id": "8d7b98b8",
   "metadata": {},
   "outputs": [],
   "source": [
    "# Importing libraries\n",
    "import pandas as pd\n",
    "import numpy as np"
   ]
  },
  {
   "cell_type": "code",
   "execution_count": 10,
   "id": "bb5331f0",
   "metadata": {},
   "outputs": [],
   "source": [
    "pd.set_option(\"max_colwidth\", None)"
   ]
  },
  {
   "cell_type": "code",
   "execution_count": 11,
   "id": "b940a8ee",
   "metadata": {},
   "outputs": [
    {
     "data": {
      "text/html": [
       "<div>\n",
       "<style scoped>\n",
       "    .dataframe tbody tr th:only-of-type {\n",
       "        vertical-align: middle;\n",
       "    }\n",
       "\n",
       "    .dataframe tbody tr th {\n",
       "        vertical-align: top;\n",
       "    }\n",
       "\n",
       "    .dataframe thead th {\n",
       "        text-align: right;\n",
       "    }\n",
       "</style>\n",
       "<table border=\"1\" class=\"dataframe\">\n",
       "  <thead>\n",
       "    <tr style=\"text-align: right;\">\n",
       "      <th></th>\n",
       "      <th>Field</th>\n",
       "      <th>Description</th>\n",
       "    </tr>\n",
       "  </thead>\n",
       "  <tbody>\n",
       "    <tr>\n",
       "      <th>0</th>\n",
       "      <td>VendorID</td>\n",
       "      <td>A code indicating the LPEP provider that provided the record (1= Creative Mobile Technologies, LLC; 2= Verifone Inc.)</td>\n",
       "    </tr>\n",
       "    <tr>\n",
       "      <th>1</th>\n",
       "      <td>lpep_pickup_datetime</td>\n",
       "      <td>The date and time when the meter was engaged</td>\n",
       "    </tr>\n",
       "    <tr>\n",
       "      <th>2</th>\n",
       "      <td>lpep_dropoff_datetime</td>\n",
       "      <td>The date and time when the meter was disengaged</td>\n",
       "    </tr>\n",
       "    <tr>\n",
       "      <th>3</th>\n",
       "      <td>store_and_fwd_flag</td>\n",
       "      <td>This flag indicates whether the trip record was held in vehicle memory before sending to the vendor, aka �store and forward,� because the vehicle did not have a connection to the server (Y= store and forward trip; N= not a store and forward trip)</td>\n",
       "    </tr>\n",
       "    <tr>\n",
       "      <th>4</th>\n",
       "      <td>RatecodeID</td>\n",
       "      <td>The final rate code in effect at the end of the trip (1= Standard rate; 2= JFK; 3= Newark; 4= Nassau or Westchester; 5= Negotiated fare; 6= Group ride)</td>\n",
       "    </tr>\n",
       "    <tr>\n",
       "      <th>5</th>\n",
       "      <td>PULocationID</td>\n",
       "      <td>TLC Taxi Zone in which the taximeter was engaged</td>\n",
       "    </tr>\n",
       "    <tr>\n",
       "      <th>6</th>\n",
       "      <td>DOLocationID</td>\n",
       "      <td>TLC Taxi Zone in which the taximeter was disengaged</td>\n",
       "    </tr>\n",
       "    <tr>\n",
       "      <th>7</th>\n",
       "      <td>passenger_count</td>\n",
       "      <td>The number of passengers in the vehicle (this is a driver entered value)</td>\n",
       "    </tr>\n",
       "    <tr>\n",
       "      <th>8</th>\n",
       "      <td>trip_distance</td>\n",
       "      <td>The elapsed trip distance in miles reported by the taximeter</td>\n",
       "    </tr>\n",
       "    <tr>\n",
       "      <th>9</th>\n",
       "      <td>fare_amount</td>\n",
       "      <td>The time-and-distance fare calculated by the meter</td>\n",
       "    </tr>\n",
       "    <tr>\n",
       "      <th>10</th>\n",
       "      <td>extra</td>\n",
       "      <td>Miscellaneous extras and surcharges (this only includes the $0.50 and $1 rush hour and overnight charges)</td>\n",
       "    </tr>\n",
       "    <tr>\n",
       "      <th>11</th>\n",
       "      <td>mta_tax</td>\n",
       "      <td>$0.50 MTA tax that is automatically triggered based on the metered rate in use</td>\n",
       "    </tr>\n",
       "    <tr>\n",
       "      <th>12</th>\n",
       "      <td>tip_amount</td>\n",
       "      <td>Tip amount (automatically populated for credit card tips - cash tips are not included)</td>\n",
       "    </tr>\n",
       "    <tr>\n",
       "      <th>13</th>\n",
       "      <td>tolls_amount</td>\n",
       "      <td>Total amount of all tolls paid in trip</td>\n",
       "    </tr>\n",
       "    <tr>\n",
       "      <th>14</th>\n",
       "      <td>improvement_surcharge</td>\n",
       "      <td>$0.30 improvement surcharge assessed on hailed trips at the flag drop</td>\n",
       "    </tr>\n",
       "    <tr>\n",
       "      <th>15</th>\n",
       "      <td>total_amount</td>\n",
       "      <td>The total amount charged to passengers (does not include cash tips)</td>\n",
       "    </tr>\n",
       "    <tr>\n",
       "      <th>16</th>\n",
       "      <td>payment_type</td>\n",
       "      <td>A numeric code signifying how the passenger paid for the trip (1= Credit card; 2= Cash; 3= No charge; 4= Dispute; 5= Unknown; 6= Voided trip)</td>\n",
       "    </tr>\n",
       "    <tr>\n",
       "      <th>17</th>\n",
       "      <td>trip_type</td>\n",
       "      <td>A code indicating whether the trip was a street-hail or a dispatch that is automatically assigned based on the metered rate in use but can be altered by the driver (1= Street-hail; 2= Dispatch)</td>\n",
       "    </tr>\n",
       "    <tr>\n",
       "      <th>18</th>\n",
       "      <td>congestion_surcharge</td>\n",
       "      <td>Congestion surcharge for trips that start, end or pass through the congestion zone in Manhattan, south of 96th street ($2.50 for non-shared trips in Yellow Taxis; $2.75 for non-shared trips in Green Taxis)</td>\n",
       "    </tr>\n",
       "  </tbody>\n",
       "</table>\n",
       "</div>"
      ],
      "text/plain": [
       "                    Field  \\\n",
       "0                VendorID   \n",
       "1    lpep_pickup_datetime   \n",
       "2   lpep_dropoff_datetime   \n",
       "3      store_and_fwd_flag   \n",
       "4              RatecodeID   \n",
       "5            PULocationID   \n",
       "6            DOLocationID   \n",
       "7         passenger_count   \n",
       "8           trip_distance   \n",
       "9             fare_amount   \n",
       "10                  extra   \n",
       "11                mta_tax   \n",
       "12             tip_amount   \n",
       "13           tolls_amount   \n",
       "14  improvement_surcharge   \n",
       "15           total_amount   \n",
       "16           payment_type   \n",
       "17              trip_type   \n",
       "18   congestion_surcharge   \n",
       "\n",
       "                                                                                                                                                                                                                                               Description  \n",
       "0                                                                                                                                    A code indicating the LPEP provider that provided the record (1= Creative Mobile Technologies, LLC; 2= Verifone Inc.)  \n",
       "1                                                                                                                                                                                                             The date and time when the meter was engaged  \n",
       "2                                                                                                                                                                                                          The date and time when the meter was disengaged  \n",
       "3   This flag indicates whether the trip record was held in vehicle memory before sending to the vendor, aka �store and forward,� because the vehicle did not have a connection to the server (Y= store and forward trip; N= not a store and forward trip)  \n",
       "4                                                                                                  The final rate code in effect at the end of the trip (1= Standard rate; 2= JFK; 3= Newark; 4= Nassau or Westchester; 5= Negotiated fare; 6= Group ride)  \n",
       "5                                                                                                                                                                                                         TLC Taxi Zone in which the taximeter was engaged  \n",
       "6                                                                                                                                                                                                      TLC Taxi Zone in which the taximeter was disengaged  \n",
       "7                                                                                                                                                                                 The number of passengers in the vehicle (this is a driver entered value)  \n",
       "8                                                                                                                                                                                             The elapsed trip distance in miles reported by the taximeter  \n",
       "9                                                                                                                                                                                                       The time-and-distance fare calculated by the meter  \n",
       "10                                                                                                                                               Miscellaneous extras and surcharges (this only includes the $0.50 and $1 rush hour and overnight charges)  \n",
       "11                                                                                                                                                                          $0.50 MTA tax that is automatically triggered based on the metered rate in use  \n",
       "12                                                                                                                                                                  Tip amount (automatically populated for credit card tips - cash tips are not included)  \n",
       "13                                                                                                                                                                                                                  Total amount of all tolls paid in trip  \n",
       "14                                                                                                                                                                                   $0.30 improvement surcharge assessed on hailed trips at the flag drop  \n",
       "15                                                                                                                                                                                     The total amount charged to passengers (does not include cash tips)  \n",
       "16                                                                                                           A numeric code signifying how the passenger paid for the trip (1= Credit card; 2= Cash; 3= No charge; 4= Dispute; 5= Unknown; 6= Voided trip)  \n",
       "17                                                       A code indicating whether the trip was a street-hail or a dispatch that is automatically assigned based on the metered rate in use but can be altered by the driver (1= Street-hail; 2= Dispatch)  \n",
       "18                                           Congestion surcharge for trips that start, end or pass through the congestion zone in Manhattan, south of 96th street ($2.50 for non-shared trips in Yellow Taxis; $2.75 for non-shared trips in Green Taxis)  "
      ]
     },
     "execution_count": 11,
     "metadata": {},
     "output_type": "execute_result"
    }
   ],
   "source": [
    "data_dictionary = pd.read_csv('data_dictionary.csv')\n",
    "\n",
    "data_dictionary"
   ]
  },
  {
   "cell_type": "code",
   "execution_count": 26,
   "id": "f23170da",
   "metadata": {},
   "outputs": [
    {
     "data": {
      "text/html": [
       "<div>\n",
       "<style scoped>\n",
       "    .dataframe tbody tr th:only-of-type {\n",
       "        vertical-align: middle;\n",
       "    }\n",
       "\n",
       "    .dataframe tbody tr th {\n",
       "        vertical-align: top;\n",
       "    }\n",
       "\n",
       "    .dataframe thead th {\n",
       "        text-align: right;\n",
       "    }\n",
       "</style>\n",
       "<table border=\"1\" class=\"dataframe\">\n",
       "  <thead>\n",
       "    <tr style=\"text-align: right;\">\n",
       "      <th></th>\n",
       "      <th>VendorID</th>\n",
       "      <th>lpep_pickup_datetime</th>\n",
       "      <th>lpep_dropoff_datetime</th>\n",
       "      <th>store_and_fwd_flag</th>\n",
       "      <th>RatecodeID</th>\n",
       "      <th>PULocationID</th>\n",
       "      <th>DOLocationID</th>\n",
       "      <th>passenger_count</th>\n",
       "      <th>trip_distance</th>\n",
       "      <th>fare_amount</th>\n",
       "      <th>extra</th>\n",
       "      <th>mta_tax</th>\n",
       "      <th>tip_amount</th>\n",
       "      <th>tolls_amount</th>\n",
       "      <th>improvement_surcharge</th>\n",
       "      <th>total_amount</th>\n",
       "      <th>payment_type</th>\n",
       "      <th>trip_type</th>\n",
       "      <th>congestion_surcharge</th>\n",
       "    </tr>\n",
       "  </thead>\n",
       "  <tbody>\n",
       "    <tr>\n",
       "      <th>0</th>\n",
       "      <td>2.0</td>\n",
       "      <td>2020-01-01 06:47:28.000</td>\n",
       "      <td>2020-01-01 06:52:54.000</td>\n",
       "      <td>N</td>\n",
       "      <td>1.0</td>\n",
       "      <td>74</td>\n",
       "      <td>75</td>\n",
       "      <td>1.0</td>\n",
       "      <td>1.47</td>\n",
       "      <td>6.5</td>\n",
       "      <td>0.0</td>\n",
       "      <td>0.5</td>\n",
       "      <td>0.0</td>\n",
       "      <td>0.0</td>\n",
       "      <td>0.3</td>\n",
       "      <td>7.3</td>\n",
       "      <td>2.0</td>\n",
       "      <td>1.0</td>\n",
       "      <td>0.0</td>\n",
       "    </tr>\n",
       "    <tr>\n",
       "      <th>1</th>\n",
       "      <td>2.0</td>\n",
       "      <td>2020-01-01 13:25:34.000</td>\n",
       "      <td>2020-01-01 13:30:43.000</td>\n",
       "      <td>N</td>\n",
       "      <td>1.0</td>\n",
       "      <td>74</td>\n",
       "      <td>75</td>\n",
       "      <td>1.0</td>\n",
       "      <td>1.49</td>\n",
       "      <td>6.5</td>\n",
       "      <td>0.0</td>\n",
       "      <td>0.5</td>\n",
       "      <td>0.0</td>\n",
       "      <td>0.0</td>\n",
       "      <td>0.3</td>\n",
       "      <td>7.3</td>\n",
       "      <td>2.0</td>\n",
       "      <td>1.0</td>\n",
       "      <td>0.0</td>\n",
       "    </tr>\n",
       "    <tr>\n",
       "      <th>2</th>\n",
       "      <td>2.0</td>\n",
       "      <td>2020-01-01 14:20:35.000</td>\n",
       "      <td>2020-01-01 14:26:25.000</td>\n",
       "      <td>N</td>\n",
       "      <td>1.0</td>\n",
       "      <td>74</td>\n",
       "      <td>75</td>\n",
       "      <td>1.0</td>\n",
       "      <td>1.31</td>\n",
       "      <td>6.5</td>\n",
       "      <td>0.0</td>\n",
       "      <td>0.5</td>\n",
       "      <td>0.0</td>\n",
       "      <td>0.0</td>\n",
       "      <td>0.3</td>\n",
       "      <td>7.3</td>\n",
       "      <td>2.0</td>\n",
       "      <td>1.0</td>\n",
       "      <td>0.0</td>\n",
       "    </tr>\n",
       "    <tr>\n",
       "      <th>3</th>\n",
       "      <td>2.0</td>\n",
       "      <td>2020-01-02 06:56:47.000</td>\n",
       "      <td>2020-01-02 07:03:03.000</td>\n",
       "      <td>N</td>\n",
       "      <td>1.0</td>\n",
       "      <td>74</td>\n",
       "      <td>75</td>\n",
       "      <td>1.0</td>\n",
       "      <td>1.43</td>\n",
       "      <td>6.5</td>\n",
       "      <td>0.0</td>\n",
       "      <td>0.5</td>\n",
       "      <td>0.0</td>\n",
       "      <td>0.0</td>\n",
       "      <td>0.3</td>\n",
       "      <td>7.3</td>\n",
       "      <td>2.0</td>\n",
       "      <td>1.0</td>\n",
       "      <td>0.0</td>\n",
       "    </tr>\n",
       "    <tr>\n",
       "      <th>4</th>\n",
       "      <td>2.0</td>\n",
       "      <td>2020-01-02 09:34:46.000</td>\n",
       "      <td>2020-01-02 09:41:02.000</td>\n",
       "      <td>N</td>\n",
       "      <td>1.0</td>\n",
       "      <td>74</td>\n",
       "      <td>75</td>\n",
       "      <td>1.0</td>\n",
       "      <td>1.10</td>\n",
       "      <td>6.5</td>\n",
       "      <td>0.0</td>\n",
       "      <td>0.5</td>\n",
       "      <td>0.0</td>\n",
       "      <td>0.0</td>\n",
       "      <td>0.3</td>\n",
       "      <td>7.3</td>\n",
       "      <td>2.0</td>\n",
       "      <td>1.0</td>\n",
       "      <td>0.0</td>\n",
       "    </tr>\n",
       "  </tbody>\n",
       "</table>\n",
       "</div>"
      ],
      "text/plain": [
       "   VendorID     lpep_pickup_datetime    lpep_dropoff_datetime  \\\n",
       "0       2.0  2020-01-01 06:47:28.000  2020-01-01 06:52:54.000   \n",
       "1       2.0  2020-01-01 13:25:34.000  2020-01-01 13:30:43.000   \n",
       "2       2.0  2020-01-01 14:20:35.000  2020-01-01 14:26:25.000   \n",
       "3       2.0  2020-01-02 06:56:47.000  2020-01-02 07:03:03.000   \n",
       "4       2.0  2020-01-02 09:34:46.000  2020-01-02 09:41:02.000   \n",
       "\n",
       "  store_and_fwd_flag  RatecodeID  PULocationID  DOLocationID  passenger_count  \\\n",
       "0                  N         1.0            74            75              1.0   \n",
       "1                  N         1.0            74            75              1.0   \n",
       "2                  N         1.0            74            75              1.0   \n",
       "3                  N         1.0            74            75              1.0   \n",
       "4                  N         1.0            74            75              1.0   \n",
       "\n",
       "   trip_distance  fare_amount  extra  mta_tax  tip_amount  tolls_amount  \\\n",
       "0           1.47          6.5    0.0      0.5         0.0           0.0   \n",
       "1           1.49          6.5    0.0      0.5         0.0           0.0   \n",
       "2           1.31          6.5    0.0      0.5         0.0           0.0   \n",
       "3           1.43          6.5    0.0      0.5         0.0           0.0   \n",
       "4           1.10          6.5    0.0      0.5         0.0           0.0   \n",
       "\n",
       "   improvement_surcharge  total_amount  payment_type  trip_type  \\\n",
       "0                    0.3           7.3           2.0        1.0   \n",
       "1                    0.3           7.3           2.0        1.0   \n",
       "2                    0.3           7.3           2.0        1.0   \n",
       "3                    0.3           7.3           2.0        1.0   \n",
       "4                    0.3           7.3           2.0        1.0   \n",
       "\n",
       "   congestion_surcharge  \n",
       "0                   0.0  \n",
       "1                   0.0  \n",
       "2                   0.0  \n",
       "3                   0.0  \n",
       "4                   0.0  "
      ]
     },
     "execution_count": 26,
     "metadata": {},
     "output_type": "execute_result"
    }
   ],
   "source": [
    "taxi_trips_2020.head()"
   ]
  },
  {
   "cell_type": "code",
   "execution_count": 14,
   "id": "c70f7a98",
   "metadata": {},
   "outputs": [
    {
     "data": {
      "text/html": [
       "<div>\n",
       "<style scoped>\n",
       "    .dataframe tbody tr th:only-of-type {\n",
       "        vertical-align: middle;\n",
       "    }\n",
       "\n",
       "    .dataframe tbody tr th {\n",
       "        vertical-align: top;\n",
       "    }\n",
       "\n",
       "    .dataframe thead th {\n",
       "        text-align: right;\n",
       "    }\n",
       "</style>\n",
       "<table border=\"1\" class=\"dataframe\">\n",
       "  <thead>\n",
       "    <tr style=\"text-align: right;\">\n",
       "      <th></th>\n",
       "      <th>LocationID</th>\n",
       "      <th>Borough</th>\n",
       "      <th>Zone</th>\n",
       "      <th>service_zone</th>\n",
       "    </tr>\n",
       "  </thead>\n",
       "  <tbody>\n",
       "    <tr>\n",
       "      <th>0</th>\n",
       "      <td>1</td>\n",
       "      <td>EWR</td>\n",
       "      <td>Newark Airport</td>\n",
       "      <td>EWR</td>\n",
       "    </tr>\n",
       "    <tr>\n",
       "      <th>1</th>\n",
       "      <td>2</td>\n",
       "      <td>Queens</td>\n",
       "      <td>Jamaica Bay</td>\n",
       "      <td>Boro Zone</td>\n",
       "    </tr>\n",
       "    <tr>\n",
       "      <th>2</th>\n",
       "      <td>3</td>\n",
       "      <td>Bronx</td>\n",
       "      <td>Allerton/Pelham Gardens</td>\n",
       "      <td>Boro Zone</td>\n",
       "    </tr>\n",
       "    <tr>\n",
       "      <th>3</th>\n",
       "      <td>4</td>\n",
       "      <td>Manhattan</td>\n",
       "      <td>Alphabet City</td>\n",
       "      <td>Yellow Zone</td>\n",
       "    </tr>\n",
       "    <tr>\n",
       "      <th>4</th>\n",
       "      <td>5</td>\n",
       "      <td>Staten Island</td>\n",
       "      <td>Arden Heights</td>\n",
       "      <td>Boro Zone</td>\n",
       "    </tr>\n",
       "    <tr>\n",
       "      <th>...</th>\n",
       "      <td>...</td>\n",
       "      <td>...</td>\n",
       "      <td>...</td>\n",
       "      <td>...</td>\n",
       "    </tr>\n",
       "    <tr>\n",
       "      <th>260</th>\n",
       "      <td>261</td>\n",
       "      <td>Manhattan</td>\n",
       "      <td>World Trade Center</td>\n",
       "      <td>Yellow Zone</td>\n",
       "    </tr>\n",
       "    <tr>\n",
       "      <th>261</th>\n",
       "      <td>262</td>\n",
       "      <td>Manhattan</td>\n",
       "      <td>Yorkville East</td>\n",
       "      <td>Yellow Zone</td>\n",
       "    </tr>\n",
       "    <tr>\n",
       "      <th>262</th>\n",
       "      <td>263</td>\n",
       "      <td>Manhattan</td>\n",
       "      <td>Yorkville West</td>\n",
       "      <td>Yellow Zone</td>\n",
       "    </tr>\n",
       "    <tr>\n",
       "      <th>263</th>\n",
       "      <td>264</td>\n",
       "      <td>Unknown</td>\n",
       "      <td>NV</td>\n",
       "      <td>NaN</td>\n",
       "    </tr>\n",
       "    <tr>\n",
       "      <th>264</th>\n",
       "      <td>265</td>\n",
       "      <td>Unknown</td>\n",
       "      <td>NaN</td>\n",
       "      <td>NaN</td>\n",
       "    </tr>\n",
       "  </tbody>\n",
       "</table>\n",
       "<p>265 rows × 4 columns</p>\n",
       "</div>"
      ],
      "text/plain": [
       "     LocationID        Borough                     Zone service_zone\n",
       "0             1            EWR           Newark Airport          EWR\n",
       "1             2         Queens              Jamaica Bay    Boro Zone\n",
       "2             3          Bronx  Allerton/Pelham Gardens    Boro Zone\n",
       "3             4      Manhattan            Alphabet City  Yellow Zone\n",
       "4             5  Staten Island            Arden Heights    Boro Zone\n",
       "..          ...            ...                      ...          ...\n",
       "260         261      Manhattan       World Trade Center  Yellow Zone\n",
       "261         262      Manhattan           Yorkville East  Yellow Zone\n",
       "262         263      Manhattan           Yorkville West  Yellow Zone\n",
       "263         264        Unknown                       NV          NaN\n",
       "264         265        Unknown                      NaN          NaN\n",
       "\n",
       "[265 rows x 4 columns]"
      ]
     },
     "execution_count": 14,
     "metadata": {},
     "output_type": "execute_result"
    }
   ],
   "source": [
    "taxi_zones = pd.read_csv('taxi_zones.csv')\n",
    "\n",
    "taxi_zones"
   ]
  },
  {
   "cell_type": "code",
   "execution_count": 15,
   "id": "88571ff2",
   "metadata": {},
   "outputs": [
    {
     "data": {
      "text/html": [
       "<div>\n",
       "<style scoped>\n",
       "    .dataframe tbody tr th:only-of-type {\n",
       "        vertical-align: middle;\n",
       "    }\n",
       "\n",
       "    .dataframe tbody tr th {\n",
       "        vertical-align: top;\n",
       "    }\n",
       "\n",
       "    .dataframe thead th {\n",
       "        text-align: right;\n",
       "    }\n",
       "</style>\n",
       "<table border=\"1\" class=\"dataframe\">\n",
       "  <thead>\n",
       "    <tr style=\"text-align: right;\">\n",
       "      <th></th>\n",
       "      <th>Date</th>\n",
       "      <th>FiscalYear</th>\n",
       "      <th>FiscalQuarter</th>\n",
       "      <th>FiscalMonthNumber</th>\n",
       "      <th>FiscalMonthOfQuarter</th>\n",
       "      <th>FiscalWeekOfYear</th>\n",
       "      <th>DayOfWeek</th>\n",
       "      <th>FiscalMonthName</th>\n",
       "      <th>FiscalMonthYear</th>\n",
       "      <th>FiscalQuarterYear</th>\n",
       "      <th>DayOfMonthNumber</th>\n",
       "      <th>DayName</th>\n",
       "    </tr>\n",
       "  </thead>\n",
       "  <tbody>\n",
       "    <tr>\n",
       "      <th>0</th>\n",
       "      <td>2017-02-05</td>\n",
       "      <td>2017</td>\n",
       "      <td>1</td>\n",
       "      <td>1</td>\n",
       "      <td>1</td>\n",
       "      <td>1</td>\n",
       "      <td>0</td>\n",
       "      <td>February</td>\n",
       "      <td>17-Feb</td>\n",
       "      <td>12017</td>\n",
       "      <td>5</td>\n",
       "      <td>Sunday</td>\n",
       "    </tr>\n",
       "    <tr>\n",
       "      <th>1</th>\n",
       "      <td>2017-02-06</td>\n",
       "      <td>2017</td>\n",
       "      <td>1</td>\n",
       "      <td>1</td>\n",
       "      <td>1</td>\n",
       "      <td>1</td>\n",
       "      <td>1</td>\n",
       "      <td>February</td>\n",
       "      <td>17-Feb</td>\n",
       "      <td>12017</td>\n",
       "      <td>6</td>\n",
       "      <td>Monday</td>\n",
       "    </tr>\n",
       "    <tr>\n",
       "      <th>2</th>\n",
       "      <td>2017-02-07</td>\n",
       "      <td>2017</td>\n",
       "      <td>1</td>\n",
       "      <td>1</td>\n",
       "      <td>1</td>\n",
       "      <td>1</td>\n",
       "      <td>2</td>\n",
       "      <td>February</td>\n",
       "      <td>17-Feb</td>\n",
       "      <td>12017</td>\n",
       "      <td>7</td>\n",
       "      <td>Tuesday</td>\n",
       "    </tr>\n",
       "    <tr>\n",
       "      <th>3</th>\n",
       "      <td>2017-02-08</td>\n",
       "      <td>2017</td>\n",
       "      <td>1</td>\n",
       "      <td>1</td>\n",
       "      <td>1</td>\n",
       "      <td>1</td>\n",
       "      <td>3</td>\n",
       "      <td>February</td>\n",
       "      <td>17-Feb</td>\n",
       "      <td>12017</td>\n",
       "      <td>8</td>\n",
       "      <td>Wednesday</td>\n",
       "    </tr>\n",
       "    <tr>\n",
       "      <th>4</th>\n",
       "      <td>2017-02-09</td>\n",
       "      <td>2017</td>\n",
       "      <td>1</td>\n",
       "      <td>1</td>\n",
       "      <td>1</td>\n",
       "      <td>1</td>\n",
       "      <td>4</td>\n",
       "      <td>February</td>\n",
       "      <td>17-Feb</td>\n",
       "      <td>12017</td>\n",
       "      <td>9</td>\n",
       "      <td>Thursday</td>\n",
       "    </tr>\n",
       "    <tr>\n",
       "      <th>...</th>\n",
       "      <td>...</td>\n",
       "      <td>...</td>\n",
       "      <td>...</td>\n",
       "      <td>...</td>\n",
       "      <td>...</td>\n",
       "      <td>...</td>\n",
       "      <td>...</td>\n",
       "      <td>...</td>\n",
       "      <td>...</td>\n",
       "      <td>...</td>\n",
       "      <td>...</td>\n",
       "      <td>...</td>\n",
       "    </tr>\n",
       "    <tr>\n",
       "      <th>1451</th>\n",
       "      <td>2021-01-26</td>\n",
       "      <td>2020</td>\n",
       "      <td>4</td>\n",
       "      <td>12</td>\n",
       "      <td>3</td>\n",
       "      <td>52</td>\n",
       "      <td>2</td>\n",
       "      <td>January</td>\n",
       "      <td>20-Jan</td>\n",
       "      <td>42020</td>\n",
       "      <td>26</td>\n",
       "      <td>Tuesday</td>\n",
       "    </tr>\n",
       "    <tr>\n",
       "      <th>1452</th>\n",
       "      <td>2021-01-27</td>\n",
       "      <td>2020</td>\n",
       "      <td>4</td>\n",
       "      <td>12</td>\n",
       "      <td>3</td>\n",
       "      <td>52</td>\n",
       "      <td>3</td>\n",
       "      <td>January</td>\n",
       "      <td>20-Jan</td>\n",
       "      <td>42020</td>\n",
       "      <td>27</td>\n",
       "      <td>Wednesday</td>\n",
       "    </tr>\n",
       "    <tr>\n",
       "      <th>1453</th>\n",
       "      <td>2021-01-28</td>\n",
       "      <td>2020</td>\n",
       "      <td>4</td>\n",
       "      <td>12</td>\n",
       "      <td>3</td>\n",
       "      <td>52</td>\n",
       "      <td>4</td>\n",
       "      <td>January</td>\n",
       "      <td>20-Jan</td>\n",
       "      <td>42020</td>\n",
       "      <td>28</td>\n",
       "      <td>Thursday</td>\n",
       "    </tr>\n",
       "    <tr>\n",
       "      <th>1454</th>\n",
       "      <td>2021-01-29</td>\n",
       "      <td>2020</td>\n",
       "      <td>4</td>\n",
       "      <td>12</td>\n",
       "      <td>3</td>\n",
       "      <td>52</td>\n",
       "      <td>5</td>\n",
       "      <td>January</td>\n",
       "      <td>20-Jan</td>\n",
       "      <td>42020</td>\n",
       "      <td>29</td>\n",
       "      <td>Friday</td>\n",
       "    </tr>\n",
       "    <tr>\n",
       "      <th>1455</th>\n",
       "      <td>2021-01-30</td>\n",
       "      <td>2020</td>\n",
       "      <td>4</td>\n",
       "      <td>12</td>\n",
       "      <td>3</td>\n",
       "      <td>52</td>\n",
       "      <td>6</td>\n",
       "      <td>January</td>\n",
       "      <td>20-Jan</td>\n",
       "      <td>42020</td>\n",
       "      <td>30</td>\n",
       "      <td>Saturday</td>\n",
       "    </tr>\n",
       "  </tbody>\n",
       "</table>\n",
       "<p>1456 rows × 12 columns</p>\n",
       "</div>"
      ],
      "text/plain": [
       "            Date  FiscalYear  FiscalQuarter  FiscalMonthNumber  \\\n",
       "0     2017-02-05        2017              1                  1   \n",
       "1     2017-02-06        2017              1                  1   \n",
       "2     2017-02-07        2017              1                  1   \n",
       "3     2017-02-08        2017              1                  1   \n",
       "4     2017-02-09        2017              1                  1   \n",
       "...          ...         ...            ...                ...   \n",
       "1451  2021-01-26        2020              4                 12   \n",
       "1452  2021-01-27        2020              4                 12   \n",
       "1453  2021-01-28        2020              4                 12   \n",
       "1454  2021-01-29        2020              4                 12   \n",
       "1455  2021-01-30        2020              4                 12   \n",
       "\n",
       "      FiscalMonthOfQuarter  FiscalWeekOfYear  DayOfWeek FiscalMonthName  \\\n",
       "0                        1                 1          0        February   \n",
       "1                        1                 1          1        February   \n",
       "2                        1                 1          2        February   \n",
       "3                        1                 1          3        February   \n",
       "4                        1                 1          4        February   \n",
       "...                    ...               ...        ...             ...   \n",
       "1451                     3                52          2         January   \n",
       "1452                     3                52          3         January   \n",
       "1453                     3                52          4         January   \n",
       "1454                     3                52          5         January   \n",
       "1455                     3                52          6         January   \n",
       "\n",
       "     FiscalMonthYear  FiscalQuarterYear  DayOfMonthNumber    DayName  \n",
       "0             17-Feb              12017                 5     Sunday  \n",
       "1             17-Feb              12017                 6     Monday  \n",
       "2             17-Feb              12017                 7    Tuesday  \n",
       "3             17-Feb              12017                 8  Wednesday  \n",
       "4             17-Feb              12017                 9   Thursday  \n",
       "...              ...                ...               ...        ...  \n",
       "1451          20-Jan              42020                26    Tuesday  \n",
       "1452          20-Jan              42020                27  Wednesday  \n",
       "1453          20-Jan              42020                28   Thursday  \n",
       "1454          20-Jan              42020                29     Friday  \n",
       "1455          20-Jan              42020                30   Saturday  \n",
       "\n",
       "[1456 rows x 12 columns]"
      ]
     },
     "execution_count": 15,
     "metadata": {},
     "output_type": "execute_result"
    }
   ],
   "source": [
    "calendar = pd.read_csv('454_calendar.csv')\n",
    "\n",
    "calendar"
   ]
  },
  {
   "cell_type": "code",
   "execution_count": 20,
   "id": "32443834",
   "metadata": {},
   "outputs": [
    {
     "name": "stderr",
     "output_type": "stream",
     "text": [
      "C:\\ProgramData\\Anaconda3\\lib\\site-packages\\IPython\\core\\interactiveshell.py:3165: DtypeWarning: Columns (3) have mixed types.Specify dtype option on import or set low_memory=False.\n",
      "  has_raised = await self.run_ast_nodes(code_ast.body, cell_name,\n"
     ]
    },
    {
     "name": "stdout",
     "output_type": "stream",
     "text": [
      "(11740667, 18)\n",
      "(8807303, 18)\n",
      "(6044050, 19)\n",
      "(1734051, 19)\n"
     ]
    }
   ],
   "source": [
    "taxi_trips_2017 = pd.read_csv('taxi_trips/2017_taxi_trips.csv')\n",
    "taxi_trips_2018 = pd.read_csv('taxi_trips/2018_taxi_trips.csv')\n",
    "taxi_trips_2019 = pd.read_csv('taxi_trips/2019_taxi_trips.csv')\n",
    "taxi_trips_2020 = pd.read_csv('taxi_trips/2020_taxi_trips.csv')\n",
    "\n",
    "print(taxi_trips_2017.shape)\n",
    "print(taxi_trips_2018.shape)\n",
    "print(taxi_trips_2019.shape)\n",
    "print(taxi_trips_2020.shape)"
   ]
  },
  {
   "cell_type": "code",
   "execution_count": 22,
   "id": "27de5746",
   "metadata": {},
   "outputs": [
    {
     "name": "stdout",
     "output_type": "stream",
     "text": [
      "<class 'pandas.core.frame.DataFrame'>\n",
      "RangeIndex: 11740667 entries, 0 to 11740666\n",
      "Data columns (total 18 columns):\n",
      " #   Column                 Dtype  \n",
      "---  ------                 -----  \n",
      " 0   VendorID               int64  \n",
      " 1   lpep_pickup_datetime   object \n",
      " 2   lpep_dropoff_datetime  object \n",
      " 3   store_and_fwd_flag     object \n",
      " 4   RatecodeID             int64  \n",
      " 5   PULocationID           int64  \n",
      " 6   DOLocationID           int64  \n",
      " 7   passenger_count        int64  \n",
      " 8   trip_distance          float64\n",
      " 9   fare_amount            float64\n",
      " 10  extra                  float64\n",
      " 11  mta_tax                float64\n",
      " 12  tip_amount             float64\n",
      " 13  tolls_amount           float64\n",
      " 14  improvement_surcharge  float64\n",
      " 15  total_amount           float64\n",
      " 16  payment_type           int64  \n",
      " 17  trip_type              float64\n",
      "dtypes: float64(9), int64(6), object(3)\n",
      "memory usage: 1.6+ GB\n"
     ]
    }
   ],
   "source": [
    "taxi_trips_2017.info()"
   ]
  },
  {
   "cell_type": "code",
   "execution_count": 23,
   "id": "f6a84ed5",
   "metadata": {},
   "outputs": [
    {
     "name": "stdout",
     "output_type": "stream",
     "text": [
      "<class 'pandas.core.frame.DataFrame'>\n",
      "RangeIndex: 8807303 entries, 0 to 8807302\n",
      "Data columns (total 18 columns):\n",
      " #   Column                 Dtype  \n",
      "---  ------                 -----  \n",
      " 0   VendorID               int64  \n",
      " 1   lpep_pickup_datetime   object \n",
      " 2   lpep_dropoff_datetime  object \n",
      " 3   store_and_fwd_flag     object \n",
      " 4   RatecodeID             int64  \n",
      " 5   PULocationID           int64  \n",
      " 6   DOLocationID           int64  \n",
      " 7   passenger_count        int64  \n",
      " 8   trip_distance          float64\n",
      " 9   fare_amount            float64\n",
      " 10  extra                  float64\n",
      " 11  mta_tax                float64\n",
      " 12  tip_amount             float64\n",
      " 13  tolls_amount           float64\n",
      " 14  improvement_surcharge  float64\n",
      " 15  total_amount           float64\n",
      " 16  payment_type           int64  \n",
      " 17  trip_type              float64\n",
      "dtypes: float64(9), int64(6), object(3)\n",
      "memory usage: 1.2+ GB\n"
     ]
    }
   ],
   "source": [
    "taxi_trips_2018.info()"
   ]
  },
  {
   "cell_type": "code",
   "execution_count": 24,
   "id": "8834b859",
   "metadata": {},
   "outputs": [
    {
     "name": "stdout",
     "output_type": "stream",
     "text": [
      "<class 'pandas.core.frame.DataFrame'>\n",
      "RangeIndex: 6044050 entries, 0 to 6044049\n",
      "Data columns (total 19 columns):\n",
      " #   Column                 Dtype  \n",
      "---  ------                 -----  \n",
      " 0   VendorID               float64\n",
      " 1   lpep_pickup_datetime   object \n",
      " 2   lpep_dropoff_datetime  object \n",
      " 3   store_and_fwd_flag     object \n",
      " 4   RatecodeID             float64\n",
      " 5   PULocationID           int64  \n",
      " 6   DOLocationID           int64  \n",
      " 7   passenger_count        float64\n",
      " 8   trip_distance          float64\n",
      " 9   fare_amount            float64\n",
      " 10  extra                  float64\n",
      " 11  mta_tax                float64\n",
      " 12  tip_amount             float64\n",
      " 13  tolls_amount           float64\n",
      " 14  improvement_surcharge  float64\n",
      " 15  total_amount           float64\n",
      " 16  payment_type           float64\n",
      " 17  trip_type              float64\n",
      " 18  congestion_surcharge   float64\n",
      "dtypes: float64(14), int64(2), object(3)\n",
      "memory usage: 876.1+ MB\n"
     ]
    }
   ],
   "source": [
    "taxi_trips_2019.info()"
   ]
  },
  {
   "cell_type": "code",
   "execution_count": 25,
   "id": "67928c89",
   "metadata": {},
   "outputs": [
    {
     "name": "stdout",
     "output_type": "stream",
     "text": [
      "<class 'pandas.core.frame.DataFrame'>\n",
      "RangeIndex: 1734051 entries, 0 to 1734050\n",
      "Data columns (total 19 columns):\n",
      " #   Column                 Dtype  \n",
      "---  ------                 -----  \n",
      " 0   VendorID               float64\n",
      " 1   lpep_pickup_datetime   object \n",
      " 2   lpep_dropoff_datetime  object \n",
      " 3   store_and_fwd_flag     object \n",
      " 4   RatecodeID             float64\n",
      " 5   PULocationID           int64  \n",
      " 6   DOLocationID           int64  \n",
      " 7   passenger_count        float64\n",
      " 8   trip_distance          float64\n",
      " 9   fare_amount            float64\n",
      " 10  extra                  float64\n",
      " 11  mta_tax                float64\n",
      " 12  tip_amount             float64\n",
      " 13  tolls_amount           float64\n",
      " 14  improvement_surcharge  float64\n",
      " 15  total_amount           float64\n",
      " 16  payment_type           float64\n",
      " 17  trip_type              float64\n",
      " 18  congestion_surcharge   float64\n",
      "dtypes: float64(14), int64(2), object(3)\n",
      "memory usage: 251.4+ MB\n"
     ]
    }
   ],
   "source": [
    "taxi_trips_2020.info()"
   ]
  },
  {
   "cell_type": "code",
   "execution_count": 29,
   "id": "aaf58a91",
   "metadata": {},
   "outputs": [
    {
     "data": {
      "text/plain": [
       " 0.00    4346092\n",
       " 2.75     732668\n",
       " 2.50       4651\n",
       " 0.75         73\n",
       "-2.75         72\n",
       " 2.00          2\n",
       "-2.50          1\n",
       "-0.75          1\n",
       " 0.30          1\n",
       "Name: congestion_surcharge, dtype: int64"
      ]
     },
     "execution_count": 29,
     "metadata": {},
     "output_type": "execute_result"
    }
   ],
   "source": [
    "taxi_trips_2019['congestion_surcharge'].value_counts()"
   ]
  },
  {
   "cell_type": "code",
   "execution_count": 30,
   "id": "0c8c77f0",
   "metadata": {},
   "outputs": [
    {
     "data": {
      "text/plain": [
       " 0.00    993526\n",
       " 2.75    211706\n",
       " 2.50       709\n",
       "-2.75        11\n",
       " 0.75         7\n",
       "Name: congestion_surcharge, dtype: int64"
      ]
     },
     "execution_count": 30,
     "metadata": {},
     "output_type": "execute_result"
    }
   ],
   "source": [
    "taxi_trips_2020['congestion_surcharge'].value_counts()"
   ]
  },
  {
   "cell_type": "code",
   "execution_count": 33,
   "id": "02bf1ec7",
   "metadata": {},
   "outputs": [
    {
     "name": "stdout",
     "output_type": "stream",
     "text": [
      "(11740667, 19)\n",
      "(8807303, 19)\n"
     ]
    }
   ],
   "source": [
    "# congestion_surcharge is missing from taxi_trips_2017 and taxi_trips_2018. Adding the column to make all dataframes same width before concatenating the dataframes\n",
    "taxi_trips_2017['congestion_surcharge'] = 0.0\n",
    "taxi_trips_2018['congestion_surcharge'] = 0.0\n",
    "\n",
    "print(taxi_trips_2017.shape)\n",
    "print(taxi_trips_2018.shape)"
   ]
  },
  {
   "cell_type": "code",
   "execution_count": 43,
   "id": "f2486091",
   "metadata": {},
   "outputs": [
    {
     "data": {
      "text/plain": [
       "(28326071, 19)"
      ]
     },
     "execution_count": 43,
     "metadata": {},
     "output_type": "execute_result"
    }
   ],
   "source": [
    "# Concating all taxi trips\n",
    "taxi_trips = pd.concat([taxi_trips_2017, taxi_trips_2018, taxi_trips_2019, taxi_trips_2020]).reset_index(drop = True)\n",
    "\n",
    "taxi_trips.shape"
   ]
  },
  {
   "cell_type": "code",
   "execution_count": 47,
   "id": "a6b82dc6",
   "metadata": {},
   "outputs": [
    {
     "name": "stdout",
     "output_type": "stream",
     "text": [
      "Total rows in concatenated dataframe: 28326071\n",
      "Rows in each dataframe added up: 28326071\n"
     ]
    }
   ],
   "source": [
    "# Verifying the number of rows\n",
    "print(\"Total rows in concatenated dataframe: {}\".format(taxi_trips.shape[0]))\n",
    "print(\"Rows in each dataframe added up: {}\".format(taxi_trips_2017.shape[0] + taxi_trips_2018.shape[0] + taxi_trips_2019.shape[0] + taxi_trips_2020.shape[0]))"
   ]
  },
  {
   "cell_type": "code",
   "execution_count": 48,
   "id": "6c5f0e02",
   "metadata": {},
   "outputs": [
    {
     "name": "stdout",
     "output_type": "stream",
     "text": [
      "<class 'pandas.core.frame.DataFrame'>\n",
      "RangeIndex: 28326071 entries, 0 to 28326070\n",
      "Data columns (total 19 columns):\n",
      " #   Column                 Dtype  \n",
      "---  ------                 -----  \n",
      " 0   VendorID               float64\n",
      " 1   lpep_pickup_datetime   object \n",
      " 2   lpep_dropoff_datetime  object \n",
      " 3   store_and_fwd_flag     object \n",
      " 4   RatecodeID             float64\n",
      " 5   PULocationID           int64  \n",
      " 6   DOLocationID           int64  \n",
      " 7   passenger_count        float64\n",
      " 8   trip_distance          float64\n",
      " 9   fare_amount            float64\n",
      " 10  extra                  float64\n",
      " 11  mta_tax                float64\n",
      " 12  tip_amount             float64\n",
      " 13  tolls_amount           float64\n",
      " 14  improvement_surcharge  float64\n",
      " 15  total_amount           float64\n",
      " 16  payment_type           float64\n",
      " 17  trip_type              float64\n",
      " 18  congestion_surcharge   float64\n",
      "dtypes: float64(14), int64(2), object(3)\n",
      "memory usage: 4.0+ GB\n"
     ]
    }
   ],
   "source": [
    "taxi_trips.info()"
   ]
  },
  {
   "cell_type": "markdown",
   "id": "8ecbee94",
   "metadata": {},
   "source": [
    "## Data Types"
   ]
  },
  {
   "cell_type": "markdown",
   "id": "22cd4e65",
   "metadata": {},
   "source": [
    "<div class=\"alert alert-block alert-info\">\n",
    "    <h4>Data Types Inferred from Data Dictionary</h4><br>\n",
    "    <b>VendorID:</b> Integer<br>\n",
    "    <b>lpep_pickup_datetime:</b> DateTime - Done<br>\n",
    "    <b>lpep_dropoff_datetime:</b> DateTime - Done<br>\n",
    "    <b>store_and_fwd_flag:</b> String - Correct<br>\n",
    "    <b>RatecodeID:</b> Integer<br>\n",
    "    <b>PULocationID:</b> Integer - Correct<br>\n",
    "    <b>DOLocationID:</b> Integer - Correct<br>\n",
    "    <b>passenger_count:</b> Integer<br>\n",
    "    <b>trip_distance:</b> Float - Correct<br>\n",
    "    <b>fare_amount:</b> Float - Correct<br>\n",
    "    <b>extra:</b> Float - Correct<br>\n",
    "    <b>mta_tax:</b> Float - Correct<br>\n",
    "    <b>tip_amount:</b> Float - Correct<br>\n",
    "    <b>tolls_amount:</b> Float - Correct<br>\n",
    "    <b>improvement_surcharge:</b> Float - Correct<br>\n",
    "    <b>total_amount:</b> Float - Correct<br>\n",
    "    <b>payment_type:</b> Integer<br>\n",
    "    <b>trip_type:</b> Integer<br>\n",
    "    <b>congestion_surcharge:</b> Float - Correct<br>\n",
    "</div>"
   ]
  },
  {
   "cell_type": "markdown",
   "id": "2d02c53e",
   "metadata": {},
   "source": [
    "##### Converting String to DateTime format"
   ]
  },
  {
   "cell_type": "code",
   "execution_count": 65,
   "id": "a9b61dbb",
   "metadata": {},
   "outputs": [
    {
     "name": "stdout",
     "output_type": "stream",
     "text": [
      "datetime64[ns]\n",
      "datetime64[ns]\n"
     ]
    }
   ],
   "source": [
    "taxi_trips['lpep_pickup_datetime'] = pd.to_datetime(taxi_trips['lpep_pickup_datetime'])\n",
    "taxi_trips['lpep_dropoff_datetime'] = pd.to_datetime(taxi_trips['lpep_dropoff_datetime'])\n",
    "\n",
    "print(taxi_trips['lpep_pickup_datetime'].dtype)\n",
    "print(taxi_trips['lpep_dropoff_datetime'].dtype)"
   ]
  },
  {
   "cell_type": "markdown",
   "id": "154b1372",
   "metadata": {},
   "source": [
    "<div class=\"alert alert-block alert-info\">\n",
    "    <h4>Data Types Inferred from Data Dictionary</h4><br>\n",
    "    <b>VendorID:</b> Integer<br>\n",
    "    <b>RatecodeID:</b> Integer<br>\n",
    "    <b>passenger_count:</b> Integer<br>\n",
    "    <b>payment_type:</b> Integer<br>\n",
    "    <b>trip_type:</b> Integer<br>\n",
    "</div>"
   ]
  },
  {
   "cell_type": "markdown",
   "id": "d3f57a62",
   "metadata": {},
   "source": [
    "##### Converting Float to Integer"
   ]
  },
  {
   "cell_type": "code",
   "execution_count": 82,
   "id": "cbf256c0",
   "metadata": {},
   "outputs": [
    {
     "name": "stdout",
     "output_type": "stream",
     "text": [
      "2    22569744\n",
      "1     4814128\n",
      "0      942199\n",
      "Name: VendorID, dtype: int64\n",
      "1     26555346\n",
      "0       942199\n",
      "5       740222\n",
      "2        55534\n",
      "4        18498\n",
      "3        13769\n",
      "6          349\n",
      "99         154\n",
      "Name: RatecodeID, dtype: int64\n",
      "1    23244224\n",
      "2     2117741\n",
      "0      971300\n",
      "5      909801\n",
      "6      468953\n",
      "3      455954\n",
      "4      156794\n",
      "8         596\n",
      "7         538\n",
      "9         170\n",
      "Name: passenger_count, dtype: int64\n",
      "1    14793538\n",
      "2    12392982\n",
      "0      942199\n",
      "3      132220\n",
      "4       63966\n",
      "5        1166\n",
      "Name: payment_type, dtype: int64\n",
      "1    26640078\n",
      "0      942653\n",
      "2      743340\n",
      "Name: trip_type, dtype: int64\n"
     ]
    }
   ],
   "source": [
    "# Checking values in columns to see if it matches data dictionary\n",
    "print(taxi_trips['VendorID'].value_counts())\n",
    "print(taxi_trips['RatecodeID'].value_counts())\n",
    "print(taxi_trips['passenger_count'].value_counts())\n",
    "print(taxi_trips['payment_type'].value_counts())\n",
    "print(taxi_trips['trip_type'].value_counts())"
   ]
  },
  {
   "cell_type": "code",
   "execution_count": 76,
   "id": "c4802ef5",
   "metadata": {},
   "outputs": [],
   "source": [
    "taxi_trips['VendorID'] = taxi_trips['VendorID'].fillna(0.0).astype(int)\n",
    "taxi_trips['RatecodeID'] = taxi_trips['RatecodeID'].fillna(0.0).astype(int)\n",
    "taxi_trips['passenger_count'] = taxi_trips['passenger_count'].fillna(0.0).astype(int)\n",
    "taxi_trips['payment_type'] = taxi_trips['payment_type'].fillna(0.0).astype(int)\n",
    "taxi_trips['trip_type'] = taxi_trips['trip_type'].fillna(0.0).astype(int)"
   ]
  },
  {
   "cell_type": "code",
   "execution_count": 71,
   "id": "be1cd49e",
   "metadata": {},
   "outputs": [
    {
     "data": {
      "text/html": [
       "<div>\n",
       "<style scoped>\n",
       "    .dataframe tbody tr th:only-of-type {\n",
       "        vertical-align: middle;\n",
       "    }\n",
       "\n",
       "    .dataframe tbody tr th {\n",
       "        vertical-align: top;\n",
       "    }\n",
       "\n",
       "    .dataframe thead th {\n",
       "        text-align: right;\n",
       "    }\n",
       "</style>\n",
       "<table border=\"1\" class=\"dataframe\">\n",
       "  <thead>\n",
       "    <tr style=\"text-align: right;\">\n",
       "      <th></th>\n",
       "      <th>Field</th>\n",
       "      <th>Description</th>\n",
       "    </tr>\n",
       "  </thead>\n",
       "  <tbody>\n",
       "    <tr>\n",
       "      <th>0</th>\n",
       "      <td>VendorID</td>\n",
       "      <td>A code indicating the LPEP provider that provided the record (1= Creative Mobile Technologies, LLC; 2= Verifone Inc.)</td>\n",
       "    </tr>\n",
       "    <tr>\n",
       "      <th>1</th>\n",
       "      <td>lpep_pickup_datetime</td>\n",
       "      <td>The date and time when the meter was engaged</td>\n",
       "    </tr>\n",
       "    <tr>\n",
       "      <th>2</th>\n",
       "      <td>lpep_dropoff_datetime</td>\n",
       "      <td>The date and time when the meter was disengaged</td>\n",
       "    </tr>\n",
       "    <tr>\n",
       "      <th>3</th>\n",
       "      <td>store_and_fwd_flag</td>\n",
       "      <td>This flag indicates whether the trip record was held in vehicle memory before sending to the vendor, aka �store and forward,� because the vehicle did not have a connection to the server (Y= store and forward trip; N= not a store and forward trip)</td>\n",
       "    </tr>\n",
       "    <tr>\n",
       "      <th>4</th>\n",
       "      <td>RatecodeID</td>\n",
       "      <td>The final rate code in effect at the end of the trip (1= Standard rate; 2= JFK; 3= Newark; 4= Nassau or Westchester; 5= Negotiated fare; 6= Group ride)</td>\n",
       "    </tr>\n",
       "    <tr>\n",
       "      <th>5</th>\n",
       "      <td>PULocationID</td>\n",
       "      <td>TLC Taxi Zone in which the taximeter was engaged</td>\n",
       "    </tr>\n",
       "    <tr>\n",
       "      <th>6</th>\n",
       "      <td>DOLocationID</td>\n",
       "      <td>TLC Taxi Zone in which the taximeter was disengaged</td>\n",
       "    </tr>\n",
       "    <tr>\n",
       "      <th>7</th>\n",
       "      <td>passenger_count</td>\n",
       "      <td>The number of passengers in the vehicle (this is a driver entered value)</td>\n",
       "    </tr>\n",
       "    <tr>\n",
       "      <th>8</th>\n",
       "      <td>trip_distance</td>\n",
       "      <td>The elapsed trip distance in miles reported by the taximeter</td>\n",
       "    </tr>\n",
       "    <tr>\n",
       "      <th>9</th>\n",
       "      <td>fare_amount</td>\n",
       "      <td>The time-and-distance fare calculated by the meter</td>\n",
       "    </tr>\n",
       "    <tr>\n",
       "      <th>10</th>\n",
       "      <td>extra</td>\n",
       "      <td>Miscellaneous extras and surcharges (this only includes the $0.50 and $1 rush hour and overnight charges)</td>\n",
       "    </tr>\n",
       "    <tr>\n",
       "      <th>11</th>\n",
       "      <td>mta_tax</td>\n",
       "      <td>$0.50 MTA tax that is automatically triggered based on the metered rate in use</td>\n",
       "    </tr>\n",
       "    <tr>\n",
       "      <th>12</th>\n",
       "      <td>tip_amount</td>\n",
       "      <td>Tip amount (automatically populated for credit card tips - cash tips are not included)</td>\n",
       "    </tr>\n",
       "    <tr>\n",
       "      <th>13</th>\n",
       "      <td>tolls_amount</td>\n",
       "      <td>Total amount of all tolls paid in trip</td>\n",
       "    </tr>\n",
       "    <tr>\n",
       "      <th>14</th>\n",
       "      <td>improvement_surcharge</td>\n",
       "      <td>$0.30 improvement surcharge assessed on hailed trips at the flag drop</td>\n",
       "    </tr>\n",
       "    <tr>\n",
       "      <th>15</th>\n",
       "      <td>total_amount</td>\n",
       "      <td>The total amount charged to passengers (does not include cash tips)</td>\n",
       "    </tr>\n",
       "    <tr>\n",
       "      <th>16</th>\n",
       "      <td>payment_type</td>\n",
       "      <td>A numeric code signifying how the passenger paid for the trip (1= Credit card; 2= Cash; 3= No charge; 4= Dispute; 5= Unknown; 6= Voided trip)</td>\n",
       "    </tr>\n",
       "    <tr>\n",
       "      <th>17</th>\n",
       "      <td>trip_type</td>\n",
       "      <td>A code indicating whether the trip was a street-hail or a dispatch that is automatically assigned based on the metered rate in use but can be altered by the driver (1= Street-hail; 2= Dispatch)</td>\n",
       "    </tr>\n",
       "    <tr>\n",
       "      <th>18</th>\n",
       "      <td>congestion_surcharge</td>\n",
       "      <td>Congestion surcharge for trips that start, end or pass through the congestion zone in Manhattan, south of 96th street ($2.50 for non-shared trips in Yellow Taxis; $2.75 for non-shared trips in Green Taxis)</td>\n",
       "    </tr>\n",
       "  </tbody>\n",
       "</table>\n",
       "</div>"
      ],
      "text/plain": [
       "                    Field  \\\n",
       "0                VendorID   \n",
       "1    lpep_pickup_datetime   \n",
       "2   lpep_dropoff_datetime   \n",
       "3      store_and_fwd_flag   \n",
       "4              RatecodeID   \n",
       "5            PULocationID   \n",
       "6            DOLocationID   \n",
       "7         passenger_count   \n",
       "8           trip_distance   \n",
       "9             fare_amount   \n",
       "10                  extra   \n",
       "11                mta_tax   \n",
       "12             tip_amount   \n",
       "13           tolls_amount   \n",
       "14  improvement_surcharge   \n",
       "15           total_amount   \n",
       "16           payment_type   \n",
       "17              trip_type   \n",
       "18   congestion_surcharge   \n",
       "\n",
       "                                                                                                                                                                                                                                               Description  \n",
       "0                                                                                                                                    A code indicating the LPEP provider that provided the record (1= Creative Mobile Technologies, LLC; 2= Verifone Inc.)  \n",
       "1                                                                                                                                                                                                             The date and time when the meter was engaged  \n",
       "2                                                                                                                                                                                                          The date and time when the meter was disengaged  \n",
       "3   This flag indicates whether the trip record was held in vehicle memory before sending to the vendor, aka �store and forward,� because the vehicle did not have a connection to the server (Y= store and forward trip; N= not a store and forward trip)  \n",
       "4                                                                                                  The final rate code in effect at the end of the trip (1= Standard rate; 2= JFK; 3= Newark; 4= Nassau or Westchester; 5= Negotiated fare; 6= Group ride)  \n",
       "5                                                                                                                                                                                                         TLC Taxi Zone in which the taximeter was engaged  \n",
       "6                                                                                                                                                                                                      TLC Taxi Zone in which the taximeter was disengaged  \n",
       "7                                                                                                                                                                                 The number of passengers in the vehicle (this is a driver entered value)  \n",
       "8                                                                                                                                                                                             The elapsed trip distance in miles reported by the taximeter  \n",
       "9                                                                                                                                                                                                       The time-and-distance fare calculated by the meter  \n",
       "10                                                                                                                                               Miscellaneous extras and surcharges (this only includes the $0.50 and $1 rush hour and overnight charges)  \n",
       "11                                                                                                                                                                          $0.50 MTA tax that is automatically triggered based on the metered rate in use  \n",
       "12                                                                                                                                                                  Tip amount (automatically populated for credit card tips - cash tips are not included)  \n",
       "13                                                                                                                                                                                                                  Total amount of all tolls paid in trip  \n",
       "14                                                                                                                                                                                   $0.30 improvement surcharge assessed on hailed trips at the flag drop  \n",
       "15                                                                                                                                                                                     The total amount charged to passengers (does not include cash tips)  \n",
       "16                                                                                                           A numeric code signifying how the passenger paid for the trip (1= Credit card; 2= Cash; 3= No charge; 4= Dispute; 5= Unknown; 6= Voided trip)  \n",
       "17                                                       A code indicating whether the trip was a street-hail or a dispatch that is automatically assigned based on the metered rate in use but can be altered by the driver (1= Street-hail; 2= Dispatch)  \n",
       "18                                           Congestion surcharge for trips that start, end or pass through the congestion zone in Manhattan, south of 96th street ($2.50 for non-shared trips in Yellow Taxis; $2.75 for non-shared trips in Green Taxis)  "
      ]
     },
     "execution_count": 71,
     "metadata": {},
     "output_type": "execute_result"
    }
   ],
   "source": [
    "data_dictionary"
   ]
  },
  {
   "cell_type": "markdown",
   "id": "b7e28821",
   "metadata": {},
   "source": [
    "## Column Values"
   ]
  },
  {
   "cell_type": "markdown",
   "id": "8b28dcb6",
   "metadata": {},
   "source": [
    "##### VendorID"
   ]
  },
  {
   "cell_type": "code",
   "execution_count": 78,
   "id": "65e7c8bb",
   "metadata": {},
   "outputs": [
    {
     "data": {
      "text/plain": [
       "2    22569744\n",
       "1     4814128\n",
       "0      942199\n",
       "Name: VendorID, dtype: int64"
      ]
     },
     "execution_count": 78,
     "metadata": {},
     "output_type": "execute_result"
    }
   ],
   "source": [
    "# Checking values in VendorID\n",
    "taxi_trips['VendorID'].value_counts()"
   ]
  },
  {
   "cell_type": "code",
   "execution_count": 83,
   "id": "ec8358b8",
   "metadata": {},
   "outputs": [
    {
     "data": {
      "text/plain": [
       "array([1, 2, 0])"
      ]
     },
     "execution_count": 83,
     "metadata": {},
     "output_type": "execute_result"
    }
   ],
   "source": [
    "# Checking values in VendorID\n",
    "taxi_trips['VendorID'].unique()"
   ]
  },
  {
   "cell_type": "code",
   "execution_count": 87,
   "id": "d91c142f",
   "metadata": {},
   "outputs": [
    {
     "data": {
      "text/plain": [
       "Verifone Inc.                        22569744\n",
       "Creative Mobile Technologies, LLC     4814128\n",
       "Name: Vendor, dtype: int64"
      ]
     },
     "execution_count": 87,
     "metadata": {},
     "output_type": "execute_result"
    }
   ],
   "source": [
    "taxi_trips['Vendor'] = taxi_trips['VendorID'].map({1: 'Creative Mobile Technologies, LLC', 2: 'Verifone Inc.'})\n",
    "\n",
    "taxi_trips['Vendor'].value_counts()"
   ]
  },
  {
   "cell_type": "code",
   "execution_count": 89,
   "id": "43383365",
   "metadata": {},
   "outputs": [
    {
     "data": {
      "text/plain": [
       "array(['Creative Mobile Technologies, LLC', 'Verifone Inc.', nan],\n",
       "      dtype=object)"
      ]
     },
     "execution_count": 89,
     "metadata": {},
     "output_type": "execute_result"
    }
   ],
   "source": [
    "taxi_trips['Vendor'].unique()"
   ]
  },
  {
   "cell_type": "markdown",
   "id": "d18a4264",
   "metadata": {},
   "source": [
    "##### store_and_fwd_flag"
   ]
  },
  {
   "cell_type": "code",
   "execution_count": 90,
   "id": "a2e83a6b",
   "metadata": {},
   "outputs": [
    {
     "data": {
      "text/plain": [
       "N    27330950\n",
       "Y       52922\n",
       "Name: store_and_fwd_flag, dtype: int64"
      ]
     },
     "execution_count": 90,
     "metadata": {},
     "output_type": "execute_result"
    }
   ],
   "source": [
    "# Checking values in VendorID\n",
    "taxi_trips['store_and_fwd_flag'].value_counts()"
   ]
  },
  {
   "cell_type": "code",
   "execution_count": 91,
   "id": "61cc91b1",
   "metadata": {},
   "outputs": [
    {
     "data": {
      "text/plain": [
       "array(['N', 'Y', nan], dtype=object)"
      ]
     },
     "execution_count": 91,
     "metadata": {},
     "output_type": "execute_result"
    }
   ],
   "source": [
    "# Checking values in VendorID\n",
    "taxi_trips['store_and_fwd_flag'].unique()"
   ]
  },
  {
   "cell_type": "markdown",
   "id": "c573529a",
   "metadata": {},
   "source": [
    "##### RatecodeID"
   ]
  },
  {
   "cell_type": "code",
   "execution_count": 92,
   "id": "9db0b71a",
   "metadata": {},
   "outputs": [
    {
     "data": {
      "text/plain": [
       "1     26555346\n",
       "0       942199\n",
       "5       740222\n",
       "2        55534\n",
       "4        18498\n",
       "3        13769\n",
       "6          349\n",
       "99         154\n",
       "Name: RatecodeID, dtype: int64"
      ]
     },
     "execution_count": 92,
     "metadata": {},
     "output_type": "execute_result"
    }
   ],
   "source": [
    "# Checking values in VendorID\n",
    "taxi_trips['RatecodeID'].value_counts()"
   ]
  },
  {
   "cell_type": "code",
   "execution_count": 97,
   "id": "dc379b82",
   "metadata": {},
   "outputs": [
    {
     "name": "stdout",
     "output_type": "stream",
     "text": [
      "[ 1  2  4  3  6 99  5  0]\n"
     ]
    }
   ],
   "source": [
    "# Checking values in VendorID\n",
    "print(taxi_trips['RatecodeID'].unique())"
   ]
  },
  {
   "cell_type": "code",
   "execution_count": 94,
   "id": "8eb0d8d2",
   "metadata": {},
   "outputs": [
    {
     "data": {
      "text/plain": [
       "Standard rate            26555346\n",
       "Unknown                    942353\n",
       "Negotiated fare            740222\n",
       "JFK                         55534\n",
       "Nassau or Westchester       18498\n",
       "Newark                      13769\n",
       "Group ride                    349\n",
       "Name: Ratecode, dtype: int64"
      ]
     },
     "execution_count": 94,
     "metadata": {},
     "output_type": "execute_result"
    }
   ],
   "source": [
    "rate_codes = {1 : 'Standard rate', 2 : 'JFK', 3 : 'Newark', 4 : 'Nassau or Westchester', 5 : 'Negotiated fare', 6 : 'Group ride', 0 : 'Unknown', 99 : 'Unknown'}\n",
    "\n",
    "taxi_trips['Ratecode'] = taxi_trips['RatecodeID'].map(rate_codes)\n",
    "\n",
    "taxi_trips['Ratecode'].value_counts()"
   ]
  },
  {
   "cell_type": "markdown",
   "id": "368ede74",
   "metadata": {},
   "source": [
    "##### PULocationID"
   ]
  },
  {
   "cell_type": "code",
   "execution_count": 100,
   "id": "c1952d23",
   "metadata": {},
   "outputs": [
    {
     "data": {
      "text/plain": [
       "74     1894141\n",
       "75     1629516\n",
       "41     1587500\n",
       "7      1300642\n",
       "82     1208719\n",
       "        ...   \n",
       "204         40\n",
       "12          33\n",
       "99          19\n",
       "199         15\n",
       "105          1\n",
       "Name: PULocationID, Length: 262, dtype: int64"
      ]
     },
     "execution_count": 100,
     "metadata": {},
     "output_type": "execute_result"
    }
   ],
   "source": [
    "# Checking values in VendorID\n",
    "taxi_trips['PULocationID'].value_counts()"
   ]
  },
  {
   "cell_type": "code",
   "execution_count": null,
   "id": "50613d7b",
   "metadata": {},
   "outputs": [],
   "source": [
    "# Merge PULocationID and DOLocationID with taxi_zones"
   ]
  }
 ],
 "metadata": {
  "kernelspec": {
   "display_name": "Python 3",
   "language": "python",
   "name": "python3"
  },
  "language_info": {
   "codemirror_mode": {
    "name": "ipython",
    "version": 3
   },
   "file_extension": ".py",
   "mimetype": "text/x-python",
   "name": "python",
   "nbconvert_exporter": "python",
   "pygments_lexer": "ipython3",
   "version": "3.8.8"
  }
 },
 "nbformat": 4,
 "nbformat_minor": 5
}
